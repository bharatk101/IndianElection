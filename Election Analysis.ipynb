{
 "cells": [
  {
   "cell_type": "markdown",
   "metadata": {},
   "source": [
    "# Indian Election Analysis"
   ]
  },
  {
   "cell_type": "markdown",
   "metadata": {},
   "source": [
    "### Import Packages"
   ]
  },
  {
   "cell_type": "code",
   "execution_count": 69,
   "metadata": {},
   "outputs": [
    {
     "data": {
      "text/html": [
       "<script type=\"text/javascript\">window.PlotlyConfig = {MathJaxConfig: 'local'};</script><script type=\"text/javascript\">if (window.MathJax) {MathJax.Hub.Config({SVG: {font: \"STIX-Web\"}});}</script><script>requirejs.config({paths: { 'plotly': ['https://cdn.plot.ly/plotly-latest.min']},});if(!window._Plotly) {require(['plotly'],function(plotly) {window._Plotly=plotly;});}</script>"
      ],
      "text/vnd.plotly.v1+html": [
       "<script type=\"text/javascript\">window.PlotlyConfig = {MathJaxConfig: 'local'};</script><script type=\"text/javascript\">if (window.MathJax) {MathJax.Hub.Config({SVG: {font: \"STIX-Web\"}});}</script><script>requirejs.config({paths: { 'plotly': ['https://cdn.plot.ly/plotly-latest.min']},});if(!window._Plotly) {require(['plotly'],function(plotly) {window._Plotly=plotly;});}</script>"
      ]
     },
     "metadata": {},
     "output_type": "display_data"
    }
   ],
   "source": [
    "# import packages\n",
    "import numpy as np\n",
    "import pandas as pd\n",
    "import plotly as py\n",
    "import plotly.graph_objs as go\n",
    "import ipywidgets as widgets\n",
    "from bubbly.bubbly import bubbleplot \n",
    "from plotly.offline import download_plotlyjs, init_notebook_mode, plot, iplot\n",
    "init_notebook_mode(connected=True)"
   ]
  },
  {
   "cell_type": "code",
   "execution_count": 2,
   "metadata": {},
   "outputs": [],
   "source": [
    "# read data\n",
    "nl = pd.read_table('nl.tab')  #national legislatures i.e Lok sabha"
   ]
  },
  {
   "cell_type": "code",
   "execution_count": 3,
   "metadata": {},
   "outputs": [
    {
     "data": {
      "text/html": [
       "<div>\n",
       "<style scoped>\n",
       "    .dataframe tbody tr th:only-of-type {\n",
       "        vertical-align: middle;\n",
       "    }\n",
       "\n",
       "    .dataframe tbody tr th {\n",
       "        vertical-align: top;\n",
       "    }\n",
       "\n",
       "    .dataframe thead th {\n",
       "        text-align: right;\n",
       "    }\n",
       "</style>\n",
       "<table border=\"1\" class=\"dataframe\">\n",
       "  <thead>\n",
       "    <tr style=\"text-align: right;\">\n",
       "      <th></th>\n",
       "      <th>st_name</th>\n",
       "      <th>year</th>\n",
       "      <th>pc_no</th>\n",
       "      <th>pc_name</th>\n",
       "      <th>pc_type</th>\n",
       "      <th>cand_name</th>\n",
       "      <th>cand_sex</th>\n",
       "      <th>partyname</th>\n",
       "      <th>partyabbre</th>\n",
       "      <th>totvotpoll</th>\n",
       "      <th>electors</th>\n",
       "    </tr>\n",
       "  </thead>\n",
       "  <tbody>\n",
       "    <tr>\n",
       "      <th>0</th>\n",
       "      <td>Andaman &amp; Nicobar Islands</td>\n",
       "      <td>1977</td>\n",
       "      <td>1</td>\n",
       "      <td>Andaman &amp; Nicobar Islands</td>\n",
       "      <td>GEN</td>\n",
       "      <td>K.R. Ganesh</td>\n",
       "      <td>M</td>\n",
       "      <td>Independents</td>\n",
       "      <td>IND</td>\n",
       "      <td>25168</td>\n",
       "      <td>85308</td>\n",
       "    </tr>\n",
       "    <tr>\n",
       "      <th>1</th>\n",
       "      <td>Andaman &amp; Nicobar Islands</td>\n",
       "      <td>1977</td>\n",
       "      <td>1</td>\n",
       "      <td>Andaman &amp; Nicobar Islands</td>\n",
       "      <td>GEN</td>\n",
       "      <td>Manoranjan Bhakta</td>\n",
       "      <td>M</td>\n",
       "      <td>Indian National Congress</td>\n",
       "      <td>INC</td>\n",
       "      <td>35400</td>\n",
       "      <td>85308</td>\n",
       "    </tr>\n",
       "    <tr>\n",
       "      <th>2</th>\n",
       "      <td>Andaman &amp; Nicobar Islands</td>\n",
       "      <td>1980</td>\n",
       "      <td>1</td>\n",
       "      <td>Andaman &amp; Nicobar Islands</td>\n",
       "      <td>GEN</td>\n",
       "      <td>Ramesh Mazumdar</td>\n",
       "      <td>M</td>\n",
       "      <td>Independents</td>\n",
       "      <td>IND</td>\n",
       "      <td>109</td>\n",
       "      <td>96084</td>\n",
       "    </tr>\n",
       "    <tr>\n",
       "      <th>3</th>\n",
       "      <td>Andaman &amp; Nicobar Islands</td>\n",
       "      <td>1980</td>\n",
       "      <td>1</td>\n",
       "      <td>Andaman &amp; Nicobar Islands</td>\n",
       "      <td>GEN</td>\n",
       "      <td>Alagiri Swamy</td>\n",
       "      <td>M</td>\n",
       "      <td>Independents</td>\n",
       "      <td>IND</td>\n",
       "      <td>125</td>\n",
       "      <td>96084</td>\n",
       "    </tr>\n",
       "    <tr>\n",
       "      <th>4</th>\n",
       "      <td>Andaman &amp; Nicobar Islands</td>\n",
       "      <td>1980</td>\n",
       "      <td>1</td>\n",
       "      <td>Andaman &amp; Nicobar Islands</td>\n",
       "      <td>GEN</td>\n",
       "      <td>Kannu Chemy</td>\n",
       "      <td>M</td>\n",
       "      <td>Independents</td>\n",
       "      <td>IND</td>\n",
       "      <td>405</td>\n",
       "      <td>96084</td>\n",
       "    </tr>\n",
       "  </tbody>\n",
       "</table>\n",
       "</div>"
      ],
      "text/plain": [
       "                     st_name  year  pc_no                    pc_name pc_type  \\\n",
       "0  Andaman & Nicobar Islands  1977      1  Andaman & Nicobar Islands     GEN   \n",
       "1  Andaman & Nicobar Islands  1977      1  Andaman & Nicobar Islands     GEN   \n",
       "2  Andaman & Nicobar Islands  1980      1  Andaman & Nicobar Islands     GEN   \n",
       "3  Andaman & Nicobar Islands  1980      1  Andaman & Nicobar Islands     GEN   \n",
       "4  Andaman & Nicobar Islands  1980      1  Andaman & Nicobar Islands     GEN   \n",
       "\n",
       "           cand_name cand_sex                 partyname partyabbre  \\\n",
       "0        K.R. Ganesh        M              Independents        IND   \n",
       "1  Manoranjan Bhakta        M  Indian National Congress        INC   \n",
       "2    Ramesh Mazumdar        M              Independents        IND   \n",
       "3      Alagiri Swamy        M              Independents        IND   \n",
       "4        Kannu Chemy        M              Independents        IND   \n",
       "\n",
       "   totvotpoll  electors  \n",
       "0       25168     85308  \n",
       "1       35400     85308  \n",
       "2         109     96084  \n",
       "3         125     96084  \n",
       "4         405     96084  "
      ]
     },
     "execution_count": 3,
     "metadata": {},
     "output_type": "execute_result"
    }
   ],
   "source": [
    "nl.head()"
   ]
  },
  {
   "cell_type": "code",
   "execution_count": 4,
   "metadata": {},
   "outputs": [
    {
     "data": {
      "text/html": [
       "<div>\n",
       "<style scoped>\n",
       "    .dataframe tbody tr th:only-of-type {\n",
       "        vertical-align: middle;\n",
       "    }\n",
       "\n",
       "    .dataframe tbody tr th {\n",
       "        vertical-align: top;\n",
       "    }\n",
       "\n",
       "    .dataframe thead th {\n",
       "        text-align: right;\n",
       "    }\n",
       "</style>\n",
       "<table border=\"1\" class=\"dataframe\">\n",
       "  <thead>\n",
       "    <tr style=\"text-align: right;\">\n",
       "      <th></th>\n",
       "      <th>st_name</th>\n",
       "      <th>year</th>\n",
       "      <th>pc_no</th>\n",
       "      <th>pc_name</th>\n",
       "      <th>pc_type</th>\n",
       "      <th>cand_name</th>\n",
       "      <th>cand_sex</th>\n",
       "      <th>partyname</th>\n",
       "      <th>partyabbre</th>\n",
       "      <th>totvotpoll</th>\n",
       "      <th>electors</th>\n",
       "    </tr>\n",
       "  </thead>\n",
       "  <tbody>\n",
       "    <tr>\n",
       "      <th>73076</th>\n",
       "      <td>West Bengal</td>\n",
       "      <td>2014</td>\n",
       "      <td>42</td>\n",
       "      <td>Birbhum</td>\n",
       "      <td>GEN</td>\n",
       "      <td>None Of The Above</td>\n",
       "      <td>NaN</td>\n",
       "      <td>NOTA</td>\n",
       "      <td>NOTA</td>\n",
       "      <td>14557</td>\n",
       "      <td>1495089</td>\n",
       "    </tr>\n",
       "    <tr>\n",
       "      <th>73077</th>\n",
       "      <td>West Bengal</td>\n",
       "      <td>2014</td>\n",
       "      <td>42</td>\n",
       "      <td>Birbhum</td>\n",
       "      <td>GEN</td>\n",
       "      <td>Syed Siraj Jimmi</td>\n",
       "      <td>M</td>\n",
       "      <td>INC</td>\n",
       "      <td>INC</td>\n",
       "      <td>132084</td>\n",
       "      <td>1495089</td>\n",
       "    </tr>\n",
       "    <tr>\n",
       "      <th>73078</th>\n",
       "      <td>West Bengal</td>\n",
       "      <td>2014</td>\n",
       "      <td>42</td>\n",
       "      <td>Birbhum</td>\n",
       "      <td>GEN</td>\n",
       "      <td>Joy Banerjee</td>\n",
       "      <td>M</td>\n",
       "      <td>BJP</td>\n",
       "      <td>BJP</td>\n",
       "      <td>235753</td>\n",
       "      <td>1495089</td>\n",
       "    </tr>\n",
       "    <tr>\n",
       "      <th>73079</th>\n",
       "      <td>West Bengal</td>\n",
       "      <td>2014</td>\n",
       "      <td>42</td>\n",
       "      <td>Birbhum</td>\n",
       "      <td>GEN</td>\n",
       "      <td>Dr. Elahi Kamre Mahammad</td>\n",
       "      <td>M</td>\n",
       "      <td>CPM</td>\n",
       "      <td>CPM</td>\n",
       "      <td>393305</td>\n",
       "      <td>1495089</td>\n",
       "    </tr>\n",
       "    <tr>\n",
       "      <th>73080</th>\n",
       "      <td>West Bengal</td>\n",
       "      <td>2014</td>\n",
       "      <td>42</td>\n",
       "      <td>Birbhum</td>\n",
       "      <td>GEN</td>\n",
       "      <td>Satabdi Roy</td>\n",
       "      <td>F</td>\n",
       "      <td>AITC</td>\n",
       "      <td>AITC</td>\n",
       "      <td>460568</td>\n",
       "      <td>1495089</td>\n",
       "    </tr>\n",
       "  </tbody>\n",
       "</table>\n",
       "</div>"
      ],
      "text/plain": [
       "           st_name  year  pc_no  pc_name pc_type                 cand_name  \\\n",
       "73076  West Bengal  2014     42  Birbhum     GEN         None Of The Above   \n",
       "73077  West Bengal  2014     42  Birbhum     GEN          Syed Siraj Jimmi   \n",
       "73078  West Bengal  2014     42  Birbhum     GEN              Joy Banerjee   \n",
       "73079  West Bengal  2014     42  Birbhum     GEN  Dr. Elahi Kamre Mahammad   \n",
       "73080  West Bengal  2014     42  Birbhum     GEN               Satabdi Roy   \n",
       "\n",
       "      cand_sex partyname partyabbre  totvotpoll  electors  \n",
       "73076      NaN      NOTA       NOTA       14557   1495089  \n",
       "73077        M       INC        INC      132084   1495089  \n",
       "73078        M       BJP        BJP      235753   1495089  \n",
       "73079        M       CPM        CPM      393305   1495089  \n",
       "73080        F      AITC       AITC      460568   1495089  "
      ]
     },
     "execution_count": 4,
     "metadata": {},
     "output_type": "execute_result"
    }
   ],
   "source": [
    "nl.tail()"
   ]
  },
  {
   "cell_type": "code",
   "execution_count": 5,
   "metadata": {},
   "outputs": [
    {
     "name": "stdout",
     "output_type": "stream",
     "text": [
      "<class 'pandas.core.frame.DataFrame'>\n",
      "RangeIndex: 73081 entries, 0 to 73080\n",
      "Data columns (total 11 columns):\n",
      "st_name       73081 non-null object\n",
      "year          73081 non-null int64\n",
      "pc_no         73081 non-null int64\n",
      "pc_name       73081 non-null object\n",
      "pc_type       65011 non-null object\n",
      "cand_name     73081 non-null object\n",
      "cand_sex      72539 non-null object\n",
      "partyname     73081 non-null object\n",
      "partyabbre    73081 non-null object\n",
      "totvotpoll    73081 non-null int64\n",
      "electors      73081 non-null int64\n",
      "dtypes: int64(4), object(7)\n",
      "memory usage: 6.1+ MB\n"
     ]
    }
   ],
   "source": [
    "nl.info()"
   ]
  },
  {
   "cell_type": "markdown",
   "metadata": {},
   "source": [
    "### Overview \n",
    "\n",
    "This dataset contains data from 1977 - 2014.\n",
    "\n",
    "* st_name - State Name\n",
    "* year - Year of election\n",
    "* pc_no - Parlimentary constituency number\n",
    "* pc_name - Parlimentary constituency Name\n",
    "* pc_type - Parliamentary constituency reservation status\n",
    "* cand_name - Candidate Name\n",
    "* cand_sex - Candidate Gender\n",
    "* partyname - Party Name\n",
    "* partyabbre - Party abbreviation \n",
    "* totvotpoll - Votes Received\n",
    "* electors - Number of registered voters"
   ]
  },
  {
   "cell_type": "markdown",
   "metadata": {},
   "source": [
    "### Assess"
   ]
  },
  {
   "cell_type": "code",
   "execution_count": 6,
   "metadata": {},
   "outputs": [
    {
     "data": {
      "text/plain": [
       "1"
      ]
     },
     "execution_count": 6,
     "metadata": {},
     "output_type": "execute_result"
    }
   ],
   "source": [
    "# check for dublicate entries\n",
    "nl.duplicated().sum()"
   ]
  },
  {
   "cell_type": "code",
   "execution_count": 7,
   "metadata": {},
   "outputs": [
    {
     "data": {
      "text/plain": [
       "st_name       False\n",
       "year          False\n",
       "pc_no         False\n",
       "pc_name       False\n",
       "pc_type        True\n",
       "cand_name     False\n",
       "cand_sex       True\n",
       "partyname     False\n",
       "partyabbre    False\n",
       "totvotpoll    False\n",
       "electors      False\n",
       "dtype: bool"
      ]
     },
     "execution_count": 7,
     "metadata": {},
     "output_type": "execute_result"
    }
   ],
   "source": [
    "# check for null values\n",
    "nl.isna().any()"
   ]
  },
  {
   "cell_type": "code",
   "execution_count": 8,
   "metadata": {
    "scrolled": true
   },
   "outputs": [
    {
     "data": {
      "text/html": [
       "<div>\n",
       "<style scoped>\n",
       "    .dataframe tbody tr th:only-of-type {\n",
       "        vertical-align: middle;\n",
       "    }\n",
       "\n",
       "    .dataframe tbody tr th {\n",
       "        vertical-align: top;\n",
       "    }\n",
       "\n",
       "    .dataframe thead th {\n",
       "        text-align: right;\n",
       "    }\n",
       "</style>\n",
       "<table border=\"1\" class=\"dataframe\">\n",
       "  <thead>\n",
       "    <tr style=\"text-align: right;\">\n",
       "      <th></th>\n",
       "      <th>st_name</th>\n",
       "      <th>year</th>\n",
       "      <th>pc_no</th>\n",
       "      <th>pc_name</th>\n",
       "      <th>pc_type</th>\n",
       "      <th>cand_name</th>\n",
       "      <th>cand_sex</th>\n",
       "      <th>partyname</th>\n",
       "      <th>partyabbre</th>\n",
       "      <th>totvotpoll</th>\n",
       "      <th>electors</th>\n",
       "    </tr>\n",
       "  </thead>\n",
       "  <tbody>\n",
       "    <tr>\n",
       "      <th>64</th>\n",
       "      <td>Andaman &amp; Nicobar Islands</td>\n",
       "      <td>2009</td>\n",
       "      <td>1</td>\n",
       "      <td>Andaman &amp; Nicobar Islands</td>\n",
       "      <td>NaN</td>\n",
       "      <td>Shri. T. Ali</td>\n",
       "      <td>M</td>\n",
       "      <td>Independent</td>\n",
       "      <td>IND</td>\n",
       "      <td>398</td>\n",
       "      <td>265110</td>\n",
       "    </tr>\n",
       "    <tr>\n",
       "      <th>65</th>\n",
       "      <td>Andaman &amp; Nicobar Islands</td>\n",
       "      <td>2009</td>\n",
       "      <td>1</td>\n",
       "      <td>Andaman &amp; Nicobar Islands</td>\n",
       "      <td>NaN</td>\n",
       "      <td>Dr. Thankachan</td>\n",
       "      <td>M</td>\n",
       "      <td>Independent</td>\n",
       "      <td>IND</td>\n",
       "      <td>683</td>\n",
       "      <td>265110</td>\n",
       "    </tr>\n",
       "    <tr>\n",
       "      <th>66</th>\n",
       "      <td>Andaman &amp; Nicobar Islands</td>\n",
       "      <td>2009</td>\n",
       "      <td>1</td>\n",
       "      <td>Andaman &amp; Nicobar Islands</td>\n",
       "      <td>NaN</td>\n",
       "      <td>Shri. N. K. P. Nair</td>\n",
       "      <td>M</td>\n",
       "      <td>Communist Party Of India (Marxist-Leninist) (L...</td>\n",
       "      <td>CPI(ML)</td>\n",
       "      <td>734</td>\n",
       "      <td>265110</td>\n",
       "    </tr>\n",
       "    <tr>\n",
       "      <th>67</th>\n",
       "      <td>Andaman &amp; Nicobar Islands</td>\n",
       "      <td>2009</td>\n",
       "      <td>1</td>\n",
       "      <td>Andaman &amp; Nicobar Islands</td>\n",
       "      <td>NaN</td>\n",
       "      <td>Shri. M. S. Mohan</td>\n",
       "      <td>M</td>\n",
       "      <td>Bahujan Samaj Party</td>\n",
       "      <td>BSP</td>\n",
       "      <td>789</td>\n",
       "      <td>265110</td>\n",
       "    </tr>\n",
       "    <tr>\n",
       "      <th>68</th>\n",
       "      <td>Andaman &amp; Nicobar Islands</td>\n",
       "      <td>2009</td>\n",
       "      <td>1</td>\n",
       "      <td>Andaman &amp; Nicobar Islands</td>\n",
       "      <td>NaN</td>\n",
       "      <td>Shri. Vakiath Valappil Khalid</td>\n",
       "      <td>M</td>\n",
       "      <td>Independent</td>\n",
       "      <td>IND</td>\n",
       "      <td>1480</td>\n",
       "      <td>265110</td>\n",
       "    </tr>\n",
       "    <tr>\n",
       "      <th>69</th>\n",
       "      <td>Andaman &amp; Nicobar Islands</td>\n",
       "      <td>2009</td>\n",
       "      <td>1</td>\n",
       "      <td>Andaman &amp; Nicobar Islands</td>\n",
       "      <td>NaN</td>\n",
       "      <td>Shri. Pradeep Kumar Ekka</td>\n",
       "      <td>M</td>\n",
       "      <td>Jharkhand Disom Party</td>\n",
       "      <td>JDP</td>\n",
       "      <td>1785</td>\n",
       "      <td>265110</td>\n",
       "    </tr>\n",
       "    <tr>\n",
       "      <th>70</th>\n",
       "      <td>Andaman &amp; Nicobar Islands</td>\n",
       "      <td>2009</td>\n",
       "      <td>1</td>\n",
       "      <td>Andaman &amp; Nicobar Islands</td>\n",
       "      <td>NaN</td>\n",
       "      <td>Smti. R. S. Uma Bharatthy</td>\n",
       "      <td>F</td>\n",
       "      <td>Nationalist Congress Party</td>\n",
       "      <td>NCP</td>\n",
       "      <td>4696</td>\n",
       "      <td>265110</td>\n",
       "    </tr>\n",
       "    <tr>\n",
       "      <th>71</th>\n",
       "      <td>Andaman &amp; Nicobar Islands</td>\n",
       "      <td>2009</td>\n",
       "      <td>1</td>\n",
       "      <td>Andaman &amp; Nicobar Islands</td>\n",
       "      <td>NaN</td>\n",
       "      <td>Shri. P. R. Ganeshan</td>\n",
       "      <td>M</td>\n",
       "      <td>Rashtriya Janata Dal</td>\n",
       "      <td>RJD</td>\n",
       "      <td>4916</td>\n",
       "      <td>265110</td>\n",
       "    </tr>\n",
       "    <tr>\n",
       "      <th>72</th>\n",
       "      <td>Andaman &amp; Nicobar Islands</td>\n",
       "      <td>2009</td>\n",
       "      <td>1</td>\n",
       "      <td>Andaman &amp; Nicobar Islands</td>\n",
       "      <td>NaN</td>\n",
       "      <td>Shri Tapan Kumar Bepari</td>\n",
       "      <td>M</td>\n",
       "      <td>Communist Party Of India (Marxist)</td>\n",
       "      <td>CPM</td>\n",
       "      <td>7190</td>\n",
       "      <td>265110</td>\n",
       "    </tr>\n",
       "    <tr>\n",
       "      <th>73</th>\n",
       "      <td>Andaman &amp; Nicobar Islands</td>\n",
       "      <td>2009</td>\n",
       "      <td>1</td>\n",
       "      <td>Andaman &amp; Nicobar Islands</td>\n",
       "      <td>NaN</td>\n",
       "      <td>Shri. Kuldeep Rai Sharma</td>\n",
       "      <td>M</td>\n",
       "      <td>Indian National Congress</td>\n",
       "      <td>INC</td>\n",
       "      <td>72221</td>\n",
       "      <td>265110</td>\n",
       "    </tr>\n",
       "    <tr>\n",
       "      <th>74</th>\n",
       "      <td>Andaman &amp; Nicobar Islands</td>\n",
       "      <td>2009</td>\n",
       "      <td>1</td>\n",
       "      <td>Andaman &amp; Nicobar Islands</td>\n",
       "      <td>NaN</td>\n",
       "      <td>Shri. Bishnu Pada Ray</td>\n",
       "      <td>M</td>\n",
       "      <td>Bharatiya Janata Party</td>\n",
       "      <td>BJP</td>\n",
       "      <td>75211</td>\n",
       "      <td>265110</td>\n",
       "    </tr>\n",
       "    <tr>\n",
       "      <th>84</th>\n",
       "      <td>Andaman &amp; Nicobar Islands</td>\n",
       "      <td>2014</td>\n",
       "      <td>1</td>\n",
       "      <td>Andaman &amp; Nicobar Islands</td>\n",
       "      <td>GEN</td>\n",
       "      <td>None Of The Above</td>\n",
       "      <td>NaN</td>\n",
       "      <td>NOTA</td>\n",
       "      <td>NOTA</td>\n",
       "      <td>1564</td>\n",
       "      <td>269360</td>\n",
       "    </tr>\n",
       "    <tr>\n",
       "      <th>4118</th>\n",
       "      <td>Andhra Pradesh</td>\n",
       "      <td>2009</td>\n",
       "      <td>1</td>\n",
       "      <td>Adilabad</td>\n",
       "      <td>NaN</td>\n",
       "      <td>Athram Laxman Rao</td>\n",
       "      <td>M</td>\n",
       "      <td>Independent</td>\n",
       "      <td>IND</td>\n",
       "      <td>7824</td>\n",
       "      <td>1131430</td>\n",
       "    </tr>\n",
       "    <tr>\n",
       "      <th>4119</th>\n",
       "      <td>Andhra Pradesh</td>\n",
       "      <td>2009</td>\n",
       "      <td>1</td>\n",
       "      <td>Adilabad</td>\n",
       "      <td>NaN</td>\n",
       "      <td>Nethavat Ramdas</td>\n",
       "      <td>M</td>\n",
       "      <td>Independent</td>\n",
       "      <td>IND</td>\n",
       "      <td>9157</td>\n",
       "      <td>1131430</td>\n",
       "    </tr>\n",
       "    <tr>\n",
       "      <th>4120</th>\n",
       "      <td>Andhra Pradesh</td>\n",
       "      <td>2009</td>\n",
       "      <td>1</td>\n",
       "      <td>Adilabad</td>\n",
       "      <td>NaN</td>\n",
       "      <td>Ganta Pentanna</td>\n",
       "      <td>M</td>\n",
       "      <td>Independent</td>\n",
       "      <td>IND</td>\n",
       "      <td>13378</td>\n",
       "      <td>1131430</td>\n",
       "    </tr>\n",
       "    <tr>\n",
       "      <th>4121</th>\n",
       "      <td>Andhra Pradesh</td>\n",
       "      <td>2009</td>\n",
       "      <td>1</td>\n",
       "      <td>Adilabad</td>\n",
       "      <td>NaN</td>\n",
       "      <td>Banka Sahadevu</td>\n",
       "      <td>M</td>\n",
       "      <td>Independent</td>\n",
       "      <td>IND</td>\n",
       "      <td>16441</td>\n",
       "      <td>1131430</td>\n",
       "    </tr>\n",
       "    <tr>\n",
       "      <th>4122</th>\n",
       "      <td>Andhra Pradesh</td>\n",
       "      <td>2009</td>\n",
       "      <td>1</td>\n",
       "      <td>Adilabad</td>\n",
       "      <td>NaN</td>\n",
       "      <td>Rathod Sadashiv Naik</td>\n",
       "      <td>M</td>\n",
       "      <td>Bahujan Samaj Party</td>\n",
       "      <td>BSP</td>\n",
       "      <td>16471</td>\n",
       "      <td>1131430</td>\n",
       "    </tr>\n",
       "    <tr>\n",
       "      <th>4123</th>\n",
       "      <td>Andhra Pradesh</td>\n",
       "      <td>2009</td>\n",
       "      <td>1</td>\n",
       "      <td>Adilabad</td>\n",
       "      <td>NaN</td>\n",
       "      <td>Ade Tukaram</td>\n",
       "      <td>M</td>\n",
       "      <td>Bharatiya Janata Party</td>\n",
       "      <td>BJP</td>\n",
       "      <td>57931</td>\n",
       "      <td>1131430</td>\n",
       "    </tr>\n",
       "    <tr>\n",
       "      <th>4124</th>\n",
       "      <td>Andhra Pradesh</td>\n",
       "      <td>2009</td>\n",
       "      <td>1</td>\n",
       "      <td>Adilabad</td>\n",
       "      <td>NaN</td>\n",
       "      <td>Mesram Nago Rao</td>\n",
       "      <td>M</td>\n",
       "      <td>Praja Rajyam Party</td>\n",
       "      <td>PRAP</td>\n",
       "      <td>112930</td>\n",
       "      <td>1131430</td>\n",
       "    </tr>\n",
       "    <tr>\n",
       "      <th>4125</th>\n",
       "      <td>Andhra Pradesh</td>\n",
       "      <td>2009</td>\n",
       "      <td>1</td>\n",
       "      <td>Adilabad</td>\n",
       "      <td>NaN</td>\n",
       "      <td>Kotnak Ramesh</td>\n",
       "      <td>M</td>\n",
       "      <td>Indian National Congress</td>\n",
       "      <td>INC</td>\n",
       "      <td>257181</td>\n",
       "      <td>1131430</td>\n",
       "    </tr>\n",
       "    <tr>\n",
       "      <th>4126</th>\n",
       "      <td>Andhra Pradesh</td>\n",
       "      <td>2009</td>\n",
       "      <td>1</td>\n",
       "      <td>Adilabad</td>\n",
       "      <td>NaN</td>\n",
       "      <td>Rathod Ramesh</td>\n",
       "      <td>M</td>\n",
       "      <td>Telugu Desam</td>\n",
       "      <td>TDP</td>\n",
       "      <td>372268</td>\n",
       "      <td>1131430</td>\n",
       "    </tr>\n",
       "    <tr>\n",
       "      <th>4127</th>\n",
       "      <td>Andhra Pradesh</td>\n",
       "      <td>2009</td>\n",
       "      <td>2</td>\n",
       "      <td>Peddapalle</td>\n",
       "      <td>NaN</td>\n",
       "      <td>K. Rajaswari</td>\n",
       "      <td>F</td>\n",
       "      <td>Independent</td>\n",
       "      <td>IND</td>\n",
       "      <td>3328</td>\n",
       "      <td>1315642</td>\n",
       "    </tr>\n",
       "    <tr>\n",
       "      <th>4128</th>\n",
       "      <td>Andhra Pradesh</td>\n",
       "      <td>2009</td>\n",
       "      <td>2</td>\n",
       "      <td>Peddapalle</td>\n",
       "      <td>NaN</td>\n",
       "      <td>Gorre Ramesh</td>\n",
       "      <td>M</td>\n",
       "      <td>Independent</td>\n",
       "      <td>IND</td>\n",
       "      <td>3414</td>\n",
       "      <td>1315642</td>\n",
       "    </tr>\n",
       "    <tr>\n",
       "      <th>4129</th>\n",
       "      <td>Andhra Pradesh</td>\n",
       "      <td>2009</td>\n",
       "      <td>2</td>\n",
       "      <td>Peddapalle</td>\n",
       "      <td>NaN</td>\n",
       "      <td>A. Kamalamma</td>\n",
       "      <td>F</td>\n",
       "      <td>Independent</td>\n",
       "      <td>IND</td>\n",
       "      <td>3938</td>\n",
       "      <td>1315642</td>\n",
       "    </tr>\n",
       "    <tr>\n",
       "      <th>4130</th>\n",
       "      <td>Andhra Pradesh</td>\n",
       "      <td>2009</td>\n",
       "      <td>2</td>\n",
       "      <td>Peddapalle</td>\n",
       "      <td>NaN</td>\n",
       "      <td>Nallala Kanukaiah</td>\n",
       "      <td>M</td>\n",
       "      <td>Independent</td>\n",
       "      <td>IND</td>\n",
       "      <td>4468</td>\n",
       "      <td>1315642</td>\n",
       "    </tr>\n",
       "    <tr>\n",
       "      <th>4131</th>\n",
       "      <td>Andhra Pradesh</td>\n",
       "      <td>2009</td>\n",
       "      <td>2</td>\n",
       "      <td>Peddapalle</td>\n",
       "      <td>NaN</td>\n",
       "      <td>B. Mallaiah</td>\n",
       "      <td>M</td>\n",
       "      <td>Independent</td>\n",
       "      <td>IND</td>\n",
       "      <td>4541</td>\n",
       "      <td>1315642</td>\n",
       "    </tr>\n",
       "    <tr>\n",
       "      <th>4132</th>\n",
       "      <td>Andhra Pradesh</td>\n",
       "      <td>2009</td>\n",
       "      <td>2</td>\n",
       "      <td>Peddapalle</td>\n",
       "      <td>NaN</td>\n",
       "      <td>D. Ramulu</td>\n",
       "      <td>M</td>\n",
       "      <td>Independent</td>\n",
       "      <td>IND</td>\n",
       "      <td>5511</td>\n",
       "      <td>1315642</td>\n",
       "    </tr>\n",
       "    <tr>\n",
       "      <th>4133</th>\n",
       "      <td>Andhra Pradesh</td>\n",
       "      <td>2009</td>\n",
       "      <td>2</td>\n",
       "      <td>Peddapalle</td>\n",
       "      <td>NaN</td>\n",
       "      <td>Krishna Sabbali</td>\n",
       "      <td>M</td>\n",
       "      <td>Marxist Communist Party Of India (S.S. Srivast...</td>\n",
       "      <td>MCPI(S)</td>\n",
       "      <td>5752</td>\n",
       "      <td>1315642</td>\n",
       "    </tr>\n",
       "    <tr>\n",
       "      <th>4134</th>\n",
       "      <td>Andhra Pradesh</td>\n",
       "      <td>2009</td>\n",
       "      <td>2</td>\n",
       "      <td>Peddapalle</td>\n",
       "      <td>NaN</td>\n",
       "      <td>G.Vinay Kumar</td>\n",
       "      <td>M</td>\n",
       "      <td>Independent</td>\n",
       "      <td>IND</td>\n",
       "      <td>6726</td>\n",
       "      <td>1315642</td>\n",
       "    </tr>\n",
       "    <tr>\n",
       "      <th>4135</th>\n",
       "      <td>Andhra Pradesh</td>\n",
       "      <td>2009</td>\n",
       "      <td>2</td>\n",
       "      <td>Peddapalle</td>\n",
       "      <td>NaN</td>\n",
       "      <td>Ambala Mahendar</td>\n",
       "      <td>M</td>\n",
       "      <td>Independent</td>\n",
       "      <td>IND</td>\n",
       "      <td>8364</td>\n",
       "      <td>1315642</td>\n",
       "    </tr>\n",
       "    <tr>\n",
       "      <th>...</th>\n",
       "      <td>...</td>\n",
       "      <td>...</td>\n",
       "      <td>...</td>\n",
       "      <td>...</td>\n",
       "      <td>...</td>\n",
       "      <td>...</td>\n",
       "      <td>...</td>\n",
       "      <td>...</td>\n",
       "      <td>...</td>\n",
       "      <td>...</td>\n",
       "      <td>...</td>\n",
       "    </tr>\n",
       "    <tr>\n",
       "      <th>72726</th>\n",
       "      <td>West Bengal</td>\n",
       "      <td>2014</td>\n",
       "      <td>13</td>\n",
       "      <td>Ranaghat</td>\n",
       "      <td>SC</td>\n",
       "      <td>None Of The Above</td>\n",
       "      <td>NaN</td>\n",
       "      <td>NOTA</td>\n",
       "      <td>NOTA</td>\n",
       "      <td>14626</td>\n",
       "      <td>1602849</td>\n",
       "    </tr>\n",
       "    <tr>\n",
       "      <th>72738</th>\n",
       "      <td>West Bengal</td>\n",
       "      <td>2014</td>\n",
       "      <td>14</td>\n",
       "      <td>Bangaon</td>\n",
       "      <td>SC</td>\n",
       "      <td>None Of The Above</td>\n",
       "      <td>NaN</td>\n",
       "      <td>NOTA</td>\n",
       "      <td>NOTA</td>\n",
       "      <td>9965</td>\n",
       "      <td>1540713</td>\n",
       "    </tr>\n",
       "    <tr>\n",
       "      <th>72751</th>\n",
       "      <td>West Bengal</td>\n",
       "      <td>2014</td>\n",
       "      <td>15</td>\n",
       "      <td>Barrackpore</td>\n",
       "      <td>GEN</td>\n",
       "      <td>None Of The Above</td>\n",
       "      <td>NaN</td>\n",
       "      <td>NOTA</td>\n",
       "      <td>NOTA</td>\n",
       "      <td>10979</td>\n",
       "      <td>1287222</td>\n",
       "    </tr>\n",
       "    <tr>\n",
       "      <th>72761</th>\n",
       "      <td>West Bengal</td>\n",
       "      <td>2014</td>\n",
       "      <td>16</td>\n",
       "      <td>Dum Dum</td>\n",
       "      <td>GEN</td>\n",
       "      <td>None Of The Above</td>\n",
       "      <td>NaN</td>\n",
       "      <td>NOTA</td>\n",
       "      <td>NOTA</td>\n",
       "      <td>16837</td>\n",
       "      <td>1405981</td>\n",
       "    </tr>\n",
       "    <tr>\n",
       "      <th>72774</th>\n",
       "      <td>West Bengal</td>\n",
       "      <td>2014</td>\n",
       "      <td>17</td>\n",
       "      <td>Barasat</td>\n",
       "      <td>GEN</td>\n",
       "      <td>None Of The Above</td>\n",
       "      <td>NaN</td>\n",
       "      <td>NOTA</td>\n",
       "      <td>NOTA</td>\n",
       "      <td>12700</td>\n",
       "      <td>1512792</td>\n",
       "    </tr>\n",
       "    <tr>\n",
       "      <th>72783</th>\n",
       "      <td>West Bengal</td>\n",
       "      <td>2014</td>\n",
       "      <td>18</td>\n",
       "      <td>Basirhat</td>\n",
       "      <td>GEN</td>\n",
       "      <td>None Of The Above</td>\n",
       "      <td>NaN</td>\n",
       "      <td>NOTA</td>\n",
       "      <td>NOTA</td>\n",
       "      <td>9971</td>\n",
       "      <td>1490596</td>\n",
       "    </tr>\n",
       "    <tr>\n",
       "      <th>72793</th>\n",
       "      <td>West Bengal</td>\n",
       "      <td>2014</td>\n",
       "      <td>19</td>\n",
       "      <td>Joynagar</td>\n",
       "      <td>SC</td>\n",
       "      <td>None Of The Above</td>\n",
       "      <td>NaN</td>\n",
       "      <td>NOTA</td>\n",
       "      <td>NOTA</td>\n",
       "      <td>8819</td>\n",
       "      <td>1458724</td>\n",
       "    </tr>\n",
       "    <tr>\n",
       "      <th>72805</th>\n",
       "      <td>West Bengal</td>\n",
       "      <td>2014</td>\n",
       "      <td>20</td>\n",
       "      <td>Mathurapur</td>\n",
       "      <td>SC</td>\n",
       "      <td>None Of The Above</td>\n",
       "      <td>NaN</td>\n",
       "      <td>NOTA</td>\n",
       "      <td>NOTA</td>\n",
       "      <td>9342</td>\n",
       "      <td>1488785</td>\n",
       "    </tr>\n",
       "    <tr>\n",
       "      <th>72823</th>\n",
       "      <td>West Bengal</td>\n",
       "      <td>2014</td>\n",
       "      <td>21</td>\n",
       "      <td>Diamond Harbour</td>\n",
       "      <td>GEN</td>\n",
       "      <td>None Of The Above</td>\n",
       "      <td>NaN</td>\n",
       "      <td>NOTA</td>\n",
       "      <td>NOTA</td>\n",
       "      <td>10657</td>\n",
       "      <td>1555914</td>\n",
       "    </tr>\n",
       "    <tr>\n",
       "      <th>72837</th>\n",
       "      <td>West Bengal</td>\n",
       "      <td>2014</td>\n",
       "      <td>22</td>\n",
       "      <td>Jadavpur</td>\n",
       "      <td>GEN</td>\n",
       "      <td>None Of The Above</td>\n",
       "      <td>NaN</td>\n",
       "      <td>NOTA</td>\n",
       "      <td>NOTA</td>\n",
       "      <td>15667</td>\n",
       "      <td>1595746</td>\n",
       "    </tr>\n",
       "    <tr>\n",
       "      <th>72853</th>\n",
       "      <td>West Bengal</td>\n",
       "      <td>2014</td>\n",
       "      <td>23</td>\n",
       "      <td>Kolkata Dakshin</td>\n",
       "      <td>GEN</td>\n",
       "      <td>None Of The Above</td>\n",
       "      <td>NaN</td>\n",
       "      <td>NOTA</td>\n",
       "      <td>NOTA</td>\n",
       "      <td>19511</td>\n",
       "      <td>1685296</td>\n",
       "    </tr>\n",
       "    <tr>\n",
       "      <th>72872</th>\n",
       "      <td>West Bengal</td>\n",
       "      <td>2014</td>\n",
       "      <td>24</td>\n",
       "      <td>Kolkata Uttar</td>\n",
       "      <td>GEN</td>\n",
       "      <td>None Of The Above</td>\n",
       "      <td>NaN</td>\n",
       "      <td>NOTA</td>\n",
       "      <td>NOTA</td>\n",
       "      <td>9103</td>\n",
       "      <td>1433985</td>\n",
       "    </tr>\n",
       "    <tr>\n",
       "      <th>72888</th>\n",
       "      <td>West Bengal</td>\n",
       "      <td>2014</td>\n",
       "      <td>25</td>\n",
       "      <td>Howrah</td>\n",
       "      <td>GEN</td>\n",
       "      <td>None Of The Above</td>\n",
       "      <td>NaN</td>\n",
       "      <td>NOTA</td>\n",
       "      <td>NOTA</td>\n",
       "      <td>9929</td>\n",
       "      <td>1505099</td>\n",
       "    </tr>\n",
       "    <tr>\n",
       "      <th>72902</th>\n",
       "      <td>West Bengal</td>\n",
       "      <td>2014</td>\n",
       "      <td>26</td>\n",
       "      <td>Uluberia</td>\n",
       "      <td>GEN</td>\n",
       "      <td>None Of The Above</td>\n",
       "      <td>NaN</td>\n",
       "      <td>NOTA</td>\n",
       "      <td>NOTA</td>\n",
       "      <td>8277</td>\n",
       "      <td>1448632</td>\n",
       "    </tr>\n",
       "    <tr>\n",
       "      <th>72913</th>\n",
       "      <td>West Bengal</td>\n",
       "      <td>2014</td>\n",
       "      <td>27</td>\n",
       "      <td>Srerampur</td>\n",
       "      <td>GEN</td>\n",
       "      <td>None Of The Above</td>\n",
       "      <td>NaN</td>\n",
       "      <td>NOTA</td>\n",
       "      <td>NOTA</td>\n",
       "      <td>15374</td>\n",
       "      <td>1624038</td>\n",
       "    </tr>\n",
       "    <tr>\n",
       "      <th>72923</th>\n",
       "      <td>West Bengal</td>\n",
       "      <td>2014</td>\n",
       "      <td>28</td>\n",
       "      <td>Hooghly</td>\n",
       "      <td>GEN</td>\n",
       "      <td>None Of The Above</td>\n",
       "      <td>NaN</td>\n",
       "      <td>NOTA</td>\n",
       "      <td>NOTA</td>\n",
       "      <td>16517</td>\n",
       "      <td>1630042</td>\n",
       "    </tr>\n",
       "    <tr>\n",
       "      <th>72929</th>\n",
       "      <td>West Bengal</td>\n",
       "      <td>2014</td>\n",
       "      <td>29</td>\n",
       "      <td>Arambagh</td>\n",
       "      <td>SC</td>\n",
       "      <td>None Of The Above</td>\n",
       "      <td>NaN</td>\n",
       "      <td>NOTA</td>\n",
       "      <td>NOTA</td>\n",
       "      <td>17837</td>\n",
       "      <td>1600293</td>\n",
       "    </tr>\n",
       "    <tr>\n",
       "      <th>72940</th>\n",
       "      <td>West Bengal</td>\n",
       "      <td>2014</td>\n",
       "      <td>30</td>\n",
       "      <td>Tamluk</td>\n",
       "      <td>GEN</td>\n",
       "      <td>None Of The Above</td>\n",
       "      <td>NaN</td>\n",
       "      <td>NOTA</td>\n",
       "      <td>NOTA</td>\n",
       "      <td>11643</td>\n",
       "      <td>1527273</td>\n",
       "    </tr>\n",
       "    <tr>\n",
       "      <th>72948</th>\n",
       "      <td>West Bengal</td>\n",
       "      <td>2014</td>\n",
       "      <td>31</td>\n",
       "      <td>Kanthi</td>\n",
       "      <td>GEN</td>\n",
       "      <td>None Of The Above</td>\n",
       "      <td>NaN</td>\n",
       "      <td>NOTA</td>\n",
       "      <td>NOTA</td>\n",
       "      <td>9598</td>\n",
       "      <td>1490409</td>\n",
       "    </tr>\n",
       "    <tr>\n",
       "      <th>72959</th>\n",
       "      <td>West Bengal</td>\n",
       "      <td>2014</td>\n",
       "      <td>32</td>\n",
       "      <td>Ghatal</td>\n",
       "      <td>GEN</td>\n",
       "      <td>None Of The Above</td>\n",
       "      <td>NaN</td>\n",
       "      <td>NOTA</td>\n",
       "      <td>NOTA</td>\n",
       "      <td>14418</td>\n",
       "      <td>1610489</td>\n",
       "    </tr>\n",
       "    <tr>\n",
       "      <th>72973</th>\n",
       "      <td>West Bengal</td>\n",
       "      <td>2014</td>\n",
       "      <td>33</td>\n",
       "      <td>Jhargram</td>\n",
       "      <td>ST</td>\n",
       "      <td>None Of The Above</td>\n",
       "      <td>NaN</td>\n",
       "      <td>NOTA</td>\n",
       "      <td>NOTA</td>\n",
       "      <td>22935</td>\n",
       "      <td>1475112</td>\n",
       "    </tr>\n",
       "    <tr>\n",
       "      <th>72984</th>\n",
       "      <td>West Bengal</td>\n",
       "      <td>2014</td>\n",
       "      <td>34</td>\n",
       "      <td>Medinipur</td>\n",
       "      <td>GEN</td>\n",
       "      <td>None Of The Above</td>\n",
       "      <td>NaN</td>\n",
       "      <td>NOTA</td>\n",
       "      <td>NOTA</td>\n",
       "      <td>13616</td>\n",
       "      <td>1499673</td>\n",
       "    </tr>\n",
       "    <tr>\n",
       "      <th>72997</th>\n",
       "      <td>West Bengal</td>\n",
       "      <td>2014</td>\n",
       "      <td>35</td>\n",
       "      <td>Purulia</td>\n",
       "      <td>GEN</td>\n",
       "      <td>None Of The Above</td>\n",
       "      <td>NaN</td>\n",
       "      <td>NOTA</td>\n",
       "      <td>NOTA</td>\n",
       "      <td>16726</td>\n",
       "      <td>1471933</td>\n",
       "    </tr>\n",
       "    <tr>\n",
       "      <th>73013</th>\n",
       "      <td>West Bengal</td>\n",
       "      <td>2014</td>\n",
       "      <td>36</td>\n",
       "      <td>Bankura</td>\n",
       "      <td>GEN</td>\n",
       "      <td>None Of The Above</td>\n",
       "      <td>NaN</td>\n",
       "      <td>NOTA</td>\n",
       "      <td>NOTA</td>\n",
       "      <td>23682</td>\n",
       "      <td>1503812</td>\n",
       "    </tr>\n",
       "    <tr>\n",
       "      <th>73022</th>\n",
       "      <td>West Bengal</td>\n",
       "      <td>2014</td>\n",
       "      <td>37</td>\n",
       "      <td>Bishnupur</td>\n",
       "      <td>SC</td>\n",
       "      <td>None Of The Above</td>\n",
       "      <td>NaN</td>\n",
       "      <td>NOTA</td>\n",
       "      <td>NOTA</td>\n",
       "      <td>20928</td>\n",
       "      <td>1466921</td>\n",
       "    </tr>\n",
       "    <tr>\n",
       "      <th>73032</th>\n",
       "      <td>West Bengal</td>\n",
       "      <td>2014</td>\n",
       "      <td>38</td>\n",
       "      <td>Bardhaman Purba</td>\n",
       "      <td>SC</td>\n",
       "      <td>None Of The Above</td>\n",
       "      <td>NaN</td>\n",
       "      <td>NOTA</td>\n",
       "      <td>NOTA</td>\n",
       "      <td>13951</td>\n",
       "      <td>1532244</td>\n",
       "    </tr>\n",
       "    <tr>\n",
       "      <th>73041</th>\n",
       "      <td>West Bengal</td>\n",
       "      <td>2014</td>\n",
       "      <td>39</td>\n",
       "      <td>Burdwan - Durgapur</td>\n",
       "      <td>GEN</td>\n",
       "      <td>None Of The Above</td>\n",
       "      <td>NaN</td>\n",
       "      <td>NOTA</td>\n",
       "      <td>NOTA</td>\n",
       "      <td>16886</td>\n",
       "      <td>1583495</td>\n",
       "    </tr>\n",
       "    <tr>\n",
       "      <th>73055</th>\n",
       "      <td>West Bengal</td>\n",
       "      <td>2014</td>\n",
       "      <td>40</td>\n",
       "      <td>Asansol</td>\n",
       "      <td>GEN</td>\n",
       "      <td>None Of The Above</td>\n",
       "      <td>NaN</td>\n",
       "      <td>NOTA</td>\n",
       "      <td>NOTA</td>\n",
       "      <td>11479</td>\n",
       "      <td>1469684</td>\n",
       "    </tr>\n",
       "    <tr>\n",
       "      <th>73064</th>\n",
       "      <td>West Bengal</td>\n",
       "      <td>2014</td>\n",
       "      <td>41</td>\n",
       "      <td>Bolpur</td>\n",
       "      <td>SC</td>\n",
       "      <td>None Of The Above</td>\n",
       "      <td>NaN</td>\n",
       "      <td>NOTA</td>\n",
       "      <td>NOTA</td>\n",
       "      <td>17322</td>\n",
       "      <td>1538421</td>\n",
       "    </tr>\n",
       "    <tr>\n",
       "      <th>73076</th>\n",
       "      <td>West Bengal</td>\n",
       "      <td>2014</td>\n",
       "      <td>42</td>\n",
       "      <td>Birbhum</td>\n",
       "      <td>GEN</td>\n",
       "      <td>None Of The Above</td>\n",
       "      <td>NaN</td>\n",
       "      <td>NOTA</td>\n",
       "      <td>NOTA</td>\n",
       "      <td>14557</td>\n",
       "      <td>1495089</td>\n",
       "    </tr>\n",
       "  </tbody>\n",
       "</table>\n",
       "<p>8612 rows × 11 columns</p>\n",
       "</div>"
      ],
      "text/plain": [
       "                         st_name  year  pc_no                    pc_name  \\\n",
       "64     Andaman & Nicobar Islands  2009      1  Andaman & Nicobar Islands   \n",
       "65     Andaman & Nicobar Islands  2009      1  Andaman & Nicobar Islands   \n",
       "66     Andaman & Nicobar Islands  2009      1  Andaman & Nicobar Islands   \n",
       "67     Andaman & Nicobar Islands  2009      1  Andaman & Nicobar Islands   \n",
       "68     Andaman & Nicobar Islands  2009      1  Andaman & Nicobar Islands   \n",
       "69     Andaman & Nicobar Islands  2009      1  Andaman & Nicobar Islands   \n",
       "70     Andaman & Nicobar Islands  2009      1  Andaman & Nicobar Islands   \n",
       "71     Andaman & Nicobar Islands  2009      1  Andaman & Nicobar Islands   \n",
       "72     Andaman & Nicobar Islands  2009      1  Andaman & Nicobar Islands   \n",
       "73     Andaman & Nicobar Islands  2009      1  Andaman & Nicobar Islands   \n",
       "74     Andaman & Nicobar Islands  2009      1  Andaman & Nicobar Islands   \n",
       "84     Andaman & Nicobar Islands  2014      1  Andaman & Nicobar Islands   \n",
       "4118              Andhra Pradesh  2009      1                   Adilabad   \n",
       "4119              Andhra Pradesh  2009      1                   Adilabad   \n",
       "4120              Andhra Pradesh  2009      1                   Adilabad   \n",
       "4121              Andhra Pradesh  2009      1                   Adilabad   \n",
       "4122              Andhra Pradesh  2009      1                   Adilabad   \n",
       "4123              Andhra Pradesh  2009      1                   Adilabad   \n",
       "4124              Andhra Pradesh  2009      1                   Adilabad   \n",
       "4125              Andhra Pradesh  2009      1                   Adilabad   \n",
       "4126              Andhra Pradesh  2009      1                   Adilabad   \n",
       "4127              Andhra Pradesh  2009      2                 Peddapalle   \n",
       "4128              Andhra Pradesh  2009      2                 Peddapalle   \n",
       "4129              Andhra Pradesh  2009      2                 Peddapalle   \n",
       "4130              Andhra Pradesh  2009      2                 Peddapalle   \n",
       "4131              Andhra Pradesh  2009      2                 Peddapalle   \n",
       "4132              Andhra Pradesh  2009      2                 Peddapalle   \n",
       "4133              Andhra Pradesh  2009      2                 Peddapalle   \n",
       "4134              Andhra Pradesh  2009      2                 Peddapalle   \n",
       "4135              Andhra Pradesh  2009      2                 Peddapalle   \n",
       "...                          ...   ...    ...                        ...   \n",
       "72726                West Bengal  2014     13                   Ranaghat   \n",
       "72738                West Bengal  2014     14                    Bangaon   \n",
       "72751                West Bengal  2014     15                Barrackpore   \n",
       "72761                West Bengal  2014     16                    Dum Dum   \n",
       "72774                West Bengal  2014     17                    Barasat   \n",
       "72783                West Bengal  2014     18                   Basirhat   \n",
       "72793                West Bengal  2014     19                   Joynagar   \n",
       "72805                West Bengal  2014     20                 Mathurapur   \n",
       "72823                West Bengal  2014     21            Diamond Harbour   \n",
       "72837                West Bengal  2014     22                   Jadavpur   \n",
       "72853                West Bengal  2014     23            Kolkata Dakshin   \n",
       "72872                West Bengal  2014     24              Kolkata Uttar   \n",
       "72888                West Bengal  2014     25                     Howrah   \n",
       "72902                West Bengal  2014     26                   Uluberia   \n",
       "72913                West Bengal  2014     27                  Srerampur   \n",
       "72923                West Bengal  2014     28                    Hooghly   \n",
       "72929                West Bengal  2014     29                   Arambagh   \n",
       "72940                West Bengal  2014     30                     Tamluk   \n",
       "72948                West Bengal  2014     31                     Kanthi   \n",
       "72959                West Bengal  2014     32                     Ghatal   \n",
       "72973                West Bengal  2014     33                   Jhargram   \n",
       "72984                West Bengal  2014     34                  Medinipur   \n",
       "72997                West Bengal  2014     35                    Purulia   \n",
       "73013                West Bengal  2014     36                    Bankura   \n",
       "73022                West Bengal  2014     37                  Bishnupur   \n",
       "73032                West Bengal  2014     38            Bardhaman Purba   \n",
       "73041                West Bengal  2014     39         Burdwan - Durgapur   \n",
       "73055                West Bengal  2014     40                    Asansol   \n",
       "73064                West Bengal  2014     41                     Bolpur   \n",
       "73076                West Bengal  2014     42                    Birbhum   \n",
       "\n",
       "      pc_type                      cand_name cand_sex  \\\n",
       "64        NaN                   Shri. T. Ali        M   \n",
       "65        NaN                 Dr. Thankachan        M   \n",
       "66        NaN            Shri. N. K. P. Nair        M   \n",
       "67        NaN              Shri. M. S. Mohan        M   \n",
       "68        NaN  Shri. Vakiath Valappil Khalid        M   \n",
       "69        NaN       Shri. Pradeep Kumar Ekka        M   \n",
       "70        NaN      Smti. R. S. Uma Bharatthy        F   \n",
       "71        NaN           Shri. P. R. Ganeshan        M   \n",
       "72        NaN        Shri Tapan Kumar Bepari        M   \n",
       "73        NaN       Shri. Kuldeep Rai Sharma        M   \n",
       "74        NaN          Shri. Bishnu Pada Ray        M   \n",
       "84        GEN              None Of The Above      NaN   \n",
       "4118      NaN              Athram Laxman Rao        M   \n",
       "4119      NaN                Nethavat Ramdas        M   \n",
       "4120      NaN                 Ganta Pentanna        M   \n",
       "4121      NaN                 Banka Sahadevu        M   \n",
       "4122      NaN           Rathod Sadashiv Naik        M   \n",
       "4123      NaN                    Ade Tukaram        M   \n",
       "4124      NaN                Mesram Nago Rao        M   \n",
       "4125      NaN                  Kotnak Ramesh        M   \n",
       "4126      NaN                  Rathod Ramesh        M   \n",
       "4127      NaN                   K. Rajaswari        F   \n",
       "4128      NaN                   Gorre Ramesh        M   \n",
       "4129      NaN                   A. Kamalamma        F   \n",
       "4130      NaN              Nallala Kanukaiah        M   \n",
       "4131      NaN                    B. Mallaiah        M   \n",
       "4132      NaN                      D. Ramulu        M   \n",
       "4133      NaN                Krishna Sabbali        M   \n",
       "4134      NaN                  G.Vinay Kumar        M   \n",
       "4135      NaN                Ambala Mahendar        M   \n",
       "...       ...                            ...      ...   \n",
       "72726      SC              None Of The Above      NaN   \n",
       "72738      SC              None Of The Above      NaN   \n",
       "72751     GEN              None Of The Above      NaN   \n",
       "72761     GEN              None Of The Above      NaN   \n",
       "72774     GEN              None Of The Above      NaN   \n",
       "72783     GEN              None Of The Above      NaN   \n",
       "72793      SC              None Of The Above      NaN   \n",
       "72805      SC              None Of The Above      NaN   \n",
       "72823     GEN              None Of The Above      NaN   \n",
       "72837     GEN              None Of The Above      NaN   \n",
       "72853     GEN              None Of The Above      NaN   \n",
       "72872     GEN              None Of The Above      NaN   \n",
       "72888     GEN              None Of The Above      NaN   \n",
       "72902     GEN              None Of The Above      NaN   \n",
       "72913     GEN              None Of The Above      NaN   \n",
       "72923     GEN              None Of The Above      NaN   \n",
       "72929      SC              None Of The Above      NaN   \n",
       "72940     GEN              None Of The Above      NaN   \n",
       "72948     GEN              None Of The Above      NaN   \n",
       "72959     GEN              None Of The Above      NaN   \n",
       "72973      ST              None Of The Above      NaN   \n",
       "72984     GEN              None Of The Above      NaN   \n",
       "72997     GEN              None Of The Above      NaN   \n",
       "73013     GEN              None Of The Above      NaN   \n",
       "73022      SC              None Of The Above      NaN   \n",
       "73032      SC              None Of The Above      NaN   \n",
       "73041     GEN              None Of The Above      NaN   \n",
       "73055     GEN              None Of The Above      NaN   \n",
       "73064      SC              None Of The Above      NaN   \n",
       "73076     GEN              None Of The Above      NaN   \n",
       "\n",
       "                                               partyname partyabbre  \\\n",
       "64                                           Independent        IND   \n",
       "65                                           Independent        IND   \n",
       "66     Communist Party Of India (Marxist-Leninist) (L...    CPI(ML)   \n",
       "67                                   Bahujan Samaj Party        BSP   \n",
       "68                                           Independent        IND   \n",
       "69                                 Jharkhand Disom Party        JDP   \n",
       "70                            Nationalist Congress Party        NCP   \n",
       "71                                  Rashtriya Janata Dal        RJD   \n",
       "72                    Communist Party Of India (Marxist)        CPM   \n",
       "73                              Indian National Congress        INC   \n",
       "74                                Bharatiya Janata Party        BJP   \n",
       "84                                                  NOTA       NOTA   \n",
       "4118                                         Independent        IND   \n",
       "4119                                         Independent        IND   \n",
       "4120                                         Independent        IND   \n",
       "4121                                         Independent        IND   \n",
       "4122                                 Bahujan Samaj Party        BSP   \n",
       "4123                              Bharatiya Janata Party        BJP   \n",
       "4124                                  Praja Rajyam Party       PRAP   \n",
       "4125                            Indian National Congress        INC   \n",
       "4126                                        Telugu Desam        TDP   \n",
       "4127                                         Independent        IND   \n",
       "4128                                         Independent        IND   \n",
       "4129                                         Independent        IND   \n",
       "4130                                         Independent        IND   \n",
       "4131                                         Independent        IND   \n",
       "4132                                         Independent        IND   \n",
       "4133   Marxist Communist Party Of India (S.S. Srivast...    MCPI(S)   \n",
       "4134                                         Independent        IND   \n",
       "4135                                         Independent        IND   \n",
       "...                                                  ...        ...   \n",
       "72726                                               NOTA       NOTA   \n",
       "72738                                               NOTA       NOTA   \n",
       "72751                                               NOTA       NOTA   \n",
       "72761                                               NOTA       NOTA   \n",
       "72774                                               NOTA       NOTA   \n",
       "72783                                               NOTA       NOTA   \n",
       "72793                                               NOTA       NOTA   \n",
       "72805                                               NOTA       NOTA   \n",
       "72823                                               NOTA       NOTA   \n",
       "72837                                               NOTA       NOTA   \n",
       "72853                                               NOTA       NOTA   \n",
       "72872                                               NOTA       NOTA   \n",
       "72888                                               NOTA       NOTA   \n",
       "72902                                               NOTA       NOTA   \n",
       "72913                                               NOTA       NOTA   \n",
       "72923                                               NOTA       NOTA   \n",
       "72929                                               NOTA       NOTA   \n",
       "72940                                               NOTA       NOTA   \n",
       "72948                                               NOTA       NOTA   \n",
       "72959                                               NOTA       NOTA   \n",
       "72973                                               NOTA       NOTA   \n",
       "72984                                               NOTA       NOTA   \n",
       "72997                                               NOTA       NOTA   \n",
       "73013                                               NOTA       NOTA   \n",
       "73022                                               NOTA       NOTA   \n",
       "73032                                               NOTA       NOTA   \n",
       "73041                                               NOTA       NOTA   \n",
       "73055                                               NOTA       NOTA   \n",
       "73064                                               NOTA       NOTA   \n",
       "73076                                               NOTA       NOTA   \n",
       "\n",
       "       totvotpoll  electors  \n",
       "64            398    265110  \n",
       "65            683    265110  \n",
       "66            734    265110  \n",
       "67            789    265110  \n",
       "68           1480    265110  \n",
       "69           1785    265110  \n",
       "70           4696    265110  \n",
       "71           4916    265110  \n",
       "72           7190    265110  \n",
       "73          72221    265110  \n",
       "74          75211    265110  \n",
       "84           1564    269360  \n",
       "4118         7824   1131430  \n",
       "4119         9157   1131430  \n",
       "4120        13378   1131430  \n",
       "4121        16441   1131430  \n",
       "4122        16471   1131430  \n",
       "4123        57931   1131430  \n",
       "4124       112930   1131430  \n",
       "4125       257181   1131430  \n",
       "4126       372268   1131430  \n",
       "4127         3328   1315642  \n",
       "4128         3414   1315642  \n",
       "4129         3938   1315642  \n",
       "4130         4468   1315642  \n",
       "4131         4541   1315642  \n",
       "4132         5511   1315642  \n",
       "4133         5752   1315642  \n",
       "4134         6726   1315642  \n",
       "4135         8364   1315642  \n",
       "...           ...       ...  \n",
       "72726       14626   1602849  \n",
       "72738        9965   1540713  \n",
       "72751       10979   1287222  \n",
       "72761       16837   1405981  \n",
       "72774       12700   1512792  \n",
       "72783        9971   1490596  \n",
       "72793        8819   1458724  \n",
       "72805        9342   1488785  \n",
       "72823       10657   1555914  \n",
       "72837       15667   1595746  \n",
       "72853       19511   1685296  \n",
       "72872        9103   1433985  \n",
       "72888        9929   1505099  \n",
       "72902        8277   1448632  \n",
       "72913       15374   1624038  \n",
       "72923       16517   1630042  \n",
       "72929       17837   1600293  \n",
       "72940       11643   1527273  \n",
       "72948        9598   1490409  \n",
       "72959       14418   1610489  \n",
       "72973       22935   1475112  \n",
       "72984       13616   1499673  \n",
       "72997       16726   1471933  \n",
       "73013       23682   1503812  \n",
       "73022       20928   1466921  \n",
       "73032       13951   1532244  \n",
       "73041       16886   1583495  \n",
       "73055       11479   1469684  \n",
       "73064       17322   1538421  \n",
       "73076       14557   1495089  \n",
       "\n",
       "[8612 rows x 11 columns]"
      ]
     },
     "execution_count": 8,
     "metadata": {},
     "output_type": "execute_result"
    }
   ],
   "source": [
    "nl[pd.isnull(nl).any(axis = 1)]"
   ]
  },
  {
   "cell_type": "code",
   "execution_count": 9,
   "metadata": {
    "scrolled": true
   },
   "outputs": [
    {
     "data": {
      "text/plain": [
       "Uttar Pradesh                          14791\n",
       "Bihar                                   7727\n",
       "Maharashtra                             6458\n",
       "Tamil Nadu                              5309\n",
       "Andhra Pradesh                          5236\n",
       "Madhya Pradesh                          5196\n",
       "West Bengal                             3648\n",
       "Karnataka                               3624\n",
       "Rajasthan                               3433\n",
       "Gujarat                                 2946\n",
       "Haryana                                 2066\n",
       "Kerala                                  1881\n",
       "National Capital Territory Of Delhi     1823\n",
       "Punjab                                  1715\n",
       "Orissa                                  1354\n",
       "Assam                                   1123\n",
       "Jammu & Kashmir                          695\n",
       "Jharkhand                                685\n",
       "Himachal Pradesh                         347\n",
       "Chhattisgarh                             324\n",
       "Nct Of Delhi                             317\n",
       "Chandigarh                               295\n",
       "Odisha                                   217\n",
       "Delhi                                    189\n",
       "Manipur                                  182\n",
       "Chattisgarh                              178\n",
       "Goa                                      171\n",
       "Tripura                                  164\n",
       "Uttarakhand                              155\n",
       "Meghalaya                                102\n",
       "Pondicherry                              101\n",
       "Andaman & Nicobar Islands                 91\n",
       "Arunachal Pradesh                         91\n",
       "Dadra & Nagar Haveli                      62\n",
       "Puducherry                                59\n",
       "Sikkim                                    59\n",
       "Uttaranchal                               54\n",
       "Daman & Diu                               50\n",
       "Mizoram                                   46\n",
       "Goa Daman & Diu                           36\n",
       "Lakshadweep                               34\n",
       "Nagaland                                  34\n",
       "Goa, Daman & Diu                          13\n",
       "Name: st_name, dtype: int64"
      ]
     },
     "execution_count": 9,
     "metadata": {},
     "output_type": "execute_result"
    }
   ],
   "source": [
    "nl.st_name.value_counts()"
   ]
  },
  {
   "cell_type": "code",
   "execution_count": 10,
   "metadata": {
    "scrolled": true
   },
   "outputs": [
    {
     "data": {
      "text/plain": [
       "Independent                             31458\n",
       "IND                                      5619\n",
       "Independents                             4050\n",
       "Indian National Congress                 3919\n",
       "Bharatiya Janata Party                   2329\n",
       "Bahujan Samaj Party                      1670\n",
       "Janata Dal                                943\n",
       "BSP                                       938\n",
       "INC                                       881\n",
       "BJP                                       792\n",
       "Janata Party                              712\n",
       "Samajwadi Party                           621\n",
       "Communist Party Of India (Marxist)        608\n",
       "NOTA                                      543\n",
       "Communist Party Of India                  507\n",
       "Indian Natioanl Congress (I)              492\n",
       "SP                                        434\n",
       "Janta Party                               432\n",
       "AAAP                                      432\n",
       "Bharatiya Lok Dal                         405\n",
       "Doordarshi Party                          395\n",
       "Shivsena                                  343\n",
       "All India Indira Congress (Tiwari)        321\n",
       "Door Darshi Party                         321\n",
       "Janta Party (Secular)                     294\n",
       "Lok Dal                                   274\n",
       "Ajeya Bharat Party                        253\n",
       "BMUP                                      233\n",
       "Bharatiya Janta Party                     229\n",
       "Rashtriya Janata Dal                      220\n",
       "                                        ...  \n",
       "SHP                                         1\n",
       "Deccan Congress                             1\n",
       "TNGP                                        1\n",
       "Gujarat Janata Parishad                     1\n",
       "Tamil Nadu Congress (K)                     1\n",
       "Bahujan Vikas Aaghadi                       1\n",
       "RBC                                         1\n",
       "LCP                                         1\n",
       "AKBAP                                       1\n",
       "RPI(D)                                      1\n",
       "PMP                                         1\n",
       "VoP                                         1\n",
       "RPS                                         1\n",
       "RRP                                         1\n",
       "STR                                         1\n",
       "M.G.R. Munnetra Kazhagam                    1\n",
       "Jan Ekata Morcha                            1\n",
       "RtrJP                                       1\n",
       "Federation Of Sabhas                        1\n",
       "Bharatiya Berozgar Mazdoor Kisan Dal        1\n",
       "All India Gorkha League                     1\n",
       "Democratic Congress Party                   1\n",
       "JSP                                         1\n",
       "RVMP                                        1\n",
       "BNIP                                        1\n",
       "Kamjor Varg Sangh,Bihar                     1\n",
       "RDHP                                        1\n",
       "BJM                                         1\n",
       "Bharti Lok Lehar Party                      1\n",
       "Rashtriya Surya Prakash Party               1\n",
       "Name: partyname, Length: 1424, dtype: int64"
      ]
     },
     "execution_count": 10,
     "metadata": {},
     "output_type": "execute_result"
    }
   ],
   "source": [
    "nl.partyname.value_counts()"
   ]
  },
  {
   "cell_type": "code",
   "execution_count": 11,
   "metadata": {
    "scrolled": true
   },
   "outputs": [
    {
     "data": {
      "text/plain": [
       "IND           41127\n",
       "INC            4800\n",
       "BJP            3350\n",
       "BSP            2624\n",
       "SP             1057\n",
       "JD              943\n",
       "CPM             770\n",
       "DDP             716\n",
       "JNP             675\n",
       "CPI             608\n",
       "JP              551\n",
       "NOTA            543\n",
       "INC(I)          492\n",
       "SHS             462\n",
       "AAAP            432\n",
       "BLD             405\n",
       "AIIC(T)         321\n",
       "TDP             301\n",
       "JNP(S)          294\n",
       "RJD             291\n",
       "AD              286\n",
       "CPI(ML)(L)      286\n",
       "JD(U)           281\n",
       "NCP             268\n",
       "AJBP            253\n",
       "LKD             253\n",
       "DMK             253\n",
       "BMUP            233\n",
       "AITC            228\n",
       "RPI             216\n",
       "              ...  \n",
       "APM               1\n",
       "PPVP              1\n",
       "DaVP              1\n",
       "RLSM              1\n",
       "PDLI              1\n",
       "NTP               1\n",
       "GJP               1\n",
       "RKEP              1\n",
       "MKD               1\n",
       "BRABSVP           1\n",
       "DPPS              1\n",
       "BJM               1\n",
       "MAHP              1\n",
       "RRS               1\n",
       "BNIP              1\n",
       "ABVCP             1\n",
       "APRD              1\n",
       "BAJP              1\n",
       "NJC               1\n",
       "JVP               1\n",
       "BRMD              1\n",
       "DNC               1\n",
       "BJBP              1\n",
       "MDP               1\n",
       "VJCP              1\n",
       "MRRC              1\n",
       "ABJND             1\n",
       "BSDP              1\n",
       "MaJP              1\n",
       "BHSSP             1\n",
       "Name: partyabbre, Length: 1071, dtype: int64"
      ]
     },
     "execution_count": 11,
     "metadata": {},
     "output_type": "execute_result"
    }
   ],
   "source": [
    "nl.partyabbre.value_counts()"
   ]
  },
  {
   "cell_type": "code",
   "execution_count": 12,
   "metadata": {},
   "outputs": [
    {
     "data": {
      "text/plain": [
       "M    68885\n",
       "F     3648\n",
       "O        6\n",
       "Name: cand_sex, dtype: int64"
      ]
     },
     "execution_count": 12,
     "metadata": {},
     "output_type": "execute_result"
    }
   ],
   "source": [
    "nl.cand_sex.value_counts()"
   ]
  },
  {
   "cell_type": "markdown",
   "metadata": {},
   "source": [
    "### Wrangling"
   ]
  },
  {
   "cell_type": "code",
   "execution_count": 13,
   "metadata": {},
   "outputs": [],
   "source": [
    "# Deleting rows with null values doesn't seem to be a good option so, I'll fill the null values with undefined\n",
    "\n",
    "nl.fillna('Undefined', inplace=True)"
   ]
  },
  {
   "cell_type": "code",
   "execution_count": 14,
   "metadata": {},
   "outputs": [],
   "source": [
    "# drop dupilcate entry\n",
    "nl.drop_duplicates(inplace= True)"
   ]
  },
  {
   "cell_type": "code",
   "execution_count": 62,
   "metadata": {},
   "outputs": [],
   "source": [
    "# replace state where two entries name Goa Daman & Diu and nct of Delhi\n",
    "# and lets keep Goa, Daman, and Diu as it is because they were a union territory of India \n",
    "#from 19 December 1961 to 30 May 1987. \n",
    "#The union territory comprised the present-day state of Goa and the two \n",
    "#small coastal enclaves of Daman and Diu on the coast of Gujarat.\n",
    "\n",
    "nl.st_name.replace('Goa Daman & Diu', 'Goa, Daman & Diu', inplace = True)\n",
    "nl.st_name.replace('Nct Of Delhi', 'National Capital Territory Of Delhi', inplace = True)\n",
    "nl.st_name.replace('Delhi', 'National Capital Territory Of Delhi', inplace = True)"
   ]
  },
  {
   "cell_type": "markdown",
   "metadata": {},
   "source": [
    "##### There are few rows in partynames where abbrivation is used instead of party names I'll not be replacing those beacuse I'll use the partyabbre column instead of partynames."
   ]
  },
  {
   "cell_type": "code",
   "execution_count": 63,
   "metadata": {},
   "outputs": [],
   "source": [
    "# replace gender O with undefined\n",
    "nl.cand_sex.replace('O', 'Undefined', inplace = True)"
   ]
  },
  {
   "cell_type": "code",
   "execution_count": 64,
   "metadata": {},
   "outputs": [],
   "source": [
    "nl['partyabbre'] = nl['partyabbre'].str.upper()"
   ]
  },
  {
   "cell_type": "code",
   "execution_count": 65,
   "metadata": {},
   "outputs": [],
   "source": [
    "nl.to_csv('nl_elections.csv', encoding='UTF-8')"
   ]
  },
  {
   "cell_type": "markdown",
   "metadata": {},
   "source": [
    "### Analysis"
   ]
  },
  {
   "cell_type": "markdown",
   "metadata": {},
   "source": [
    "#### Total Votes over time"
   ]
  },
  {
   "cell_type": "code",
   "execution_count": 57,
   "metadata": {},
   "outputs": [
    {
     "data": {
      "application/vnd.plotly.v1+json": {
       "config": {
        "linkText": "Export to plot.ly",
        "plotlyServerURL": "https://plot.ly",
        "showLink": false
       },
       "data": [
        {
         "mode": "lines+markers",
         "name": "Total Votes",
         "type": "scatter",
         "uid": "00f2897d-d36b-4457-95aa-28172af23cd9",
         "x": [
          1977,
          1980,
          1984,
          1989,
          1991,
          1996,
          1998,
          1999,
          2004,
          2009,
          2014
         ],
         "y": [
          188917504,
          197824274,
          249583543,
          300713805,
          278218849,
          334327592,
          367952396,
          363694693,
          389779784,
          417158672,
          553802946
         ]
        }
       ],
       "layout": {
        "title": {
         "text": "Total votes over year"
        },
        "xaxis": {
         "title": {
          "text": "Year"
         }
        },
        "yaxis": {
         "title": {
          "text": "Count"
         }
        }
       }
      },
      "text/html": [
       "<div id=\"d3b4aaa6-64f6-4d00-8856-1edcce5f09e0\" style=\"height: 525px; width: 100%;\" class=\"plotly-graph-div\"></div><script type=\"text/javascript\">require([\"plotly\"], function(Plotly) { window.PLOTLYENV=window.PLOTLYENV || {};window.PLOTLYENV.BASE_URL=\"https://plot.ly\";Plotly.newPlot(\"d3b4aaa6-64f6-4d00-8856-1edcce5f09e0\", [{\"mode\": \"lines+markers\", \"name\": \"Total Votes\", \"x\": [1977, 1980, 1984, 1989, 1991, 1996, 1998, 1999, 2004, 2009, 2014], \"y\": [188917504, 197824274, 249583543, 300713805, 278218849, 334327592, 367952396, 363694693, 389779784, 417158672, 553802946], \"type\": \"scatter\", \"uid\": \"00f2897d-d36b-4457-95aa-28172af23cd9\"}], {\"title\": {\"text\": \"Total votes over year\"}, \"xaxis\": {\"title\": {\"text\": \"Year\"}}, \"yaxis\": {\"title\": {\"text\": \"Count\"}}}, {\"showLink\": false, \"linkText\": \"Export to plot.ly\", \"plotlyServerURL\": \"https://plot.ly\"})});</script><script type=\"text/javascript\">window.addEventListener(\"resize\", function(){window._Plotly.Plots.resize(document.getElementById(\"d3b4aaa6-64f6-4d00-8856-1edcce5f09e0\"));});</script>"
      ],
      "text/vnd.plotly.v1+html": [
       "<div id=\"d3b4aaa6-64f6-4d00-8856-1edcce5f09e0\" style=\"height: 525px; width: 100%;\" class=\"plotly-graph-div\"></div><script type=\"text/javascript\">require([\"plotly\"], function(Plotly) { window.PLOTLYENV=window.PLOTLYENV || {};window.PLOTLYENV.BASE_URL=\"https://plot.ly\";Plotly.newPlot(\"d3b4aaa6-64f6-4d00-8856-1edcce5f09e0\", [{\"mode\": \"lines+markers\", \"name\": \"Total Votes\", \"x\": [1977, 1980, 1984, 1989, 1991, 1996, 1998, 1999, 2004, 2009, 2014], \"y\": [188917504, 197824274, 249583543, 300713805, 278218849, 334327592, 367952396, 363694693, 389779784, 417158672, 553802946], \"type\": \"scatter\", \"uid\": \"00f2897d-d36b-4457-95aa-28172af23cd9\"}], {\"title\": {\"text\": \"Total votes over year\"}, \"xaxis\": {\"title\": {\"text\": \"Year\"}}, \"yaxis\": {\"title\": {\"text\": \"Count\"}}}, {\"showLink\": false, \"linkText\": \"Export to plot.ly\", \"plotlyServerURL\": \"https://plot.ly\"})});</script><script type=\"text/javascript\">window.addEventListener(\"resize\", function(){window._Plotly.Plots.resize(document.getElementById(\"d3b4aaa6-64f6-4d00-8856-1edcce5f09e0\"));});</script>"
      ]
     },
     "metadata": {},
     "output_type": "display_data"
    }
   ],
   "source": [
    "# we cannot use electors to compare because it contains total number of registered voters \n",
    "#which also includes people who are dead.\n",
    "\n",
    "total = nl.groupby(['year']).sum()['totvotpoll'].reset_index(name ='Total')\n",
    "\n",
    "trace1 = go.Scatter( x = total.year,\n",
    "                   y = total.Total,\n",
    "                   mode = 'lines+markers',\n",
    "                   name = 'Total Votes')\n",
    "data = [trace1]\n",
    "\n",
    "layout = go.Layout(title = 'Total votes over year',\n",
    "                  xaxis = dict(title = 'Year'),\n",
    "                  yaxis = dict(title = 'Count'))\n",
    "\n",
    "fig = go.Figure(data = data, layout = layout)\n",
    "py.offline.iplot(fig)"
   ]
  },
  {
   "cell_type": "code",
   "execution_count": 89,
   "metadata": {},
   "outputs": [],
   "source": []
  },
  {
   "cell_type": "code",
   "execution_count": 191,
   "metadata": {
    "scrolled": false
   },
   "outputs": [],
   "source": [
    "d = widgets.Dropdown(\n",
    "    options=[i for i in nl.st_name.unique()],\n",
    "    description='Select State:',\n",
    "    disabled=False,\n",
    ")\n",
    "\n",
    "def get_plot(value):\n",
    "    value = d.value\n",
    "    state = nl[nl['st_name'] == value]\n",
    "    total = state.groupby(['partyabbre', 'year']).sum()['totvotpoll'].reset_index(name ='Total')\n",
    "    figure = bubbleplot(dataset=total,\n",
    "        x_column='year', y_column='Total', bubble_column='partyabbre',\n",
    "        size_column='Total', color_column='partyabbre',\n",
    "        x_title=\"Years\", y_title=\"Total Number of Votes\",\n",
    "        title='Peoples votes for each party',\n",
    "        x_range=['1977', '2014'],\n",
    "        marker_opacity = 0.6)\n",
    "    iplot(figure)\n",
    "    \n"
   ]
  },
  {
   "cell_type": "code",
   "execution_count": 192,
   "metadata": {},
   "outputs": [
    {
     "data": {
      "application/vnd.jupyter.widget-view+json": {
       "model_id": "cfee6ecb70a34170804b1fca01127de2",
       "version_major": 2,
       "version_minor": 0
      },
      "text/plain": [
       "Dropdown(description='Select State:', options=('Andaman & Nicobar Islands', 'Andhra Pradesh', 'Arunachal Prade…"
      ]
     },
     "metadata": {},
     "output_type": "display_data"
    },
    {
     "data": {
      "application/vnd.plotly.v1+json": {
       "config": {
        "linkText": "Export to plot.ly",
        "plotlyServerURL": "https://plot.ly",
        "showLink": false
       },
       "data": [
        {
         "marker": {
          "opacity": 0.6,
          "size": [
           688
          ],
          "sizemode": "area",
          "sizeref": 1203.740625
         },
         "mode": "markers",
         "name": "ABHM",
         "text": [
          "ABHM"
         ],
         "type": "scatter",
         "uid": "cdcb9d99-365b-4886-a778-a5debe466052",
         "x": [
          2009
         ],
         "y": [
          688
         ]
        },
        {
         "marker": {
          "opacity": 0.6,
          "size": [
           786
          ],
          "sizemode": "area",
          "sizeref": 1203.740625
         },
         "mode": "markers",
         "name": "ABSSP",
         "text": [
          "ABSSP"
         ],
         "type": "scatter",
         "uid": "e4c280dc-d649-469f-a241-f0d43559ce97",
         "x": [
          2009
         ],
         "y": [
          786
         ]
        },
        {
         "marker": {
          "opacity": 0.6,
          "size": [
           5896
          ],
          "sizemode": "area",
          "sizeref": 1203.740625
         },
         "mode": "markers",
         "name": "AD",
         "text": [
          "AD"
         ],
         "type": "scatter",
         "uid": "793bad28-46d3-4f2c-821e-42bea9fe65d9",
         "x": [
          2009
         ],
         "y": [
          5896
         ]
        },
        {
         "marker": {
          "opacity": 0.6,
          "size": [
           3292
          ],
          "sizemode": "area",
          "sizeref": 1203.740625
         },
         "mode": "markers",
         "name": "BHPD",
         "text": [
          "BHPD"
         ],
         "type": "scatter",
         "uid": "69b7a0f3-8a40-487f-94a5-7a16f0389a20",
         "x": [
          2009
         ],
         "y": [
          3292
         ]
        },
        {
         "marker": {
          "opacity": 0.6,
          "size": [
           3851970
          ],
          "sizemode": "area",
          "sizeref": 1203.740625
         },
         "mode": "markers",
         "name": "BJP",
         "text": [
          "BJP"
         ],
         "type": "scatter",
         "uid": "f400c2c5-9e84-4a79-bd65-e9ec61f42736",
         "x": [
          2009
         ],
         "y": [
          3851970
         ]
        },
        {
         "marker": {
          "opacity": 0.6,
          "size": [
           386872
          ],
          "sizemode": "area",
          "sizeref": 1203.740625
         },
         "mode": "markers",
         "name": "BSP",
         "text": [
          "BSP"
         ],
         "type": "scatter",
         "uid": "f89844e9-cb3e-4527-bfa8-278227a4b76c",
         "x": [
          2009
         ],
         "y": [
          386872
         ]
        },
        {
         "marker": {
          "opacity": 0.6,
          "size": [
           18394
          ],
          "sizemode": "area",
          "sizeref": 1203.740625
         },
         "mode": "markers",
         "name": "CGVP",
         "text": [
          "CGVP"
         ],
         "type": "scatter",
         "uid": "7af02d51-cd59-4065-a781-b69417be16bc",
         "x": [
          2009
         ],
         "y": [
          18394
         ]
        },
        {
         "marker": {
          "opacity": 0.6,
          "size": [
           78420
          ],
          "sizemode": "area",
          "sizeref": 1203.740625
         },
         "mode": "markers",
         "name": "CPI",
         "text": [
          "CPI"
         ],
         "type": "scatter",
         "uid": "d919ce85-a438-4692-926d-a306e7a5d624",
         "x": [
          2009
         ],
         "y": [
          78420
         ]
        },
        {
         "marker": {
          "opacity": 0.6,
          "size": [
           11667
          ],
          "sizemode": "area",
          "sizeref": 1203.740625
         },
         "mode": "markers",
         "name": "CPM",
         "text": [
          "CPM"
         ],
         "type": "scatter",
         "uid": "d0800a6e-e2f0-45eb-91a9-151bc4afe655",
         "x": [
          2009
         ],
         "y": [
          11667
         ]
        },
        {
         "marker": {
          "opacity": 0.6,
          "size": [
           11972
          ],
          "sizemode": "area",
          "sizeref": 1203.740625
         },
         "mode": "markers",
         "name": "CSP",
         "text": [
          "CSP"
         ],
         "type": "scatter",
         "uid": "52bd521e-cc38-4749-8087-08406506274f",
         "x": [
          2009
         ],
         "y": [
          11972
         ]
        },
        {
         "marker": {
          "opacity": 0.6,
          "size": [
           8307
          ],
          "sizemode": "area",
          "sizeref": 1203.740625
         },
         "mode": "markers",
         "name": "EKSP",
         "text": [
          "EKSP"
         ],
         "type": "scatter",
         "uid": "e4abc743-e97a-4253-ac80-c42895e08029",
         "x": [
          2009
         ],
         "y": [
          8307
         ]
        },
        {
         "marker": {
          "opacity": 0.6,
          "size": [
           60206
          ],
          "sizemode": "area",
          "sizeref": 1203.740625
         },
         "mode": "markers",
         "name": "GGP",
         "text": [
          "GGP"
         ],
         "type": "scatter",
         "uid": "061de3b9-38ac-43e2-a787-0c0b86f81c79",
         "x": [
          2009
         ],
         "y": [
          60206
         ]
        },
        {
         "marker": {
          "opacity": 0.6,
          "size": [
           4190
          ],
          "sizemode": "area",
          "sizeref": 1203.740625
         },
         "mode": "markers",
         "name": "GMS",
         "text": [
          "GMS"
         ],
         "type": "scatter",
         "uid": "041855ba-0aed-4212-9118-80c70c51963d",
         "x": [
          2009
         ],
         "y": [
          4190
         ]
        },
        {
         "marker": {
          "opacity": 0.6,
          "size": [
           3192007
          ],
          "sizemode": "area",
          "sizeref": 1203.740625
         },
         "mode": "markers",
         "name": "INC",
         "text": [
          "INC"
         ],
         "type": "scatter",
         "uid": "a9ed176d-1f4a-41e9-9c7e-263194f33723",
         "x": [
          2009
         ],
         "y": [
          3192007
         ]
        },
        {
         "marker": {
          "opacity": 0.6,
          "size": [
           842855
          ],
          "sizemode": "area",
          "sizeref": 1203.740625
         },
         "mode": "markers",
         "name": "IND",
         "text": [
          "IND"
         ],
         "type": "scatter",
         "uid": "46691f39-a3b7-4c12-8103-3b7c9b9fa033",
         "x": [
          2009
         ],
         "y": [
          842855
         ]
        },
        {
         "marker": {
          "opacity": 0.6,
          "size": [
           2397
          ],
          "sizemode": "area",
          "sizeref": 1203.740625
         },
         "mode": "markers",
         "name": "JCGP",
         "text": [
          "JCGP"
         ],
         "type": "scatter",
         "uid": "b20aacdf-580a-4ff1-a46d-baf7c13a3b46",
         "x": [
          2009
         ],
         "y": [
          2397
         ]
        },
        {
         "marker": {
          "opacity": 0.6,
          "size": [
           4261
          ],
          "sizemode": "area",
          "sizeref": 1203.740625
         },
         "mode": "markers",
         "name": "JD(U)",
         "text": [
          "JD(U)"
         ],
         "type": "scatter",
         "uid": "8eaf3ed0-7a6b-4780-bd42-43f676fbe028",
         "x": [
          2009
         ],
         "y": [
          4261
         ]
        },
        {
         "marker": {
          "opacity": 0.6,
          "size": [
           34881
          ],
          "sizemode": "area",
          "sizeref": 1203.740625
         },
         "mode": "markers",
         "name": "JMM",
         "text": [
          "JMM"
         ],
         "type": "scatter",
         "uid": "11f8c6bc-0645-4470-aa12-16dbf10603d6",
         "x": [
          2009
         ],
         "y": [
          34881
         ]
        },
        {
         "marker": {
          "opacity": 0.6,
          "size": [
           6436
          ],
          "sizemode": "area",
          "sizeref": 1203.740625
         },
         "mode": "markers",
         "name": "LB",
         "text": [
          "LB"
         ],
         "type": "scatter",
         "uid": "72890bc4-55dc-4c72-8210-d208538433b5",
         "x": [
          2009
         ],
         "y": [
          6436
         ]
        },
        {
         "marker": {
          "opacity": 0.6,
          "size": [
           7397
          ],
          "sizemode": "area",
          "sizeref": 1203.740625
         },
         "mode": "markers",
         "name": "LJP",
         "text": [
          "LJP"
         ],
         "type": "scatter",
         "uid": "0ef83370-d2e9-4546-8280-541d24368de4",
         "x": [
          2009
         ],
         "y": [
          7397
         ]
        },
        {
         "marker": {
          "opacity": 0.6,
          "size": [
           932
          ],
          "sizemode": "area",
          "sizeref": 1203.740625
         },
         "mode": "markers",
         "name": "LSWP",
         "text": [
          "LSWP"
         ],
         "type": "scatter",
         "uid": "80a5e617-2ad6-4480-976c-06a8e134a489",
         "x": [
          2009
         ],
         "y": [
          932
         ]
        },
        {
         "marker": {
          "opacity": 0.6,
          "size": [
           712
          ],
          "sizemode": "area",
          "sizeref": 1203.740625
         },
         "mode": "markers",
         "name": "PPOI",
         "text": [
          "PPOI"
         ],
         "type": "scatter",
         "uid": "fe831d68-8687-4d98-ae9d-d414d74be580",
         "x": [
          2009
         ],
         "y": [
          712
         ]
        },
        {
         "marker": {
          "opacity": 0.6,
          "size": [
           1802
          ],
          "sizemode": "area",
          "sizeref": 1203.740625
         },
         "mode": "markers",
         "name": "RGOP",
         "text": [
          "RGOP"
         ],
         "type": "scatter",
         "uid": "dab11b84-b200-4b61-ab30-682c4523456b",
         "x": [
          2009
         ],
         "y": [
          1802
         ]
        },
        {
         "marker": {
          "opacity": 0.6,
          "size": [
           1491
          ],
          "sizemode": "area",
          "sizeref": 1203.740625
         },
         "mode": "markers",
         "name": "RPI",
         "text": [
          "RPI"
         ],
         "type": "scatter",
         "uid": "a4d472b3-85ed-481a-a5ef-9dff627ddd47",
         "x": [
          2009
         ],
         "y": [
          1491
         ]
        },
        {
         "marker": {
          "opacity": 0.6,
          "size": [
           7890
          ],
          "sizemode": "area",
          "sizeref": 1203.740625
         },
         "mode": "markers",
         "name": "RPI(A)",
         "text": [
          "RPI(A)"
         ],
         "type": "scatter",
         "uid": "29f3322a-b479-405f-9ffa-f38139ade99d",
         "x": [
          2009
         ],
         "y": [
          7890
         ]
        },
        {
         "marker": {
          "opacity": 0.6,
          "size": [
           589
          ],
          "sizemode": "area",
          "sizeref": 1203.740625
         },
         "mode": "markers",
         "name": "SSBD",
         "text": [
          "SSBD"
         ],
         "type": "scatter",
         "uid": "2bbf04d4-6e32-4fd2-a94e-17fd26e1ac51",
         "x": [
          2009
         ],
         "y": [
          589
         ]
        },
        {
         "marker": {
          "opacity": 0.6,
          "size": [
           3413
          ],
          "sizemode": "area",
          "sizeref": 1203.740625
         },
         "mode": "markers",
         "name": "SSD",
         "text": [
          "SSD"
         ],
         "type": "scatter",
         "uid": "23bb4b25-eb42-443f-b3fe-38781315423c",
         "x": [
          2009
         ],
         "y": [
          3413
         ]
        },
        {
         "marker": {
          "opacity": 0.6,
          "size": [
           5120
          ],
          "sizemode": "area",
          "sizeref": 1203.740625
         },
         "mode": "markers",
         "name": "SUSP",
         "text": [
          "SUSP"
         ],
         "type": "scatter",
         "uid": "522981cd-91d2-4e4e-96ee-8ab31363ae05",
         "x": [
          2009
         ],
         "y": [
          5120
         ]
        }
       ],
       "layout": {
        "hovermode": "closest",
        "margin": {
         "b": 50,
         "pad": 5,
         "t": 50
        },
        "showlegend": true,
        "title": {
         "text": "Peoples votes for each party"
        },
        "xaxis": {
         "autorange": false,
         "range": [
          "1977",
          "2014"
         ],
         "title": {
          "text": "Years"
         }
        },
        "yaxis": {
         "autorange": false,
         "range": [
          412.29999999999995,
          5392758
         ],
         "title": {
          "text": "Total Number of Votes"
         }
        }
       }
      },
      "text/html": [
       "<div id=\"08a7811f-c579-49a6-a47a-1e8ebbb55dcf\" style=\"height: 525px; width: 100%;\" class=\"plotly-graph-div\"></div><script type=\"text/javascript\">require([\"plotly\"], function(Plotly) { window.PLOTLYENV=window.PLOTLYENV || {};window.PLOTLYENV.BASE_URL=\"https://plot.ly\";Plotly.newPlot(\"08a7811f-c579-49a6-a47a-1e8ebbb55dcf\", [{\"marker\": {\"opacity\": 0.6, \"size\": [688], \"sizemode\": \"area\", \"sizeref\": 1203.740625}, \"mode\": \"markers\", \"name\": \"ABHM\", \"text\": [\"ABHM\"], \"x\": [2009], \"y\": [688], \"type\": \"scatter\", \"uid\": \"8d6460a7-de37-4309-8ae1-372622927b14\"}, {\"marker\": {\"opacity\": 0.6, \"size\": [786], \"sizemode\": \"area\", \"sizeref\": 1203.740625}, \"mode\": \"markers\", \"name\": \"ABSSP\", \"text\": [\"ABSSP\"], \"x\": [2009], \"y\": [786], \"type\": \"scatter\", \"uid\": \"6b3c2d82-4be2-4d90-b0c3-32d7338ad792\"}, {\"marker\": {\"opacity\": 0.6, \"size\": [5896], \"sizemode\": \"area\", \"sizeref\": 1203.740625}, \"mode\": \"markers\", \"name\": \"AD\", \"text\": [\"AD\"], \"x\": [2009], \"y\": [5896], \"type\": \"scatter\", \"uid\": \"cefad8d3-64a2-4c4a-b6ed-7e794ea81c8d\"}, {\"marker\": {\"opacity\": 0.6, \"size\": [3292], \"sizemode\": \"area\", \"sizeref\": 1203.740625}, \"mode\": \"markers\", \"name\": \"BHPD\", \"text\": [\"BHPD\"], \"x\": [2009], \"y\": [3292], \"type\": \"scatter\", \"uid\": \"c034fcfa-78ea-4f38-afd2-62acc0acb1e1\"}, {\"marker\": {\"opacity\": 0.6, \"size\": [3851970], \"sizemode\": \"area\", \"sizeref\": 1203.740625}, \"mode\": \"markers\", \"name\": \"BJP\", \"text\": [\"BJP\"], \"x\": [2009], \"y\": [3851970], \"type\": \"scatter\", \"uid\": \"e7d73d88-31c2-4098-901d-8120de4514ca\"}, {\"marker\": {\"opacity\": 0.6, \"size\": [386872], \"sizemode\": \"area\", \"sizeref\": 1203.740625}, \"mode\": \"markers\", \"name\": \"BSP\", \"text\": [\"BSP\"], \"x\": [2009], \"y\": [386872], \"type\": \"scatter\", \"uid\": \"b1f434dd-a489-4980-bcb5-e3d3eacf9447\"}, {\"marker\": {\"opacity\": 0.6, \"size\": [18394], \"sizemode\": \"area\", \"sizeref\": 1203.740625}, \"mode\": \"markers\", \"name\": \"CGVP\", \"text\": [\"CGVP\"], \"x\": [2009], \"y\": [18394], \"type\": \"scatter\", \"uid\": \"a04572ba-5a1e-47d8-8527-92f6b6edcda3\"}, {\"marker\": {\"opacity\": 0.6, \"size\": [78420], \"sizemode\": \"area\", \"sizeref\": 1203.740625}, \"mode\": \"markers\", \"name\": \"CPI\", \"text\": [\"CPI\"], \"x\": [2009], \"y\": [78420], \"type\": \"scatter\", \"uid\": \"9ef9e387-1021-4eb5-9e6f-f096cd208526\"}, {\"marker\": {\"opacity\": 0.6, \"size\": [11667], \"sizemode\": \"area\", \"sizeref\": 1203.740625}, \"mode\": \"markers\", \"name\": \"CPM\", \"text\": [\"CPM\"], \"x\": [2009], \"y\": [11667], \"type\": \"scatter\", \"uid\": \"a8312a6a-8bfa-4999-9be3-ac7ca1c245b9\"}, {\"marker\": {\"opacity\": 0.6, \"size\": [11972], \"sizemode\": \"area\", \"sizeref\": 1203.740625}, \"mode\": \"markers\", \"name\": \"CSP\", \"text\": [\"CSP\"], \"x\": [2009], \"y\": [11972], \"type\": \"scatter\", \"uid\": \"d875a7ae-3ceb-4bba-be10-1906080f9675\"}, {\"marker\": {\"opacity\": 0.6, \"size\": [8307], \"sizemode\": \"area\", \"sizeref\": 1203.740625}, \"mode\": \"markers\", \"name\": \"EKSP\", \"text\": [\"EKSP\"], \"x\": [2009], \"y\": [8307], \"type\": \"scatter\", \"uid\": \"f604c12b-e252-4c70-a2eb-cca33f923116\"}, {\"marker\": {\"opacity\": 0.6, \"size\": [60206], \"sizemode\": \"area\", \"sizeref\": 1203.740625}, \"mode\": \"markers\", \"name\": \"GGP\", \"text\": [\"GGP\"], \"x\": [2009], \"y\": [60206], \"type\": \"scatter\", \"uid\": \"ca85615d-3a7e-4e40-949f-cc74f40eade3\"}, {\"marker\": {\"opacity\": 0.6, \"size\": [4190], \"sizemode\": \"area\", \"sizeref\": 1203.740625}, \"mode\": \"markers\", \"name\": \"GMS\", \"text\": [\"GMS\"], \"x\": [2009], \"y\": [4190], \"type\": \"scatter\", \"uid\": \"aee46103-94cb-443c-8d14-2b8227faaf56\"}, {\"marker\": {\"opacity\": 0.6, \"size\": [3192007], \"sizemode\": \"area\", \"sizeref\": 1203.740625}, \"mode\": \"markers\", \"name\": \"INC\", \"text\": [\"INC\"], \"x\": [2009], \"y\": [3192007], \"type\": \"scatter\", \"uid\": \"0257ed83-b19f-4a2e-8459-14a388e06aa9\"}, {\"marker\": {\"opacity\": 0.6, \"size\": [842855], \"sizemode\": \"area\", \"sizeref\": 1203.740625}, \"mode\": \"markers\", \"name\": \"IND\", \"text\": [\"IND\"], \"x\": [2009], \"y\": [842855], \"type\": \"scatter\", \"uid\": \"8e3c9a6f-f128-4b00-bfd5-fe05fb9ca028\"}, {\"marker\": {\"opacity\": 0.6, \"size\": [2397], \"sizemode\": \"area\", \"sizeref\": 1203.740625}, \"mode\": \"markers\", \"name\": \"JCGP\", \"text\": [\"JCGP\"], \"x\": [2009], \"y\": [2397], \"type\": \"scatter\", \"uid\": \"a83426f8-7cf4-4d05-9091-30debbcb7082\"}, {\"marker\": {\"opacity\": 0.6, \"size\": [4261], \"sizemode\": \"area\", \"sizeref\": 1203.740625}, \"mode\": \"markers\", \"name\": \"JD(U)\", \"text\": [\"JD(U)\"], \"x\": [2009], \"y\": [4261], \"type\": \"scatter\", \"uid\": \"45a0f29c-238a-4e5d-8aeb-11733f174c68\"}, {\"marker\": {\"opacity\": 0.6, \"size\": [34881], \"sizemode\": \"area\", \"sizeref\": 1203.740625}, \"mode\": \"markers\", \"name\": \"JMM\", \"text\": [\"JMM\"], \"x\": [2009], \"y\": [34881], \"type\": \"scatter\", \"uid\": \"7f497592-41d8-400c-9346-a6f3b66cd17c\"}, {\"marker\": {\"opacity\": 0.6, \"size\": [6436], \"sizemode\": \"area\", \"sizeref\": 1203.740625}, \"mode\": \"markers\", \"name\": \"LB\", \"text\": [\"LB\"], \"x\": [2009], \"y\": [6436], \"type\": \"scatter\", \"uid\": \"96d593e7-98a5-45f2-847c-13ae77b8d490\"}, {\"marker\": {\"opacity\": 0.6, \"size\": [7397], \"sizemode\": \"area\", \"sizeref\": 1203.740625}, \"mode\": \"markers\", \"name\": \"LJP\", \"text\": [\"LJP\"], \"x\": [2009], \"y\": [7397], \"type\": \"scatter\", \"uid\": \"581aeb5a-c0e2-4797-992f-b670c188d936\"}, {\"marker\": {\"opacity\": 0.6, \"size\": [932], \"sizemode\": \"area\", \"sizeref\": 1203.740625}, \"mode\": \"markers\", \"name\": \"LSWP\", \"text\": [\"LSWP\"], \"x\": [2009], \"y\": [932], \"type\": \"scatter\", \"uid\": \"eeed9d28-728b-4796-9bcf-e18fc13791fd\"}, {\"marker\": {\"opacity\": 0.6, \"size\": [712], \"sizemode\": \"area\", \"sizeref\": 1203.740625}, \"mode\": \"markers\", \"name\": \"PPOI\", \"text\": [\"PPOI\"], \"x\": [2009], \"y\": [712], \"type\": \"scatter\", \"uid\": \"a833c4e3-d5d0-4ed4-a44b-dfa92a37d108\"}, {\"marker\": {\"opacity\": 0.6, \"size\": [1802], \"sizemode\": \"area\", \"sizeref\": 1203.740625}, \"mode\": \"markers\", \"name\": \"RGOP\", \"text\": [\"RGOP\"], \"x\": [2009], \"y\": [1802], \"type\": \"scatter\", \"uid\": \"520b6080-8877-4bde-930e-95d5ad1a046f\"}, {\"marker\": {\"opacity\": 0.6, \"size\": [1491], \"sizemode\": \"area\", \"sizeref\": 1203.740625}, \"mode\": \"markers\", \"name\": \"RPI\", \"text\": [\"RPI\"], \"x\": [2009], \"y\": [1491], \"type\": \"scatter\", \"uid\": \"1a8f5ff3-d480-4131-8f9b-493ac4000cf5\"}, {\"marker\": {\"opacity\": 0.6, \"size\": [7890], \"sizemode\": \"area\", \"sizeref\": 1203.740625}, \"mode\": \"markers\", \"name\": \"RPI(A)\", \"text\": [\"RPI(A)\"], \"x\": [2009], \"y\": [7890], \"type\": \"scatter\", \"uid\": \"8ced16aa-47a5-4f4e-95d5-80b03ea6b2f4\"}, {\"marker\": {\"opacity\": 0.6, \"size\": [589], \"sizemode\": \"area\", \"sizeref\": 1203.740625}, \"mode\": \"markers\", \"name\": \"SSBD\", \"text\": [\"SSBD\"], \"x\": [2009], \"y\": [589], \"type\": \"scatter\", \"uid\": \"a726ccb8-2231-493f-9ea4-58063d9e1a42\"}, {\"marker\": {\"opacity\": 0.6, \"size\": [3413], \"sizemode\": \"area\", \"sizeref\": 1203.740625}, \"mode\": \"markers\", \"name\": \"SSD\", \"text\": [\"SSD\"], \"x\": [2009], \"y\": [3413], \"type\": \"scatter\", \"uid\": \"78b99027-838f-4d61-989a-93a4eaae9ec1\"}, {\"marker\": {\"opacity\": 0.6, \"size\": [5120], \"sizemode\": \"area\", \"sizeref\": 1203.740625}, \"mode\": \"markers\", \"name\": \"SUSP\", \"text\": [\"SUSP\"], \"x\": [2009], \"y\": [5120], \"type\": \"scatter\", \"uid\": \"ff773607-797a-471d-b682-4f52a2263e0e\"}], {\"hovermode\": \"closest\", \"margin\": {\"b\": 50, \"pad\": 5, \"t\": 50}, \"showlegend\": true, \"title\": {\"text\": \"Peoples votes for each party\"}, \"xaxis\": {\"autorange\": false, \"range\": [\"1977\", \"2014\"], \"title\": {\"text\": \"Years\"}}, \"yaxis\": {\"autorange\": false, \"range\": [412.29999999999995, 5392758.0], \"title\": {\"text\": \"Total Number of Votes\"}}}, {\"showLink\": false, \"linkText\": \"Export to plot.ly\", \"plotlyServerURL\": \"https://plot.ly\"})});</script><script type=\"text/javascript\">window.addEventListener(\"resize\", function(){window._Plotly.Plots.resize(document.getElementById(\"08a7811f-c579-49a6-a47a-1e8ebbb55dcf\"));});</script>"
      ],
      "text/vnd.plotly.v1+html": [
       "<div id=\"08a7811f-c579-49a6-a47a-1e8ebbb55dcf\" style=\"height: 525px; width: 100%;\" class=\"plotly-graph-div\"></div><script type=\"text/javascript\">require([\"plotly\"], function(Plotly) { window.PLOTLYENV=window.PLOTLYENV || {};window.PLOTLYENV.BASE_URL=\"https://plot.ly\";Plotly.newPlot(\"08a7811f-c579-49a6-a47a-1e8ebbb55dcf\", [{\"marker\": {\"opacity\": 0.6, \"size\": [688], \"sizemode\": \"area\", \"sizeref\": 1203.740625}, \"mode\": \"markers\", \"name\": \"ABHM\", \"text\": [\"ABHM\"], \"x\": [2009], \"y\": [688], \"type\": \"scatter\", \"uid\": \"8d6460a7-de37-4309-8ae1-372622927b14\"}, {\"marker\": {\"opacity\": 0.6, \"size\": [786], \"sizemode\": \"area\", \"sizeref\": 1203.740625}, \"mode\": \"markers\", \"name\": \"ABSSP\", \"text\": [\"ABSSP\"], \"x\": [2009], \"y\": [786], \"type\": \"scatter\", \"uid\": \"6b3c2d82-4be2-4d90-b0c3-32d7338ad792\"}, {\"marker\": {\"opacity\": 0.6, \"size\": [5896], \"sizemode\": \"area\", \"sizeref\": 1203.740625}, \"mode\": \"markers\", \"name\": \"AD\", \"text\": [\"AD\"], \"x\": [2009], \"y\": [5896], \"type\": \"scatter\", \"uid\": \"cefad8d3-64a2-4c4a-b6ed-7e794ea81c8d\"}, {\"marker\": {\"opacity\": 0.6, \"size\": [3292], \"sizemode\": \"area\", \"sizeref\": 1203.740625}, \"mode\": \"markers\", \"name\": \"BHPD\", \"text\": [\"BHPD\"], \"x\": [2009], \"y\": [3292], \"type\": \"scatter\", \"uid\": \"c034fcfa-78ea-4f38-afd2-62acc0acb1e1\"}, {\"marker\": {\"opacity\": 0.6, \"size\": [3851970], \"sizemode\": \"area\", \"sizeref\": 1203.740625}, \"mode\": \"markers\", \"name\": \"BJP\", \"text\": [\"BJP\"], \"x\": [2009], \"y\": [3851970], \"type\": \"scatter\", \"uid\": \"e7d73d88-31c2-4098-901d-8120de4514ca\"}, {\"marker\": {\"opacity\": 0.6, \"size\": [386872], \"sizemode\": \"area\", \"sizeref\": 1203.740625}, \"mode\": \"markers\", \"name\": \"BSP\", \"text\": [\"BSP\"], \"x\": [2009], \"y\": [386872], \"type\": \"scatter\", \"uid\": \"b1f434dd-a489-4980-bcb5-e3d3eacf9447\"}, {\"marker\": {\"opacity\": 0.6, \"size\": [18394], \"sizemode\": \"area\", \"sizeref\": 1203.740625}, \"mode\": \"markers\", \"name\": \"CGVP\", \"text\": [\"CGVP\"], \"x\": [2009], \"y\": [18394], \"type\": \"scatter\", \"uid\": \"a04572ba-5a1e-47d8-8527-92f6b6edcda3\"}, {\"marker\": {\"opacity\": 0.6, \"size\": [78420], \"sizemode\": \"area\", \"sizeref\": 1203.740625}, \"mode\": \"markers\", \"name\": \"CPI\", \"text\": [\"CPI\"], \"x\": [2009], \"y\": [78420], \"type\": \"scatter\", \"uid\": \"9ef9e387-1021-4eb5-9e6f-f096cd208526\"}, {\"marker\": {\"opacity\": 0.6, \"size\": [11667], \"sizemode\": \"area\", \"sizeref\": 1203.740625}, \"mode\": \"markers\", \"name\": \"CPM\", \"text\": [\"CPM\"], \"x\": [2009], \"y\": [11667], \"type\": \"scatter\", \"uid\": \"a8312a6a-8bfa-4999-9be3-ac7ca1c245b9\"}, {\"marker\": {\"opacity\": 0.6, \"size\": [11972], \"sizemode\": \"area\", \"sizeref\": 1203.740625}, \"mode\": \"markers\", \"name\": \"CSP\", \"text\": [\"CSP\"], \"x\": [2009], \"y\": [11972], \"type\": \"scatter\", \"uid\": \"d875a7ae-3ceb-4bba-be10-1906080f9675\"}, {\"marker\": {\"opacity\": 0.6, \"size\": [8307], \"sizemode\": \"area\", \"sizeref\": 1203.740625}, \"mode\": \"markers\", \"name\": \"EKSP\", \"text\": [\"EKSP\"], \"x\": [2009], \"y\": [8307], \"type\": \"scatter\", \"uid\": \"f604c12b-e252-4c70-a2eb-cca33f923116\"}, {\"marker\": {\"opacity\": 0.6, \"size\": [60206], \"sizemode\": \"area\", \"sizeref\": 1203.740625}, \"mode\": \"markers\", \"name\": \"GGP\", \"text\": [\"GGP\"], \"x\": [2009], \"y\": [60206], \"type\": \"scatter\", \"uid\": \"ca85615d-3a7e-4e40-949f-cc74f40eade3\"}, {\"marker\": {\"opacity\": 0.6, \"size\": [4190], \"sizemode\": \"area\", \"sizeref\": 1203.740625}, \"mode\": \"markers\", \"name\": \"GMS\", \"text\": [\"GMS\"], \"x\": [2009], \"y\": [4190], \"type\": \"scatter\", \"uid\": \"aee46103-94cb-443c-8d14-2b8227faaf56\"}, {\"marker\": {\"opacity\": 0.6, \"size\": [3192007], \"sizemode\": \"area\", \"sizeref\": 1203.740625}, \"mode\": \"markers\", \"name\": \"INC\", \"text\": [\"INC\"], \"x\": [2009], \"y\": [3192007], \"type\": \"scatter\", \"uid\": \"0257ed83-b19f-4a2e-8459-14a388e06aa9\"}, {\"marker\": {\"opacity\": 0.6, \"size\": [842855], \"sizemode\": \"area\", \"sizeref\": 1203.740625}, \"mode\": \"markers\", \"name\": \"IND\", \"text\": [\"IND\"], \"x\": [2009], \"y\": [842855], \"type\": \"scatter\", \"uid\": \"8e3c9a6f-f128-4b00-bfd5-fe05fb9ca028\"}, {\"marker\": {\"opacity\": 0.6, \"size\": [2397], \"sizemode\": \"area\", \"sizeref\": 1203.740625}, \"mode\": \"markers\", \"name\": \"JCGP\", \"text\": [\"JCGP\"], \"x\": [2009], \"y\": [2397], \"type\": \"scatter\", \"uid\": \"a83426f8-7cf4-4d05-9091-30debbcb7082\"}, {\"marker\": {\"opacity\": 0.6, \"size\": [4261], \"sizemode\": \"area\", \"sizeref\": 1203.740625}, \"mode\": \"markers\", \"name\": \"JD(U)\", \"text\": [\"JD(U)\"], \"x\": [2009], \"y\": [4261], \"type\": \"scatter\", \"uid\": \"45a0f29c-238a-4e5d-8aeb-11733f174c68\"}, {\"marker\": {\"opacity\": 0.6, \"size\": [34881], \"sizemode\": \"area\", \"sizeref\": 1203.740625}, \"mode\": \"markers\", \"name\": \"JMM\", \"text\": [\"JMM\"], \"x\": [2009], \"y\": [34881], \"type\": \"scatter\", \"uid\": \"7f497592-41d8-400c-9346-a6f3b66cd17c\"}, {\"marker\": {\"opacity\": 0.6, \"size\": [6436], \"sizemode\": \"area\", \"sizeref\": 1203.740625}, \"mode\": \"markers\", \"name\": \"LB\", \"text\": [\"LB\"], \"x\": [2009], \"y\": [6436], \"type\": \"scatter\", \"uid\": \"96d593e7-98a5-45f2-847c-13ae77b8d490\"}, {\"marker\": {\"opacity\": 0.6, \"size\": [7397], \"sizemode\": \"area\", \"sizeref\": 1203.740625}, \"mode\": \"markers\", \"name\": \"LJP\", \"text\": [\"LJP\"], \"x\": [2009], \"y\": [7397], \"type\": \"scatter\", \"uid\": \"581aeb5a-c0e2-4797-992f-b670c188d936\"}, {\"marker\": {\"opacity\": 0.6, \"size\": [932], \"sizemode\": \"area\", \"sizeref\": 1203.740625}, \"mode\": \"markers\", \"name\": \"LSWP\", \"text\": [\"LSWP\"], \"x\": [2009], \"y\": [932], \"type\": \"scatter\", \"uid\": \"eeed9d28-728b-4796-9bcf-e18fc13791fd\"}, {\"marker\": {\"opacity\": 0.6, \"size\": [712], \"sizemode\": \"area\", \"sizeref\": 1203.740625}, \"mode\": \"markers\", \"name\": \"PPOI\", \"text\": [\"PPOI\"], \"x\": [2009], \"y\": [712], \"type\": \"scatter\", \"uid\": \"a833c4e3-d5d0-4ed4-a44b-dfa92a37d108\"}, {\"marker\": {\"opacity\": 0.6, \"size\": [1802], \"sizemode\": \"area\", \"sizeref\": 1203.740625}, \"mode\": \"markers\", \"name\": \"RGOP\", \"text\": [\"RGOP\"], \"x\": [2009], \"y\": [1802], \"type\": \"scatter\", \"uid\": \"520b6080-8877-4bde-930e-95d5ad1a046f\"}, {\"marker\": {\"opacity\": 0.6, \"size\": [1491], \"sizemode\": \"area\", \"sizeref\": 1203.740625}, \"mode\": \"markers\", \"name\": \"RPI\", \"text\": [\"RPI\"], \"x\": [2009], \"y\": [1491], \"type\": \"scatter\", \"uid\": \"1a8f5ff3-d480-4131-8f9b-493ac4000cf5\"}, {\"marker\": {\"opacity\": 0.6, \"size\": [7890], \"sizemode\": \"area\", \"sizeref\": 1203.740625}, \"mode\": \"markers\", \"name\": \"RPI(A)\", \"text\": [\"RPI(A)\"], \"x\": [2009], \"y\": [7890], \"type\": \"scatter\", \"uid\": \"8ced16aa-47a5-4f4e-95d5-80b03ea6b2f4\"}, {\"marker\": {\"opacity\": 0.6, \"size\": [589], \"sizemode\": \"area\", \"sizeref\": 1203.740625}, \"mode\": \"markers\", \"name\": \"SSBD\", \"text\": [\"SSBD\"], \"x\": [2009], \"y\": [589], \"type\": \"scatter\", \"uid\": \"a726ccb8-2231-493f-9ea4-58063d9e1a42\"}, {\"marker\": {\"opacity\": 0.6, \"size\": [3413], \"sizemode\": \"area\", \"sizeref\": 1203.740625}, \"mode\": \"markers\", \"name\": \"SSD\", \"text\": [\"SSD\"], \"x\": [2009], \"y\": [3413], \"type\": \"scatter\", \"uid\": \"78b99027-838f-4d61-989a-93a4eaae9ec1\"}, {\"marker\": {\"opacity\": 0.6, \"size\": [5120], \"sizemode\": \"area\", \"sizeref\": 1203.740625}, \"mode\": \"markers\", \"name\": \"SUSP\", \"text\": [\"SUSP\"], \"x\": [2009], \"y\": [5120], \"type\": \"scatter\", \"uid\": \"ff773607-797a-471d-b682-4f52a2263e0e\"}], {\"hovermode\": \"closest\", \"margin\": {\"b\": 50, \"pad\": 5, \"t\": 50}, \"showlegend\": true, \"title\": {\"text\": \"Peoples votes for each party\"}, \"xaxis\": {\"autorange\": false, \"range\": [\"1977\", \"2014\"], \"title\": {\"text\": \"Years\"}}, \"yaxis\": {\"autorange\": false, \"range\": [412.29999999999995, 5392758.0], \"title\": {\"text\": \"Total Number of Votes\"}}}, {\"showLink\": false, \"linkText\": \"Export to plot.ly\", \"plotlyServerURL\": \"https://plot.ly\"})});</script><script type=\"text/javascript\">window.addEventListener(\"resize\", function(){window._Plotly.Plots.resize(document.getElementById(\"08a7811f-c579-49a6-a47a-1e8ebbb55dcf\"));});</script>"
      ]
     },
     "metadata": {},
     "output_type": "display_data"
    },
    {
     "data": {
      "application/vnd.plotly.v1+json": {
       "config": {
        "linkText": "Export to plot.ly",
        "plotlyServerURL": "https://plot.ly",
        "showLink": false
       },
       "data": [
        {
         "marker": {
          "opacity": 0.6,
          "size": [
           6523
          ],
          "sizemode": "area",
          "sizeref": 360.69375
         },
         "mode": "markers",
         "name": "AAAP",
         "text": [
          "AAAP"
         ],
         "type": "scatter",
         "uid": "324069da-5e2b-48d4-be2a-50a6166dd2fd",
         "x": [
          2014
         ],
         "y": [
          6523
         ]
        },
        {
         "marker": {
          "opacity": 0.6,
          "size": [
           1256,
           528
          ],
          "sizemode": "area",
          "sizeref": 360.69375
         },
         "mode": "markers",
         "name": "ABJS",
         "text": [
          "ABJS",
          "ABJS"
         ],
         "type": "scatter",
         "uid": "60e6f25c-19e0-45ff-b693-96a8e72ad7fd",
         "x": [
          1998,
          1999
         ],
         "y": [
          1256,
          528
         ]
        },
        {
         "marker": {
          "opacity": 0.6,
          "size": [
           521
          ],
          "sizemode": "area",
          "sizeref": 360.69375
         },
         "mode": "markers",
         "name": "ABML(S)",
         "text": [
          "ABML(S)"
         ],
         "type": "scatter",
         "uid": "c4d0aebf-a72a-4531-8b91-56be13eac9b2",
         "x": [
          2014
         ],
         "y": [
          521
         ]
        },
        {
         "marker": {
          "opacity": 0.6,
          "size": [
           1721
          ],
          "sizemode": "area",
          "sizeref": 360.69375
         },
         "mode": "markers",
         "name": "ABMSD",
         "text": [
          "ABMSD"
         ],
         "type": "scatter",
         "uid": "67f0e69e-5e7d-4db0-983b-390635f87166",
         "x": [
          1998
         ],
         "y": [
          1721
         ]
        },
        {
         "marker": {
          "opacity": 0.6,
          "size": [
           5457,
           7458,
           803
          ],
          "sizemode": "area",
          "sizeref": 360.69375
         },
         "mode": "markers",
         "name": "AIFB",
         "text": [
          "AIFB",
          "AIFB",
          "AIFB"
         ],
         "type": "scatter",
         "uid": "36bc3569-44d2-40f7-af31-b2e791af3a22",
         "x": [
          2004,
          2009,
          2014
         ],
         "y": [
          5457,
          7458,
          803
         ]
        },
        {
         "marker": {
          "opacity": 0.6,
          "size": [
           1365
          ],
          "sizemode": "area",
          "sizeref": 360.69375
         },
         "mode": "markers",
         "name": "AIIC(S)",
         "text": [
          "AIIC(S)"
         ],
         "type": "scatter",
         "uid": "e44955d2-73a4-4e02-9db4-182852e0b5a2",
         "x": [
          1998
         ],
         "y": [
          1365
         ]
        },
        {
         "marker": {
          "opacity": 0.6,
          "size": [
           17276
          ],
          "sizemode": "area",
          "sizeref": 360.69375
         },
         "mode": "markers",
         "name": "AIIC(T)",
         "text": [
          "AIIC(T)"
         ],
         "type": "scatter",
         "uid": "43cf0389-9f06-4b55-b4e6-21b10a74124b",
         "x": [
          1996
         ],
         "y": [
          17276
         ]
        },
        {
         "marker": {
          "opacity": 0.6,
          "size": [
           4392
          ],
          "sizemode": "area",
          "sizeref": 360.69375
         },
         "mode": "markers",
         "name": "AJKMP",
         "text": [
          "AJKMP"
         ],
         "type": "scatter",
         "uid": "629324a8-c178-4192-b7c8-6175e6885d7e",
         "x": [
          2014
         ],
         "y": [
          4392
         ]
        },
        {
         "marker": {
          "opacity": 0.6,
          "size": [
           1500
          ],
          "sizemode": "area",
          "sizeref": 360.69375
         },
         "mode": "markers",
         "name": "AJKPPF",
         "text": [
          "AJKPPF"
         ],
         "type": "scatter",
         "uid": "ff80184f-f1b6-4931-b4aa-39c690a66072",
         "x": [
          1999
         ],
         "y": [
          1500
         ]
        },
        {
         "marker": {
          "opacity": 0.6,
          "size": [
           1568
          ],
          "sizemode": "area",
          "sizeref": 360.69375
         },
         "mode": "markers",
         "name": "AKAKRP",
         "text": [
          "AKAKRP"
         ],
         "type": "scatter",
         "uid": "223f7b21-919a-4ae5-a473-1e46b77599dd",
         "x": [
          2014
         ],
         "y": [
          1568
         ]
        },
        {
         "marker": {
          "opacity": 0.6,
          "size": [
           2608
          ],
          "sizemode": "area",
          "sizeref": 360.69375
         },
         "mode": "markers",
         "name": "ANC",
         "text": [
          "ANC"
         ],
         "type": "scatter",
         "uid": "1eaae160-641a-4099-b5e7-d1b3e1413af1",
         "x": [
          2009
         ],
         "y": [
          2608
         ]
        },
        {
         "marker": {
          "opacity": 0.6,
          "size": [
           3286
          ],
          "sizemode": "area",
          "sizeref": 360.69375
         },
         "mode": "markers",
         "name": "ASP",
         "text": [
          "ASP"
         ],
         "type": "scatter",
         "uid": "10fa5cf0-e87a-4f8e-957a-a5e9c3bf2fc9",
         "x": [
          2014
         ],
         "y": [
          3286
         ]
        },
        {
         "marker": {
          "opacity": 0.6,
          "size": [
           1552
          ],
          "sizemode": "area",
          "sizeref": 360.69375
         },
         "mode": "markers",
         "name": "BBP",
         "text": [
          "BBP"
         ],
         "type": "scatter",
         "uid": "3cab6710-4d8a-4e9a-a149-00c68efaa304",
         "x": [
          2009
         ],
         "y": [
          1552
         ]
        },
        {
         "marker": {
          "opacity": 0.6,
          "size": [
           8129
          ],
          "sizemode": "area",
          "sizeref": 360.69375
         },
         "mode": "markers",
         "name": "BCDP",
         "text": [
          "BCDP"
         ],
         "type": "scatter",
         "uid": "8d97bd8b-e280-4847-95e9-76414896f285",
         "x": [
          2009
         ],
         "y": [
          8129
         ]
        },
        {
         "marker": {
          "opacity": 0.6,
          "size": [
           1985,
           3984
          ],
          "sizemode": "area",
          "sizeref": 360.69375
         },
         "mode": "markers",
         "name": "BHBP",
         "text": [
          "BHBP",
          "BHBP"
         ],
         "type": "scatter",
         "uid": "cbafb14f-5dea-4a33-b960-ad0353775358",
         "x": [
          2009,
          2014
         ],
         "y": [
          1985,
          3984
         ]
        },
        {
         "marker": {
          "opacity": 0.6,
          "size": [
           37309,
           74832,
           395300,
           618155,
           495715,
           515965,
           485303,
           1154220
          ],
          "sizemode": "area",
          "sizeref": 360.69375
         },
         "mode": "markers",
         "name": "BJP",
         "text": [
          "BJP",
          "BJP",
          "BJP",
          "BJP",
          "BJP",
          "BJP",
          "BJP",
          "BJP"
         ],
         "type": "scatter",
         "uid": "b844b30a-319b-4187-9250-c804a4de7859",
         "x": [
          1984,
          1989,
          1996,
          1998,
          1999,
          2004,
          2009,
          2014
         ],
         "y": [
          37309,
          74832,
          395300,
          618155,
          495715,
          515965,
          485303,
          1154220
         ]
        },
        {
         "marker": {
          "opacity": 0.6,
          "size": [
           10705
          ],
          "sizemode": "area",
          "sizeref": 360.69375
         },
         "mode": "markers",
         "name": "BKKGP",
         "text": [
          "BKKGP"
         ],
         "type": "scatter",
         "uid": "e6b9af7b-74b7-4fbc-aa7f-842ed1270a0b",
         "x": [
          1998
         ],
         "y": [
          10705
         ]
        },
        {
         "marker": {
          "opacity": 0.6,
          "size": [
           117198
          ],
          "sizemode": "area",
          "sizeref": 360.69375
         },
         "mode": "markers",
         "name": "BLD",
         "text": [
          "BLD"
         ],
         "type": "scatter",
         "uid": "d60de8b3-2bc0-461a-9024-119dd82308cc",
         "x": [
          1977
         ],
         "y": [
          117198
         ]
        },
        {
         "marker": {
          "opacity": 0.6,
          "size": [
           655
          ],
          "sizemode": "area",
          "sizeref": 360.69375
         },
         "mode": "markers",
         "name": "BRPP",
         "text": [
          "BRPP"
         ],
         "type": "scatter",
         "uid": "691f95bd-c7eb-46a7-bb5c-8bbf4d02fa21",
         "x": [
          1999
         ],
         "y": [
          655
         ]
        },
        {
         "marker": {
          "opacity": 0.6,
          "size": [
           355
          ],
          "sizemode": "area",
          "sizeref": 360.69375
         },
         "mode": "markers",
         "name": "BSKRP",
         "text": [
          "BSKRP"
         ],
         "type": "scatter",
         "uid": "3e010f8b-79ce-470a-a55d-fdd02941714e",
         "x": [
          2009
         ],
         "y": [
          355
         ]
        },
        {
         "marker": {
          "opacity": 0.6,
          "size": [
           42453,
           123591,
           107386,
           75943,
           49754,
           80909,
           54091
          ],
          "sizemode": "area",
          "sizeref": 360.69375
         },
         "mode": "markers",
         "name": "BSP",
         "text": [
          "BSP",
          "BSP",
          "BSP",
          "BSP",
          "BSP",
          "BSP",
          "BSP"
         ],
         "type": "scatter",
         "uid": "c836a3fc-a691-4736-916c-949c8c584e48",
         "x": [
          1989,
          1996,
          1998,
          1999,
          2004,
          2009,
          2014
         ],
         "y": [
          42453,
          123591,
          107386,
          75943,
          49754,
          80909,
          54091
         ]
        },
        {
         "marker": {
          "opacity": 0.6,
          "size": [
           16598
          ],
          "sizemode": "area",
          "sizeref": 360.69375
         },
         "mode": "markers",
         "name": "CPI",
         "text": [
          "CPI"
         ],
         "type": "scatter",
         "uid": "2e291ddb-9062-461c-a17c-3eb1ec60a48c",
         "x": [
          2009
         ],
         "y": [
          16598
         ]
        },
        {
         "marker": {
          "opacity": 0.6,
          "size": [
           1787
          ],
          "sizemode": "area",
          "sizeref": 360.69375
         },
         "mode": "markers",
         "name": "CPI(ML)(L)",
         "text": [
          "CPI(ML)(L)"
         ],
         "type": "scatter",
         "uid": "f884e524-7305-4634-bfd1-9f6aa58d1a65",
         "x": [
          1999
         ],
         "y": [
          1787
         ]
        },
        {
         "marker": {
          "opacity": 0.6,
          "size": [
           15649,
           18466
          ],
          "sizemode": "area",
          "sizeref": 360.69375
         },
         "mode": "markers",
         "name": "CPM",
         "text": [
          "CPM",
          "CPM"
         ],
         "type": "scatter",
         "uid": "e8417f68-c5c1-4914-b221-44a95f74636f",
         "x": [
          1999,
          2004
         ],
         "y": [
          15649,
          18466
         ]
        },
        {
         "marker": {
          "opacity": 0.6,
          "size": [
           5660
          ],
          "sizemode": "area",
          "sizeref": 360.69375
         },
         "mode": "markers",
         "name": "DGPP",
         "text": [
          "DGPP"
         ],
         "type": "scatter",
         "uid": "5b1349b9-ebff-4da4-aaa1-f0fb40241a88",
         "x": [
          2009
         ],
         "y": [
          5660
         ]
        },
        {
         "marker": {
          "opacity": 0.6,
          "size": [
           5566
          ],
          "sizemode": "area",
          "sizeref": 360.69375
         },
         "mode": "markers",
         "name": "GAAP",
         "text": [
          "GAAP"
         ],
         "type": "scatter",
         "uid": "3c22fc78-7919-4d93-a321-681229e9be89",
         "x": [
          2014
         ],
         "y": [
          5566
         ]
        },
        {
         "marker": {
          "opacity": 0.6,
          "size": [
           5031,
           878
          ],
          "sizemode": "area",
          "sizeref": 360.69375
         },
         "mode": "markers",
         "name": "IJP",
         "text": [
          "IJP",
          "IJP"
         ],
         "type": "scatter",
         "uid": "334fb19e-2603-452d-8259-6ecae35ca091",
         "x": [
          2004,
          2009
         ],
         "y": [
          5031,
          878
         ]
        },
        {
         "marker": {
          "opacity": 0.6,
          "size": [
           233144,
           661435,
           407474,
           569942,
           415354,
           280065,
           623182,
           643175,
           815510
          ],
          "sizemode": "area",
          "sizeref": 360.69375
         },
         "mode": "markers",
         "name": "INC",
         "text": [
          "INC",
          "INC",
          "INC",
          "INC",
          "INC",
          "INC",
          "INC",
          "INC",
          "INC"
         ],
         "type": "scatter",
         "uid": "ccddab1b-e8b2-44f8-a09e-84cdeb4b4ca0",
         "x": [
          1977,
          1984,
          1989,
          1996,
          1998,
          1999,
          2004,
          2009,
          2014
         ],
         "y": [
          233144,
          661435,
          407474,
          569942,
          415354,
          280065,
          623182,
          643175,
          815510
         ]
        },
        {
         "marker": {
          "opacity": 0.6,
          "size": [
           249760
          ],
          "sizemode": "area",
          "sizeref": 360.69375
         },
         "mode": "markers",
         "name": "INC(I)",
         "text": [
          "INC(I)"
         ],
         "type": "scatter",
         "uid": "bf79ac99-da23-48e9-8476-cf3e8783f318",
         "x": [
          1980
         ],
         "y": [
          249760
         ]
        },
        {
         "marker": {
          "opacity": 0.6,
          "size": [
           194138
          ],
          "sizemode": "area",
          "sizeref": 360.69375
         },
         "mode": "markers",
         "name": "INC(U)",
         "text": [
          "INC(U)"
         ],
         "type": "scatter",
         "uid": "961d7b3f-e9da-4284-b07b-b5ff24c723c1",
         "x": [
          1980
         ],
         "y": [
          194138
         ]
        },
        {
         "marker": {
          "opacity": 0.6,
          "size": [
           590790,
           284459,
           380951,
           100419,
           504098,
           155448,
           151229,
           165352,
           163790,
           223498
          ],
          "sizemode": "area",
          "sizeref": 360.69375
         },
         "mode": "markers",
         "name": "IND",
         "text": [
          "IND",
          "IND",
          "IND",
          "IND",
          "IND",
          "IND",
          "IND",
          "IND",
          "IND",
          "IND"
         ],
         "type": "scatter",
         "uid": "ea183cef-acbf-44cc-992a-5779af594fe8",
         "x": [
          1977,
          1980,
          1984,
          1989,
          1996,
          1998,
          1999,
          2004,
          2009,
          2014
         ],
         "y": [
          590790,
          284459,
          380951,
          100419,
          504098,
          155448,
          151229,
          165352,
          163790,
          223498
         ]
        },
        {
         "marker": {
          "opacity": 0.6,
          "size": [
           314357,
           366074,
           10818
          ],
          "sizemode": "area",
          "sizeref": 360.69375
         },
         "mode": "markers",
         "name": "JD",
         "text": [
          "JD",
          "JD",
          "JD"
         ],
         "type": "scatter",
         "uid": "c08c47e0-2b87-4aa8-a7cf-789cd784a88b",
         "x": [
          1989,
          1996,
          1998
         ],
         "y": [
          314357,
          366074,
          10818
         ]
        },
        {
         "marker": {
          "opacity": 0.6,
          "size": [
           14421,
           1616
          ],
          "sizemode": "area",
          "sizeref": 360.69375
         },
         "mode": "markers",
         "name": "JD(S)",
         "text": [
          "JD(S)",
          "JD(S)"
         ],
         "type": "scatter",
         "uid": "98358ca7-75b3-4d63-93c3-c704b1098021",
         "x": [
          1999,
          2004
         ],
         "y": [
          14421,
          1616
         ]
        },
        {
         "marker": {
          "opacity": 0.6,
          "size": [
           2193
          ],
          "sizemode": "area",
          "sizeref": 360.69375
         },
         "mode": "markers",
         "name": "JD(U)",
         "text": [
          "JD(U)"
         ],
         "type": "scatter",
         "uid": "c7862e15-7c8c-41af-983b-461bc790f842",
         "x": [
          1999
         ],
         "y": [
          2193
         ]
        },
        {
         "marker": {
          "opacity": 0.6,
          "size": [
           20843,
           28889,
           1519
          ],
          "sizemode": "area",
          "sizeref": 360.69375
         },
         "mode": "markers",
         "name": "JKAL",
         "text": [
          "JKAL",
          "JKAL",
          "JKAL"
         ],
         "type": "scatter",
         "uid": "caa6ff5e-1e40-4822-b797-a744e263f7d1",
         "x": [
          1998,
          1999,
          2004
         ],
         "y": [
          20843,
          28889,
          1519
         ]
        },
        {
         "marker": {
          "opacity": 0.6,
          "size": [
           9900
          ],
          "sizemode": "area",
          "sizeref": 360.69375
         },
         "mode": "markers",
         "name": "JKANC",
         "text": [
          "JKANC"
         ],
         "type": "scatter",
         "uid": "c16a1273-a722-4405-b3c7-4e263a212648",
         "x": [
          2009
         ],
         "y": [
          9900
         ]
        },
        {
         "marker": {
          "opacity": 0.6,
          "size": [
           483192,
           493143,
           1010243,
           71194,
           784669,
           454481,
           493067,
           498374,
           396713
          ],
          "sizemode": "area",
          "sizeref": 360.69375
         },
         "mode": "markers",
         "name": "JKN",
         "text": [
          "JKN",
          "JKN",
          "JKN",
          "JKN",
          "JKN",
          "JKN",
          "JKN",
          "JKN",
          "JKN"
         ],
         "type": "scatter",
         "uid": "26da0cee-0eec-4fbf-9082-97e736bb8911",
         "x": [
          1977,
          1980,
          1984,
          1989,
          1998,
          1999,
          2004,
          2009,
          2014
         ],
         "y": [
          483192,
          493143,
          1010243,
          71194,
          784669,
          454481,
          493067,
          498374,
          396713
         ]
        },
        {
         "marker": {
          "opacity": 0.6,
          "size": [
           13890,
           67619,
           73293,
           43452
          ],
          "sizemode": "area",
          "sizeref": 360.69375
         },
         "mode": "markers",
         "name": "JKNPP",
         "text": [
          "JKNPP",
          "JKNPP",
          "JKNPP",
          "JKNPP"
         ],
         "type": "scatter",
         "uid": "d39e3d19-12fe-46d6-99e1-324ad8c71c1c",
         "x": [
          1999,
          2004,
          2009,
          2014
         ],
         "y": [
          13890,
          67619,
          73293,
          43452
         ]
        },
        {
         "marker": {
          "opacity": 0.6,
          "size": [
           646
          ],
          "sizemode": "area",
          "sizeref": 360.69375
         },
         "mode": "markers",
         "name": "JKP",
         "text": [
          "JKP"
         ],
         "type": "scatter",
         "uid": "a5b4e33d-a8bf-44df-ba8f-1676ec282e6c",
         "x": [
          1984
         ],
         "y": [
          646
         ]
        },
        {
         "marker": {
          "opacity": 0.6,
          "size": [
           267457,
           522760,
           732644
          ],
          "sizemode": "area",
          "sizeref": 360.69375
         },
         "mode": "markers",
         "name": "JKPDP",
         "text": [
          "JKPDP",
          "JKPDP",
          "JKPDP"
         ],
         "type": "scatter",
         "uid": "81698e5b-66b5-4a38-9327-495007a51c45",
         "x": [
          2004,
          2009,
          2014
         ],
         "y": [
          267457,
          522760,
          732644
         ]
        },
        {
         "marker": {
          "opacity": 0.6,
          "size": [
           1809
          ],
          "sizemode": "area",
          "sizeref": 360.69375
         },
         "mode": "markers",
         "name": "JMBP",
         "text": [
          "JMBP"
         ],
         "type": "scatter",
         "uid": "b0b96564-fa80-4e17-8fe2-2521356b8786",
         "x": [
          2014
         ],
         "y": [
          1809
         ]
        },
        {
         "marker": {
          "opacity": 0.6,
          "size": [
           115503
          ],
          "sizemode": "area",
          "sizeref": 360.69375
         },
         "mode": "markers",
         "name": "JNP",
         "text": [
          "JNP"
         ],
         "type": "scatter",
         "uid": "f52e075e-9879-48c2-9b2e-42f6639311a4",
         "x": [
          1980
         ],
         "y": [
          115503
         ]
        },
        {
         "marker": {
          "opacity": 0.6,
          "size": [
           11049
          ],
          "sizemode": "area",
          "sizeref": 360.69375
         },
         "mode": "markers",
         "name": "JNP (JP)",
         "text": [
          "JNP (JP)"
         ],
         "type": "scatter",
         "uid": "4b05e9c1-cb62-4f3e-898d-9ab11e80432a",
         "x": [
          1989
         ],
         "y": [
          11049
         ]
        },
        {
         "marker": {
          "opacity": 0.6,
          "size": [
           12666
          ],
          "sizemode": "area",
          "sizeref": 360.69375
         },
         "mode": "markers",
         "name": "JP",
         "text": [
          "JP"
         ],
         "type": "scatter",
         "uid": "05c7ade0-0c01-4c7d-83b4-e9b13cc78c10",
         "x": [
          1999
         ],
         "y": [
          12666
         ]
        },
        {
         "marker": {
          "opacity": 0.6,
          "size": [
           65403,
           71154
          ],
          "sizemode": "area",
          "sizeref": 360.69375
         },
         "mode": "markers",
         "name": "JPC",
         "text": [
          "JPC",
          "JPC"
         ],
         "type": "scatter",
         "uid": "c7251431-4e08-47b8-91fd-e12b647c051a",
         "x": [
          2009,
          2014
         ],
         "y": [
          65403,
          71154
         ]
        },
        {
         "marker": {
          "opacity": 0.6,
          "size": [
           95149,
           22625,
           99599
          ],
          "sizemode": "area",
          "sizeref": 360.69375
         },
         "mode": "markers",
         "name": "JPP",
         "text": [
          "JPP",
          "JPP",
          "JPP"
         ],
         "type": "scatter",
         "uid": "8bb9d5de-db68-4581-b3de-73c978561181",
         "x": [
          1984,
          1989,
          1996
         ],
         "y": [
          95149,
          22625,
          99599
         ]
        },
        {
         "marker": {
          "opacity": 0.6,
          "size": [
           3080
          ],
          "sizemode": "area",
          "sizeref": 360.69375
         },
         "mode": "markers",
         "name": "LJNSP",
         "text": [
          "LJNSP"
         ],
         "type": "scatter",
         "uid": "2081a16d-faeb-43b4-a97e-744c9ced5d51",
         "x": [
          2004
         ],
         "y": [
          3080
         ]
        },
        {
         "marker": {
          "opacity": 0.6,
          "size": [
           8230
          ],
          "sizemode": "area",
          "sizeref": 360.69375
         },
         "mode": "markers",
         "name": "LJP",
         "text": [
          "LJP"
         ],
         "type": "scatter",
         "uid": "d4e073ad-db70-4369-a510-832ecad87ecc",
         "x": [
          2009
         ],
         "y": [
          8230
         ]
        },
        {
         "marker": {
          "opacity": 0.6,
          "size": [
           2423
          ],
          "sizemode": "area",
          "sizeref": 360.69375
         },
         "mode": "markers",
         "name": "LKD",
         "text": [
          "LKD"
         ],
         "type": "scatter",
         "uid": "cd6e7597-ad71-472c-bb17-27d1fd34ab0d",
         "x": [
          1984
         ],
         "y": [
          2423
         ]
        },
        {
         "marker": {
          "opacity": 0.6,
          "size": [
           4846,
           133
          ],
          "sizemode": "area",
          "sizeref": 360.69375
         },
         "mode": "markers",
         "name": "LS",
         "text": [
          "LS",
          "LS"
         ],
         "type": "scatter",
         "uid": "b5eedae8-62f1-4a06-8867-6c10de1fa4c3",
         "x": [
          1998,
          1999
         ],
         "y": [
          4846,
          133
         ]
        },
        {
         "marker": {
          "opacity": 0.6,
          "size": [
           4587
          ],
          "sizemode": "area",
          "sizeref": 360.69375
         },
         "mode": "markers",
         "name": "NCP",
         "text": [
          "NCP"
         ],
         "type": "scatter",
         "uid": "de2cfe20-836f-4f5d-817a-8dfa36cb8047",
         "x": [
          1999
         ],
         "y": [
          4587
         ]
        },
        {
         "marker": {
          "opacity": 0.6,
          "size": [
           31550
          ],
          "sizemode": "area",
          "sizeref": 360.69375
         },
         "mode": "markers",
         "name": "NOTA",
         "text": [
          "NOTA"
         ],
         "type": "scatter",
         "uid": "e2b457d8-a559-4b34-bc33-6eaaae17dc7d",
         "x": [
          2014
         ],
         "y": [
          31550
         ]
        },
        {
         "marker": {
          "opacity": 0.6,
          "size": [
           16219
          ],
          "sizemode": "area",
          "sizeref": 360.69375
         },
         "mode": "markers",
         "name": "NPAP",
         "text": [
          "NPAP"
         ],
         "type": "scatter",
         "uid": "d6214135-917e-49f8-8376-ba0de0f31162",
         "x": [
          1998
         ],
         "y": [
          16219
         ]
        },
        {
         "marker": {
          "opacity": 0.6,
          "size": [
           1718
          ],
          "sizemode": "area",
          "sizeref": 360.69375
         },
         "mode": "markers",
         "name": "PBI",
         "text": [
          "PBI"
         ],
         "type": "scatter",
         "uid": "126fd122-bdc8-43bf-b9e8-7b1fe1b7edd6",
         "x": [
          1989
         ],
         "y": [
          1718
         ]
        },
        {
         "marker": {
          "opacity": 0.6,
          "size": [
           2694
          ],
          "sizemode": "area",
          "sizeref": 360.69375
         },
         "mode": "markers",
         "name": "PRISM",
         "text": [
          "PRISM"
         ],
         "type": "scatter",
         "uid": "f9461039-1488-4ee3-b294-758a0500f188",
         "x": [
          2014
         ],
         "y": [
          2694
         ]
        },
        {
         "marker": {
          "opacity": 0.6,
          "size": [
           2761,
           2965
          ],
          "sizemode": "area",
          "sizeref": 360.69375
         },
         "mode": "markers",
         "name": "RJD",
         "text": [
          "RJD",
          "RJD"
         ],
         "type": "scatter",
         "uid": "1180ce64-f86a-4409-a2fa-5a2df06bd149",
         "x": [
          1998,
          1999
         ],
         "y": [
          2761,
          2965
         ]
        },
        {
         "marker": {
          "opacity": 0.6,
          "size": [
           3271
          ],
          "sizemode": "area",
          "sizeref": 360.69375
         },
         "mode": "markers",
         "name": "RKSP",
         "text": [
          "RKSP"
         ],
         "type": "scatter",
         "uid": "9ea55763-db43-4354-b892-863386b431a9",
         "x": [
          2009
         ],
         "y": [
          3271
         ]
        },
        {
         "marker": {
          "opacity": 0.6,
          "size": [
           886,
           1115
          ],
          "sizemode": "area",
          "sizeref": 360.69375
         },
         "mode": "markers",
         "name": "RLD",
         "text": [
          "RLD",
          "RLD"
         ],
         "type": "scatter",
         "uid": "27bf9926-3ef1-4b67-8009-f5143cd10fc9",
         "x": [
          1999,
          2004
         ],
         "y": [
          886,
          1115
         ]
        },
        {
         "marker": {
          "opacity": 0.6,
          "size": [
           2041
          ],
          "sizemode": "area",
          "sizeref": 360.69375
         },
         "mode": "markers",
         "name": "RNSP",
         "text": [
          "RNSP"
         ],
         "type": "scatter",
         "uid": "814e9daf-cbb3-43d1-80ab-b3812db78af5",
         "x": [
          2009
         ],
         "y": [
          2041
         ]
        },
        {
         "marker": {
          "opacity": 0.6,
          "size": [
           2698,
           2579,
           2587
          ],
          "sizemode": "area",
          "sizeref": 360.69375
         },
         "mode": "markers",
         "name": "RPI",
         "text": [
          "RPI",
          "RPI",
          "RPI"
         ],
         "type": "scatter",
         "uid": "b285ed0e-6c60-4c37-8cbc-2db73c216bc6",
         "x": [
          1998,
          2004,
          2009
         ],
         "y": [
          2698,
          2579,
          2587
         ]
        },
        {
         "marker": {
          "opacity": 0.6,
          "size": [
           356
          ],
          "sizemode": "area",
          "sizeref": 360.69375
         },
         "mode": "markers",
         "name": "RPI(A)",
         "text": [
          "RPI(A)"
         ],
         "type": "scatter",
         "uid": "ea523c36-1928-4c3a-a243-ff20778cf0c2",
         "x": [
          2009
         ],
         "y": [
          356
         ]
        },
        {
         "marker": {
          "opacity": 0.6,
          "size": [
           4606,
           684
          ],
          "sizemode": "area",
          "sizeref": 360.69375
         },
         "mode": "markers",
         "name": "SAP",
         "text": [
          "SAP",
          "SAP"
         ],
         "type": "scatter",
         "uid": "bb2bbf3e-5bdb-4589-a66e-4a533d320e6e",
         "x": [
          2004,
          2009
         ],
         "y": [
          4606,
          684
         ]
        },
        {
         "marker": {
          "opacity": 0.6,
          "size": [
           1265,
           6042
          ],
          "sizemode": "area",
          "sizeref": 360.69375
         },
         "mode": "markers",
         "name": "SDP",
         "text": [
          "SDP",
          "SDP"
         ],
         "type": "scatter",
         "uid": "b8fdbce2-ed03-4e17-8e59-bed17d0d486f",
         "x": [
          2004,
          2014
         ],
         "y": [
          1265,
          6042
         ]
        },
        {
         "marker": {
          "opacity": 0.6,
          "size": [
           10274,
           3288
          ],
          "sizemode": "area",
          "sizeref": 360.69375
         },
         "mode": "markers",
         "name": "SJP(R)",
         "text": [
          "SJP(R)",
          "SJP(R)"
         ],
         "type": "scatter",
         "uid": "301c04dc-cd03-4abf-9c74-ccaa14de9f44",
         "x": [
          1999,
          2004
         ],
         "y": [
          10274,
          3288
         ]
        },
        {
         "marker": {
          "opacity": 0.6,
          "size": [
           4353,
           5883,
           2036,
           6843
          ],
          "sizemode": "area",
          "sizeref": 360.69375
         },
         "mode": "markers",
         "name": "SP",
         "text": [
          "SP",
          "SP",
          "SP",
          "SP"
         ],
         "type": "scatter",
         "uid": "b6150b3f-d40b-4f07-941a-217a85478e70",
         "x": [
          1998,
          2004,
          2009,
          2014
         ],
         "y": [
          4353,
          5883,
          2036,
          6843
         ]
        },
        {
         "marker": {
          "opacity": 0.6,
          "size": [
           1180,
           3041
          ],
          "sizemode": "area",
          "sizeref": 360.69375
         },
         "mode": "markers",
         "name": "SPI",
         "text": [
          "SPI",
          "SPI"
         ],
         "type": "scatter",
         "uid": "f4e0deef-0b49-4bfb-8ddf-9e6484c108c6",
         "x": [
          1999,
          2004
         ],
         "y": [
          1180,
          3041
         ]
        },
        {
         "marker": {
          "opacity": 0.6,
          "size": [
           928
          ],
          "sizemode": "area",
          "sizeref": 360.69375
         },
         "mode": "markers",
         "name": "SPSP",
         "text": [
          "SPSP"
         ],
         "type": "scatter",
         "uid": "fd175535-0cdb-47b2-b397-c8b3530336a9",
         "x": [
          1999
         ],
         "y": [
          928
         ]
        }
       ],
       "layout": {
        "hovermode": "closest",
        "margin": {
         "b": 50,
         "pad": 5,
         "t": 50
        },
        "showlegend": true,
        "title": {
         "text": "Peoples votes for each party"
        },
        "xaxis": {
         "autorange": false,
         "range": [
          "1977",
          "2014"
         ],
         "title": {
          "text": "Years"
         }
        },
        "yaxis": {
         "autorange": false,
         "range": [
          93.1,
          1615908
         ],
         "title": {
          "text": "Total Number of Votes"
         }
        }
       }
      },
      "text/html": [
       "<div id=\"289f2cbc-fc68-4ef2-bdbf-43440d2b433c\" style=\"height: 525px; width: 100%;\" class=\"plotly-graph-div\"></div><script type=\"text/javascript\">require([\"plotly\"], function(Plotly) { window.PLOTLYENV=window.PLOTLYENV || {};window.PLOTLYENV.BASE_URL=\"https://plot.ly\";Plotly.newPlot(\"289f2cbc-fc68-4ef2-bdbf-43440d2b433c\", [{\"marker\": {\"opacity\": 0.6, \"size\": [6523], \"sizemode\": \"area\", \"sizeref\": 360.69375}, \"mode\": \"markers\", \"name\": \"AAAP\", \"text\": [\"AAAP\"], \"x\": [2014], \"y\": [6523], \"type\": \"scatter\", \"uid\": \"9de20c68-478f-49e6-904d-0f3640ac01d2\"}, {\"marker\": {\"opacity\": 0.6, \"size\": [1256, 528], \"sizemode\": \"area\", \"sizeref\": 360.69375}, \"mode\": \"markers\", \"name\": \"ABJS\", \"text\": [\"ABJS\", \"ABJS\"], \"x\": [1998, 1999], \"y\": [1256, 528], \"type\": \"scatter\", \"uid\": \"31bb48f4-ca64-44b8-a575-aed761b0c3c8\"}, {\"marker\": {\"opacity\": 0.6, \"size\": [521], \"sizemode\": \"area\", \"sizeref\": 360.69375}, \"mode\": \"markers\", \"name\": \"ABML(S)\", \"text\": [\"ABML(S)\"], \"x\": [2014], \"y\": [521], \"type\": \"scatter\", \"uid\": \"0c1e1181-4627-4d4d-b63d-ad1bc624b169\"}, {\"marker\": {\"opacity\": 0.6, \"size\": [1721], \"sizemode\": \"area\", \"sizeref\": 360.69375}, \"mode\": \"markers\", \"name\": \"ABMSD\", \"text\": [\"ABMSD\"], \"x\": [1998], \"y\": [1721], \"type\": \"scatter\", \"uid\": \"55ba6c3f-21c2-42c0-8737-0a7304088a3b\"}, {\"marker\": {\"opacity\": 0.6, \"size\": [5457, 7458, 803], \"sizemode\": \"area\", \"sizeref\": 360.69375}, \"mode\": \"markers\", \"name\": \"AIFB\", \"text\": [\"AIFB\", \"AIFB\", \"AIFB\"], \"x\": [2004, 2009, 2014], \"y\": [5457, 7458, 803], \"type\": \"scatter\", \"uid\": \"ecbac1ce-8d53-45ec-a6f4-57bf69949bbe\"}, {\"marker\": {\"opacity\": 0.6, \"size\": [1365], \"sizemode\": \"area\", \"sizeref\": 360.69375}, \"mode\": \"markers\", \"name\": \"AIIC(S)\", \"text\": [\"AIIC(S)\"], \"x\": [1998], \"y\": [1365], \"type\": \"scatter\", \"uid\": \"4602f7d8-ac66-4d41-bf6c-66d348f52c42\"}, {\"marker\": {\"opacity\": 0.6, \"size\": [17276], \"sizemode\": \"area\", \"sizeref\": 360.69375}, \"mode\": \"markers\", \"name\": \"AIIC(T)\", \"text\": [\"AIIC(T)\"], \"x\": [1996], \"y\": [17276], \"type\": \"scatter\", \"uid\": \"603e2b71-60e0-41fa-842f-3f8636b80763\"}, {\"marker\": {\"opacity\": 0.6, \"size\": [4392], \"sizemode\": \"area\", \"sizeref\": 360.69375}, \"mode\": \"markers\", \"name\": \"AJKMP\", \"text\": [\"AJKMP\"], \"x\": [2014], \"y\": [4392], \"type\": \"scatter\", \"uid\": \"9cd1b2cb-1b72-47c4-bd8f-653883d2f034\"}, {\"marker\": {\"opacity\": 0.6, \"size\": [1500], \"sizemode\": \"area\", \"sizeref\": 360.69375}, \"mode\": \"markers\", \"name\": \"AJKPPF\", \"text\": [\"AJKPPF\"], \"x\": [1999], \"y\": [1500], \"type\": \"scatter\", \"uid\": \"c4095096-6f26-453e-94c8-0db43ab885a3\"}, {\"marker\": {\"opacity\": 0.6, \"size\": [1568], \"sizemode\": \"area\", \"sizeref\": 360.69375}, \"mode\": \"markers\", \"name\": \"AKAKRP\", \"text\": [\"AKAKRP\"], \"x\": [2014], \"y\": [1568], \"type\": \"scatter\", \"uid\": \"254bc51c-9df9-45f2-b247-753ce0de5a9f\"}, {\"marker\": {\"opacity\": 0.6, \"size\": [2608], \"sizemode\": \"area\", \"sizeref\": 360.69375}, \"mode\": \"markers\", \"name\": \"ANC\", \"text\": [\"ANC\"], \"x\": [2009], \"y\": [2608], \"type\": \"scatter\", \"uid\": \"85d318ef-1706-450b-adcd-e5280a7c76e8\"}, {\"marker\": {\"opacity\": 0.6, \"size\": [3286], \"sizemode\": \"area\", \"sizeref\": 360.69375}, \"mode\": \"markers\", \"name\": \"ASP\", \"text\": [\"ASP\"], \"x\": [2014], \"y\": [3286], \"type\": \"scatter\", \"uid\": \"1a588ce7-f2ff-4985-a99e-dee5c113036b\"}, {\"marker\": {\"opacity\": 0.6, \"size\": [1552], \"sizemode\": \"area\", \"sizeref\": 360.69375}, \"mode\": \"markers\", \"name\": \"BBP\", \"text\": [\"BBP\"], \"x\": [2009], \"y\": [1552], \"type\": \"scatter\", \"uid\": \"47f600c2-6c0c-46c3-add4-2402a9fa46b5\"}, {\"marker\": {\"opacity\": 0.6, \"size\": [8129], \"sizemode\": \"area\", \"sizeref\": 360.69375}, \"mode\": \"markers\", \"name\": \"BCDP\", \"text\": [\"BCDP\"], \"x\": [2009], \"y\": [8129], \"type\": \"scatter\", \"uid\": \"3dec9fd0-bf6a-441d-bdb7-d506ed4c3003\"}, {\"marker\": {\"opacity\": 0.6, \"size\": [1985, 3984], \"sizemode\": \"area\", \"sizeref\": 360.69375}, \"mode\": \"markers\", \"name\": \"BHBP\", \"text\": [\"BHBP\", \"BHBP\"], \"x\": [2009, 2014], \"y\": [1985, 3984], \"type\": \"scatter\", \"uid\": \"375aadea-382e-4235-a3a6-26128776caab\"}, {\"marker\": {\"opacity\": 0.6, \"size\": [37309, 74832, 395300, 618155, 495715, 515965, 485303, 1154220], \"sizemode\": \"area\", \"sizeref\": 360.69375}, \"mode\": \"markers\", \"name\": \"BJP\", \"text\": [\"BJP\", \"BJP\", \"BJP\", \"BJP\", \"BJP\", \"BJP\", \"BJP\", \"BJP\"], \"x\": [1984, 1989, 1996, 1998, 1999, 2004, 2009, 2014], \"y\": [37309, 74832, 395300, 618155, 495715, 515965, 485303, 1154220], \"type\": \"scatter\", \"uid\": \"adc64679-c215-4247-975d-1935ab594458\"}, {\"marker\": {\"opacity\": 0.6, \"size\": [10705], \"sizemode\": \"area\", \"sizeref\": 360.69375}, \"mode\": \"markers\", \"name\": \"BKKGP\", \"text\": [\"BKKGP\"], \"x\": [1998], \"y\": [10705], \"type\": \"scatter\", \"uid\": \"84fb1484-96f7-46a6-9574-f88b49477f62\"}, {\"marker\": {\"opacity\": 0.6, \"size\": [117198], \"sizemode\": \"area\", \"sizeref\": 360.69375}, \"mode\": \"markers\", \"name\": \"BLD\", \"text\": [\"BLD\"], \"x\": [1977], \"y\": [117198], \"type\": \"scatter\", \"uid\": \"fa7b0360-089f-47f9-9606-580212a20689\"}, {\"marker\": {\"opacity\": 0.6, \"size\": [655], \"sizemode\": \"area\", \"sizeref\": 360.69375}, \"mode\": \"markers\", \"name\": \"BRPP\", \"text\": [\"BRPP\"], \"x\": [1999], \"y\": [655], \"type\": \"scatter\", \"uid\": \"1e9f311d-be00-4a8a-9790-d00dfb0aa694\"}, {\"marker\": {\"opacity\": 0.6, \"size\": [355], \"sizemode\": \"area\", \"sizeref\": 360.69375}, \"mode\": \"markers\", \"name\": \"BSKRP\", \"text\": [\"BSKRP\"], \"x\": [2009], \"y\": [355], \"type\": \"scatter\", \"uid\": \"ccbd4db2-adbb-4b8a-acce-091251ca9686\"}, {\"marker\": {\"opacity\": 0.6, \"size\": [42453, 123591, 107386, 75943, 49754, 80909, 54091], \"sizemode\": \"area\", \"sizeref\": 360.69375}, \"mode\": \"markers\", \"name\": \"BSP\", \"text\": [\"BSP\", \"BSP\", \"BSP\", \"BSP\", \"BSP\", \"BSP\", \"BSP\"], \"x\": [1989, 1996, 1998, 1999, 2004, 2009, 2014], \"y\": [42453, 123591, 107386, 75943, 49754, 80909, 54091], \"type\": \"scatter\", \"uid\": \"70d0594e-fd9f-4843-a122-d51e83c37ae2\"}, {\"marker\": {\"opacity\": 0.6, \"size\": [16598], \"sizemode\": \"area\", \"sizeref\": 360.69375}, \"mode\": \"markers\", \"name\": \"CPI\", \"text\": [\"CPI\"], \"x\": [2009], \"y\": [16598], \"type\": \"scatter\", \"uid\": \"7a7dbe5a-0137-470f-a242-0fb4c57d7bfa\"}, {\"marker\": {\"opacity\": 0.6, \"size\": [1787], \"sizemode\": \"area\", \"sizeref\": 360.69375}, \"mode\": \"markers\", \"name\": \"CPI(ML)(L)\", \"text\": [\"CPI(ML)(L)\"], \"x\": [1999], \"y\": [1787], \"type\": \"scatter\", \"uid\": \"ffaa7e75-4ff9-43d8-81d1-1b73600c458a\"}, {\"marker\": {\"opacity\": 0.6, \"size\": [15649, 18466], \"sizemode\": \"area\", \"sizeref\": 360.69375}, \"mode\": \"markers\", \"name\": \"CPM\", \"text\": [\"CPM\", \"CPM\"], \"x\": [1999, 2004], \"y\": [15649, 18466], \"type\": \"scatter\", \"uid\": \"c76fe6e0-80d0-4fc4-82fa-ba9d8bb98b77\"}, {\"marker\": {\"opacity\": 0.6, \"size\": [5660], \"sizemode\": \"area\", \"sizeref\": 360.69375}, \"mode\": \"markers\", \"name\": \"DGPP\", \"text\": [\"DGPP\"], \"x\": [2009], \"y\": [5660], \"type\": \"scatter\", \"uid\": \"db01aab9-f1a0-4df3-bc44-d4e55e289568\"}, {\"marker\": {\"opacity\": 0.6, \"size\": [5566], \"sizemode\": \"area\", \"sizeref\": 360.69375}, \"mode\": \"markers\", \"name\": \"GAAP\", \"text\": [\"GAAP\"], \"x\": [2014], \"y\": [5566], \"type\": \"scatter\", \"uid\": \"df2bcbe8-a0b7-4c53-b58f-a5d7c2622089\"}, {\"marker\": {\"opacity\": 0.6, \"size\": [5031, 878], \"sizemode\": \"area\", \"sizeref\": 360.69375}, \"mode\": \"markers\", \"name\": \"IJP\", \"text\": [\"IJP\", \"IJP\"], \"x\": [2004, 2009], \"y\": [5031, 878], \"type\": \"scatter\", \"uid\": \"f32046c8-6994-49b2-8dfd-4d0f2dbf7b49\"}, {\"marker\": {\"opacity\": 0.6, \"size\": [233144, 661435, 407474, 569942, 415354, 280065, 623182, 643175, 815510], \"sizemode\": \"area\", \"sizeref\": 360.69375}, \"mode\": \"markers\", \"name\": \"INC\", \"text\": [\"INC\", \"INC\", \"INC\", \"INC\", \"INC\", \"INC\", \"INC\", \"INC\", \"INC\"], \"x\": [1977, 1984, 1989, 1996, 1998, 1999, 2004, 2009, 2014], \"y\": [233144, 661435, 407474, 569942, 415354, 280065, 623182, 643175, 815510], \"type\": \"scatter\", \"uid\": \"9fa99c56-2e92-4dbe-875e-99d8ab34c3e1\"}, {\"marker\": {\"opacity\": 0.6, \"size\": [249760], \"sizemode\": \"area\", \"sizeref\": 360.69375}, \"mode\": \"markers\", \"name\": \"INC(I)\", \"text\": [\"INC(I)\"], \"x\": [1980], \"y\": [249760], \"type\": \"scatter\", \"uid\": \"bdce6d82-9e59-4869-a4b4-52b16e22106e\"}, {\"marker\": {\"opacity\": 0.6, \"size\": [194138], \"sizemode\": \"area\", \"sizeref\": 360.69375}, \"mode\": \"markers\", \"name\": \"INC(U)\", \"text\": [\"INC(U)\"], \"x\": [1980], \"y\": [194138], \"type\": \"scatter\", \"uid\": \"589a2837-5395-4b59-99a8-e7be5d16700e\"}, {\"marker\": {\"opacity\": 0.6, \"size\": [590790, 284459, 380951, 100419, 504098, 155448, 151229, 165352, 163790, 223498], \"sizemode\": \"area\", \"sizeref\": 360.69375}, \"mode\": \"markers\", \"name\": \"IND\", \"text\": [\"IND\", \"IND\", \"IND\", \"IND\", \"IND\", \"IND\", \"IND\", \"IND\", \"IND\", \"IND\"], \"x\": [1977, 1980, 1984, 1989, 1996, 1998, 1999, 2004, 2009, 2014], \"y\": [590790, 284459, 380951, 100419, 504098, 155448, 151229, 165352, 163790, 223498], \"type\": \"scatter\", \"uid\": \"507d09c3-1875-4147-a6d7-745c47c4d8bc\"}, {\"marker\": {\"opacity\": 0.6, \"size\": [314357, 366074, 10818], \"sizemode\": \"area\", \"sizeref\": 360.69375}, \"mode\": \"markers\", \"name\": \"JD\", \"text\": [\"JD\", \"JD\", \"JD\"], \"x\": [1989, 1996, 1998], \"y\": [314357, 366074, 10818], \"type\": \"scatter\", \"uid\": \"e9bda751-b3f8-4e42-9151-31cbcfa2286f\"}, {\"marker\": {\"opacity\": 0.6, \"size\": [14421, 1616], \"sizemode\": \"area\", \"sizeref\": 360.69375}, \"mode\": \"markers\", \"name\": \"JD(S)\", \"text\": [\"JD(S)\", \"JD(S)\"], \"x\": [1999, 2004], \"y\": [14421, 1616], \"type\": \"scatter\", \"uid\": \"3bbd3797-1b44-4f96-b0af-b0de03e4932c\"}, {\"marker\": {\"opacity\": 0.6, \"size\": [2193], \"sizemode\": \"area\", \"sizeref\": 360.69375}, \"mode\": \"markers\", \"name\": \"JD(U)\", \"text\": [\"JD(U)\"], \"x\": [1999], \"y\": [2193], \"type\": \"scatter\", \"uid\": \"a62ffaad-19cf-4aeb-b5d2-2eccdd0a58d1\"}, {\"marker\": {\"opacity\": 0.6, \"size\": [20843, 28889, 1519], \"sizemode\": \"area\", \"sizeref\": 360.69375}, \"mode\": \"markers\", \"name\": \"JKAL\", \"text\": [\"JKAL\", \"JKAL\", \"JKAL\"], \"x\": [1998, 1999, 2004], \"y\": [20843, 28889, 1519], \"type\": \"scatter\", \"uid\": \"36fbc93b-7386-4064-8b4b-e9d6e942cf9e\"}, {\"marker\": {\"opacity\": 0.6, \"size\": [9900], \"sizemode\": \"area\", \"sizeref\": 360.69375}, \"mode\": \"markers\", \"name\": \"JKANC\", \"text\": [\"JKANC\"], \"x\": [2009], \"y\": [9900], \"type\": \"scatter\", \"uid\": \"d3504f72-473d-4913-ae32-fcc80f6a855b\"}, {\"marker\": {\"opacity\": 0.6, \"size\": [483192, 493143, 1010243, 71194, 784669, 454481, 493067, 498374, 396713], \"sizemode\": \"area\", \"sizeref\": 360.69375}, \"mode\": \"markers\", \"name\": \"JKN\", \"text\": [\"JKN\", \"JKN\", \"JKN\", \"JKN\", \"JKN\", \"JKN\", \"JKN\", \"JKN\", \"JKN\"], \"x\": [1977, 1980, 1984, 1989, 1998, 1999, 2004, 2009, 2014], \"y\": [483192, 493143, 1010243, 71194, 784669, 454481, 493067, 498374, 396713], \"type\": \"scatter\", \"uid\": \"95e3d5a0-0495-4f10-b1e2-1fbd592e61ad\"}, {\"marker\": {\"opacity\": 0.6, \"size\": [13890, 67619, 73293, 43452], \"sizemode\": \"area\", \"sizeref\": 360.69375}, \"mode\": \"markers\", \"name\": \"JKNPP\", \"text\": [\"JKNPP\", \"JKNPP\", \"JKNPP\", \"JKNPP\"], \"x\": [1999, 2004, 2009, 2014], \"y\": [13890, 67619, 73293, 43452], \"type\": \"scatter\", \"uid\": \"6c878b07-6719-4f9f-87f4-af8489c2ee34\"}, {\"marker\": {\"opacity\": 0.6, \"size\": [646], \"sizemode\": \"area\", \"sizeref\": 360.69375}, \"mode\": \"markers\", \"name\": \"JKP\", \"text\": [\"JKP\"], \"x\": [1984], \"y\": [646], \"type\": \"scatter\", \"uid\": \"f270eb30-fad9-4302-9aeb-7301db509e5f\"}, {\"marker\": {\"opacity\": 0.6, \"size\": [267457, 522760, 732644], \"sizemode\": \"area\", \"sizeref\": 360.69375}, \"mode\": \"markers\", \"name\": \"JKPDP\", \"text\": [\"JKPDP\", \"JKPDP\", \"JKPDP\"], \"x\": [2004, 2009, 2014], \"y\": [267457, 522760, 732644], \"type\": \"scatter\", \"uid\": \"2c9c9018-45ba-4910-a8e8-dfa11fc9ba12\"}, {\"marker\": {\"opacity\": 0.6, \"size\": [1809], \"sizemode\": \"area\", \"sizeref\": 360.69375}, \"mode\": \"markers\", \"name\": \"JMBP\", \"text\": [\"JMBP\"], \"x\": [2014], \"y\": [1809], \"type\": \"scatter\", \"uid\": \"3285d4cd-d0e6-48ee-a54d-a1387f841a52\"}, {\"marker\": {\"opacity\": 0.6, \"size\": [115503], \"sizemode\": \"area\", \"sizeref\": 360.69375}, \"mode\": \"markers\", \"name\": \"JNP\", \"text\": [\"JNP\"], \"x\": [1980], \"y\": [115503], \"type\": \"scatter\", \"uid\": \"63897b3e-d67b-4216-b89c-8910ba588a28\"}, {\"marker\": {\"opacity\": 0.6, \"size\": [11049], \"sizemode\": \"area\", \"sizeref\": 360.69375}, \"mode\": \"markers\", \"name\": \"JNP (JP)\", \"text\": [\"JNP (JP)\"], \"x\": [1989], \"y\": [11049], \"type\": \"scatter\", \"uid\": \"e3fb4170-e8e2-4c2e-b984-30242a9c8f0a\"}, {\"marker\": {\"opacity\": 0.6, \"size\": [12666], \"sizemode\": \"area\", \"sizeref\": 360.69375}, \"mode\": \"markers\", \"name\": \"JP\", \"text\": [\"JP\"], \"x\": [1999], \"y\": [12666], \"type\": \"scatter\", \"uid\": \"5f2255f7-3679-4095-ad5a-21cffd999fe0\"}, {\"marker\": {\"opacity\": 0.6, \"size\": [65403, 71154], \"sizemode\": \"area\", \"sizeref\": 360.69375}, \"mode\": \"markers\", \"name\": \"JPC\", \"text\": [\"JPC\", \"JPC\"], \"x\": [2009, 2014], \"y\": [65403, 71154], \"type\": \"scatter\", \"uid\": \"3fde1cd8-eee8-4b0a-a77d-230fd1fb55c3\"}, {\"marker\": {\"opacity\": 0.6, \"size\": [95149, 22625, 99599], \"sizemode\": \"area\", \"sizeref\": 360.69375}, \"mode\": \"markers\", \"name\": \"JPP\", \"text\": [\"JPP\", \"JPP\", \"JPP\"], \"x\": [1984, 1989, 1996], \"y\": [95149, 22625, 99599], \"type\": \"scatter\", \"uid\": \"509753d2-f103-4c86-9e6b-c8ae48c0065d\"}, {\"marker\": {\"opacity\": 0.6, \"size\": [3080], \"sizemode\": \"area\", \"sizeref\": 360.69375}, \"mode\": \"markers\", \"name\": \"LJNSP\", \"text\": [\"LJNSP\"], \"x\": [2004], \"y\": [3080], \"type\": \"scatter\", \"uid\": \"12d9ee85-7801-4f03-933c-9c4d12e28a5f\"}, {\"marker\": {\"opacity\": 0.6, \"size\": [8230], \"sizemode\": \"area\", \"sizeref\": 360.69375}, \"mode\": \"markers\", \"name\": \"LJP\", \"text\": [\"LJP\"], \"x\": [2009], \"y\": [8230], \"type\": \"scatter\", \"uid\": \"a1a99ebe-2242-432d-acc5-2b725c5c404b\"}, {\"marker\": {\"opacity\": 0.6, \"size\": [2423], \"sizemode\": \"area\", \"sizeref\": 360.69375}, \"mode\": \"markers\", \"name\": \"LKD\", \"text\": [\"LKD\"], \"x\": [1984], \"y\": [2423], \"type\": \"scatter\", \"uid\": \"3f748509-b0af-4231-b936-123b80d87704\"}, {\"marker\": {\"opacity\": 0.6, \"size\": [4846, 133], \"sizemode\": \"area\", \"sizeref\": 360.69375}, \"mode\": \"markers\", \"name\": \"LS\", \"text\": [\"LS\", \"LS\"], \"x\": [1998, 1999], \"y\": [4846, 133], \"type\": \"scatter\", \"uid\": \"08e02e43-fecf-4a36-b807-7c4d5cd4af2a\"}, {\"marker\": {\"opacity\": 0.6, \"size\": [4587], \"sizemode\": \"area\", \"sizeref\": 360.69375}, \"mode\": \"markers\", \"name\": \"NCP\", \"text\": [\"NCP\"], \"x\": [1999], \"y\": [4587], \"type\": \"scatter\", \"uid\": \"40de8c76-53aa-4e45-87fa-78dcf08f1e91\"}, {\"marker\": {\"opacity\": 0.6, \"size\": [31550], \"sizemode\": \"area\", \"sizeref\": 360.69375}, \"mode\": \"markers\", \"name\": \"NOTA\", \"text\": [\"NOTA\"], \"x\": [2014], \"y\": [31550], \"type\": \"scatter\", \"uid\": \"c3fe6539-2ef0-4c8e-8782-9b771d4594a8\"}, {\"marker\": {\"opacity\": 0.6, \"size\": [16219], \"sizemode\": \"area\", \"sizeref\": 360.69375}, \"mode\": \"markers\", \"name\": \"NPAP\", \"text\": [\"NPAP\"], \"x\": [1998], \"y\": [16219], \"type\": \"scatter\", \"uid\": \"2dfbae27-4119-484b-a341-cff5ef1f5d6a\"}, {\"marker\": {\"opacity\": 0.6, \"size\": [1718], \"sizemode\": \"area\", \"sizeref\": 360.69375}, \"mode\": \"markers\", \"name\": \"PBI\", \"text\": [\"PBI\"], \"x\": [1989], \"y\": [1718], \"type\": \"scatter\", \"uid\": \"df569fcb-ee52-46e3-83a2-795730c4eb73\"}, {\"marker\": {\"opacity\": 0.6, \"size\": [2694], \"sizemode\": \"area\", \"sizeref\": 360.69375}, \"mode\": \"markers\", \"name\": \"PRISM\", \"text\": [\"PRISM\"], \"x\": [2014], \"y\": [2694], \"type\": \"scatter\", \"uid\": \"bcc78c56-00ef-4d58-ad2c-9ff700fb4385\"}, {\"marker\": {\"opacity\": 0.6, \"size\": [2761, 2965], \"sizemode\": \"area\", \"sizeref\": 360.69375}, \"mode\": \"markers\", \"name\": \"RJD\", \"text\": [\"RJD\", \"RJD\"], \"x\": [1998, 1999], \"y\": [2761, 2965], \"type\": \"scatter\", \"uid\": \"a6266e11-2de4-41e0-8984-40e4c70a4696\"}, {\"marker\": {\"opacity\": 0.6, \"size\": [3271], \"sizemode\": \"area\", \"sizeref\": 360.69375}, \"mode\": \"markers\", \"name\": \"RKSP\", \"text\": [\"RKSP\"], \"x\": [2009], \"y\": [3271], \"type\": \"scatter\", \"uid\": \"03efd109-02ee-431e-9f02-8e1409e08496\"}, {\"marker\": {\"opacity\": 0.6, \"size\": [886, 1115], \"sizemode\": \"area\", \"sizeref\": 360.69375}, \"mode\": \"markers\", \"name\": \"RLD\", \"text\": [\"RLD\", \"RLD\"], \"x\": [1999, 2004], \"y\": [886, 1115], \"type\": \"scatter\", \"uid\": \"bd9738aa-4beb-42d6-a2e2-b36fa3b1e423\"}, {\"marker\": {\"opacity\": 0.6, \"size\": [2041], \"sizemode\": \"area\", \"sizeref\": 360.69375}, \"mode\": \"markers\", \"name\": \"RNSP\", \"text\": [\"RNSP\"], \"x\": [2009], \"y\": [2041], \"type\": \"scatter\", \"uid\": \"422658e3-1e9f-43d0-ae8d-62c429fa29c9\"}, {\"marker\": {\"opacity\": 0.6, \"size\": [2698, 2579, 2587], \"sizemode\": \"area\", \"sizeref\": 360.69375}, \"mode\": \"markers\", \"name\": \"RPI\", \"text\": [\"RPI\", \"RPI\", \"RPI\"], \"x\": [1998, 2004, 2009], \"y\": [2698, 2579, 2587], \"type\": \"scatter\", \"uid\": \"4be4ea5f-5dee-4bbc-bcf8-89eeec466f86\"}, {\"marker\": {\"opacity\": 0.6, \"size\": [356], \"sizemode\": \"area\", \"sizeref\": 360.69375}, \"mode\": \"markers\", \"name\": \"RPI(A)\", \"text\": [\"RPI(A)\"], \"x\": [2009], \"y\": [356], \"type\": \"scatter\", \"uid\": \"472026a7-7e79-4868-a549-206828ea25a2\"}, {\"marker\": {\"opacity\": 0.6, \"size\": [4606, 684], \"sizemode\": \"area\", \"sizeref\": 360.69375}, \"mode\": \"markers\", \"name\": \"SAP\", \"text\": [\"SAP\", \"SAP\"], \"x\": [2004, 2009], \"y\": [4606, 684], \"type\": \"scatter\", \"uid\": \"5bb4080b-1e1c-4519-814e-45ff03d02e20\"}, {\"marker\": {\"opacity\": 0.6, \"size\": [1265, 6042], \"sizemode\": \"area\", \"sizeref\": 360.69375}, \"mode\": \"markers\", \"name\": \"SDP\", \"text\": [\"SDP\", \"SDP\"], \"x\": [2004, 2014], \"y\": [1265, 6042], \"type\": \"scatter\", \"uid\": \"dba178e8-4892-4526-a42d-1e48218f716c\"}, {\"marker\": {\"opacity\": 0.6, \"size\": [10274, 3288], \"sizemode\": \"area\", \"sizeref\": 360.69375}, \"mode\": \"markers\", \"name\": \"SJP(R)\", \"text\": [\"SJP(R)\", \"SJP(R)\"], \"x\": [1999, 2004], \"y\": [10274, 3288], \"type\": \"scatter\", \"uid\": \"5f4d62dd-68c7-4948-8512-d96755a0366d\"}, {\"marker\": {\"opacity\": 0.6, \"size\": [4353, 5883, 2036, 6843], \"sizemode\": \"area\", \"sizeref\": 360.69375}, \"mode\": \"markers\", \"name\": \"SP\", \"text\": [\"SP\", \"SP\", \"SP\", \"SP\"], \"x\": [1998, 2004, 2009, 2014], \"y\": [4353, 5883, 2036, 6843], \"type\": \"scatter\", \"uid\": \"d1ea8c2a-dc4c-43fe-86c7-d7ad884d6376\"}, {\"marker\": {\"opacity\": 0.6, \"size\": [1180, 3041], \"sizemode\": \"area\", \"sizeref\": 360.69375}, \"mode\": \"markers\", \"name\": \"SPI\", \"text\": [\"SPI\", \"SPI\"], \"x\": [1999, 2004], \"y\": [1180, 3041], \"type\": \"scatter\", \"uid\": \"9c297947-1bfc-4f68-8f13-3ad586693200\"}, {\"marker\": {\"opacity\": 0.6, \"size\": [928], \"sizemode\": \"area\", \"sizeref\": 360.69375}, \"mode\": \"markers\", \"name\": \"SPSP\", \"text\": [\"SPSP\"], \"x\": [1999], \"y\": [928], \"type\": \"scatter\", \"uid\": \"c6123ea0-6a75-48e9-bf33-dd70b99650b8\"}], {\"hovermode\": \"closest\", \"margin\": {\"b\": 50, \"pad\": 5, \"t\": 50}, \"showlegend\": true, \"title\": {\"text\": \"Peoples votes for each party\"}, \"xaxis\": {\"autorange\": false, \"range\": [\"1977\", \"2014\"], \"title\": {\"text\": \"Years\"}}, \"yaxis\": {\"autorange\": false, \"range\": [93.1, 1615908.0], \"title\": {\"text\": \"Total Number of Votes\"}}}, {\"showLink\": false, \"linkText\": \"Export to plot.ly\", \"plotlyServerURL\": \"https://plot.ly\"})});</script><script type=\"text/javascript\">window.addEventListener(\"resize\", function(){window._Plotly.Plots.resize(document.getElementById(\"289f2cbc-fc68-4ef2-bdbf-43440d2b433c\"));});</script>"
      ],
      "text/vnd.plotly.v1+html": [
       "<div id=\"289f2cbc-fc68-4ef2-bdbf-43440d2b433c\" style=\"height: 525px; width: 100%;\" class=\"plotly-graph-div\"></div><script type=\"text/javascript\">require([\"plotly\"], function(Plotly) { window.PLOTLYENV=window.PLOTLYENV || {};window.PLOTLYENV.BASE_URL=\"https://plot.ly\";Plotly.newPlot(\"289f2cbc-fc68-4ef2-bdbf-43440d2b433c\", [{\"marker\": {\"opacity\": 0.6, \"size\": [6523], \"sizemode\": \"area\", \"sizeref\": 360.69375}, \"mode\": \"markers\", \"name\": \"AAAP\", \"text\": [\"AAAP\"], \"x\": [2014], \"y\": [6523], \"type\": \"scatter\", \"uid\": \"9de20c68-478f-49e6-904d-0f3640ac01d2\"}, {\"marker\": {\"opacity\": 0.6, \"size\": [1256, 528], \"sizemode\": \"area\", \"sizeref\": 360.69375}, \"mode\": \"markers\", \"name\": \"ABJS\", \"text\": [\"ABJS\", \"ABJS\"], \"x\": [1998, 1999], \"y\": [1256, 528], \"type\": \"scatter\", \"uid\": \"31bb48f4-ca64-44b8-a575-aed761b0c3c8\"}, {\"marker\": {\"opacity\": 0.6, \"size\": [521], \"sizemode\": \"area\", \"sizeref\": 360.69375}, \"mode\": \"markers\", \"name\": \"ABML(S)\", \"text\": [\"ABML(S)\"], \"x\": [2014], \"y\": [521], \"type\": \"scatter\", \"uid\": \"0c1e1181-4627-4d4d-b63d-ad1bc624b169\"}, {\"marker\": {\"opacity\": 0.6, \"size\": [1721], \"sizemode\": \"area\", \"sizeref\": 360.69375}, \"mode\": \"markers\", \"name\": \"ABMSD\", \"text\": [\"ABMSD\"], \"x\": [1998], \"y\": [1721], \"type\": \"scatter\", \"uid\": \"55ba6c3f-21c2-42c0-8737-0a7304088a3b\"}, {\"marker\": {\"opacity\": 0.6, \"size\": [5457, 7458, 803], \"sizemode\": \"area\", \"sizeref\": 360.69375}, \"mode\": \"markers\", \"name\": \"AIFB\", \"text\": [\"AIFB\", \"AIFB\", \"AIFB\"], \"x\": [2004, 2009, 2014], \"y\": [5457, 7458, 803], \"type\": \"scatter\", \"uid\": \"ecbac1ce-8d53-45ec-a6f4-57bf69949bbe\"}, {\"marker\": {\"opacity\": 0.6, \"size\": [1365], \"sizemode\": \"area\", \"sizeref\": 360.69375}, \"mode\": \"markers\", \"name\": \"AIIC(S)\", \"text\": [\"AIIC(S)\"], \"x\": [1998], \"y\": [1365], \"type\": \"scatter\", \"uid\": \"4602f7d8-ac66-4d41-bf6c-66d348f52c42\"}, {\"marker\": {\"opacity\": 0.6, \"size\": [17276], \"sizemode\": \"area\", \"sizeref\": 360.69375}, \"mode\": \"markers\", \"name\": \"AIIC(T)\", \"text\": [\"AIIC(T)\"], \"x\": [1996], \"y\": [17276], \"type\": \"scatter\", \"uid\": \"603e2b71-60e0-41fa-842f-3f8636b80763\"}, {\"marker\": {\"opacity\": 0.6, \"size\": [4392], \"sizemode\": \"area\", \"sizeref\": 360.69375}, \"mode\": \"markers\", \"name\": \"AJKMP\", \"text\": [\"AJKMP\"], \"x\": [2014], \"y\": [4392], \"type\": \"scatter\", \"uid\": \"9cd1b2cb-1b72-47c4-bd8f-653883d2f034\"}, {\"marker\": {\"opacity\": 0.6, \"size\": [1500], \"sizemode\": \"area\", \"sizeref\": 360.69375}, \"mode\": \"markers\", \"name\": \"AJKPPF\", \"text\": [\"AJKPPF\"], \"x\": [1999], \"y\": [1500], \"type\": \"scatter\", \"uid\": \"c4095096-6f26-453e-94c8-0db43ab885a3\"}, {\"marker\": {\"opacity\": 0.6, \"size\": [1568], \"sizemode\": \"area\", \"sizeref\": 360.69375}, \"mode\": \"markers\", \"name\": \"AKAKRP\", \"text\": [\"AKAKRP\"], \"x\": [2014], \"y\": [1568], \"type\": \"scatter\", \"uid\": \"254bc51c-9df9-45f2-b247-753ce0de5a9f\"}, {\"marker\": {\"opacity\": 0.6, \"size\": [2608], \"sizemode\": \"area\", \"sizeref\": 360.69375}, \"mode\": \"markers\", \"name\": \"ANC\", \"text\": [\"ANC\"], \"x\": [2009], \"y\": [2608], \"type\": \"scatter\", \"uid\": \"85d318ef-1706-450b-adcd-e5280a7c76e8\"}, {\"marker\": {\"opacity\": 0.6, \"size\": [3286], \"sizemode\": \"area\", \"sizeref\": 360.69375}, \"mode\": \"markers\", \"name\": \"ASP\", \"text\": [\"ASP\"], \"x\": [2014], \"y\": [3286], \"type\": \"scatter\", \"uid\": \"1a588ce7-f2ff-4985-a99e-dee5c113036b\"}, {\"marker\": {\"opacity\": 0.6, \"size\": [1552], \"sizemode\": \"area\", \"sizeref\": 360.69375}, \"mode\": \"markers\", \"name\": \"BBP\", \"text\": [\"BBP\"], \"x\": [2009], \"y\": [1552], \"type\": \"scatter\", \"uid\": \"47f600c2-6c0c-46c3-add4-2402a9fa46b5\"}, {\"marker\": {\"opacity\": 0.6, \"size\": [8129], \"sizemode\": \"area\", \"sizeref\": 360.69375}, \"mode\": \"markers\", \"name\": \"BCDP\", \"text\": [\"BCDP\"], \"x\": [2009], \"y\": [8129], \"type\": \"scatter\", \"uid\": \"3dec9fd0-bf6a-441d-bdb7-d506ed4c3003\"}, {\"marker\": {\"opacity\": 0.6, \"size\": [1985, 3984], \"sizemode\": \"area\", \"sizeref\": 360.69375}, \"mode\": \"markers\", \"name\": \"BHBP\", \"text\": [\"BHBP\", \"BHBP\"], \"x\": [2009, 2014], \"y\": [1985, 3984], \"type\": \"scatter\", \"uid\": \"375aadea-382e-4235-a3a6-26128776caab\"}, {\"marker\": {\"opacity\": 0.6, \"size\": [37309, 74832, 395300, 618155, 495715, 515965, 485303, 1154220], \"sizemode\": \"area\", \"sizeref\": 360.69375}, \"mode\": \"markers\", \"name\": \"BJP\", \"text\": [\"BJP\", \"BJP\", \"BJP\", \"BJP\", \"BJP\", \"BJP\", \"BJP\", \"BJP\"], \"x\": [1984, 1989, 1996, 1998, 1999, 2004, 2009, 2014], \"y\": [37309, 74832, 395300, 618155, 495715, 515965, 485303, 1154220], \"type\": \"scatter\", \"uid\": \"adc64679-c215-4247-975d-1935ab594458\"}, {\"marker\": {\"opacity\": 0.6, \"size\": [10705], \"sizemode\": \"area\", \"sizeref\": 360.69375}, \"mode\": \"markers\", \"name\": \"BKKGP\", \"text\": [\"BKKGP\"], \"x\": [1998], \"y\": [10705], \"type\": \"scatter\", \"uid\": \"84fb1484-96f7-46a6-9574-f88b49477f62\"}, {\"marker\": {\"opacity\": 0.6, \"size\": [117198], \"sizemode\": \"area\", \"sizeref\": 360.69375}, \"mode\": \"markers\", \"name\": \"BLD\", \"text\": [\"BLD\"], \"x\": [1977], \"y\": [117198], \"type\": \"scatter\", \"uid\": \"fa7b0360-089f-47f9-9606-580212a20689\"}, {\"marker\": {\"opacity\": 0.6, \"size\": [655], \"sizemode\": \"area\", \"sizeref\": 360.69375}, \"mode\": \"markers\", \"name\": \"BRPP\", \"text\": [\"BRPP\"], \"x\": [1999], \"y\": [655], \"type\": \"scatter\", \"uid\": \"1e9f311d-be00-4a8a-9790-d00dfb0aa694\"}, {\"marker\": {\"opacity\": 0.6, \"size\": [355], \"sizemode\": \"area\", \"sizeref\": 360.69375}, \"mode\": \"markers\", \"name\": \"BSKRP\", \"text\": [\"BSKRP\"], \"x\": [2009], \"y\": [355], \"type\": \"scatter\", \"uid\": \"ccbd4db2-adbb-4b8a-acce-091251ca9686\"}, {\"marker\": {\"opacity\": 0.6, \"size\": [42453, 123591, 107386, 75943, 49754, 80909, 54091], \"sizemode\": \"area\", \"sizeref\": 360.69375}, \"mode\": \"markers\", \"name\": \"BSP\", \"text\": [\"BSP\", \"BSP\", \"BSP\", \"BSP\", \"BSP\", \"BSP\", \"BSP\"], \"x\": [1989, 1996, 1998, 1999, 2004, 2009, 2014], \"y\": [42453, 123591, 107386, 75943, 49754, 80909, 54091], \"type\": \"scatter\", \"uid\": \"70d0594e-fd9f-4843-a122-d51e83c37ae2\"}, {\"marker\": {\"opacity\": 0.6, \"size\": [16598], \"sizemode\": \"area\", \"sizeref\": 360.69375}, \"mode\": \"markers\", \"name\": \"CPI\", \"text\": [\"CPI\"], \"x\": [2009], \"y\": [16598], \"type\": \"scatter\", \"uid\": \"7a7dbe5a-0137-470f-a242-0fb4c57d7bfa\"}, {\"marker\": {\"opacity\": 0.6, \"size\": [1787], \"sizemode\": \"area\", \"sizeref\": 360.69375}, \"mode\": \"markers\", \"name\": \"CPI(ML)(L)\", \"text\": [\"CPI(ML)(L)\"], \"x\": [1999], \"y\": [1787], \"type\": \"scatter\", \"uid\": \"ffaa7e75-4ff9-43d8-81d1-1b73600c458a\"}, {\"marker\": {\"opacity\": 0.6, \"size\": [15649, 18466], \"sizemode\": \"area\", \"sizeref\": 360.69375}, \"mode\": \"markers\", \"name\": \"CPM\", \"text\": [\"CPM\", \"CPM\"], \"x\": [1999, 2004], \"y\": [15649, 18466], \"type\": \"scatter\", \"uid\": \"c76fe6e0-80d0-4fc4-82fa-ba9d8bb98b77\"}, {\"marker\": {\"opacity\": 0.6, \"size\": [5660], \"sizemode\": \"area\", \"sizeref\": 360.69375}, \"mode\": \"markers\", \"name\": \"DGPP\", \"text\": [\"DGPP\"], \"x\": [2009], \"y\": [5660], \"type\": \"scatter\", \"uid\": \"db01aab9-f1a0-4df3-bc44-d4e55e289568\"}, {\"marker\": {\"opacity\": 0.6, \"size\": [5566], \"sizemode\": \"area\", \"sizeref\": 360.69375}, \"mode\": \"markers\", \"name\": \"GAAP\", \"text\": [\"GAAP\"], \"x\": [2014], \"y\": [5566], \"type\": \"scatter\", \"uid\": \"df2bcbe8-a0b7-4c53-b58f-a5d7c2622089\"}, {\"marker\": {\"opacity\": 0.6, \"size\": [5031, 878], \"sizemode\": \"area\", \"sizeref\": 360.69375}, \"mode\": \"markers\", \"name\": \"IJP\", \"text\": [\"IJP\", \"IJP\"], \"x\": [2004, 2009], \"y\": [5031, 878], \"type\": \"scatter\", \"uid\": \"f32046c8-6994-49b2-8dfd-4d0f2dbf7b49\"}, {\"marker\": {\"opacity\": 0.6, \"size\": [233144, 661435, 407474, 569942, 415354, 280065, 623182, 643175, 815510], \"sizemode\": \"area\", \"sizeref\": 360.69375}, \"mode\": \"markers\", \"name\": \"INC\", \"text\": [\"INC\", \"INC\", \"INC\", \"INC\", \"INC\", \"INC\", \"INC\", \"INC\", \"INC\"], \"x\": [1977, 1984, 1989, 1996, 1998, 1999, 2004, 2009, 2014], \"y\": [233144, 661435, 407474, 569942, 415354, 280065, 623182, 643175, 815510], \"type\": \"scatter\", \"uid\": \"9fa99c56-2e92-4dbe-875e-99d8ab34c3e1\"}, {\"marker\": {\"opacity\": 0.6, \"size\": [249760], \"sizemode\": \"area\", \"sizeref\": 360.69375}, \"mode\": \"markers\", \"name\": \"INC(I)\", \"text\": [\"INC(I)\"], \"x\": [1980], \"y\": [249760], \"type\": \"scatter\", \"uid\": \"bdce6d82-9e59-4869-a4b4-52b16e22106e\"}, {\"marker\": {\"opacity\": 0.6, \"size\": [194138], \"sizemode\": \"area\", \"sizeref\": 360.69375}, \"mode\": \"markers\", \"name\": \"INC(U)\", \"text\": [\"INC(U)\"], \"x\": [1980], \"y\": [194138], \"type\": \"scatter\", \"uid\": \"589a2837-5395-4b59-99a8-e7be5d16700e\"}, {\"marker\": {\"opacity\": 0.6, \"size\": [590790, 284459, 380951, 100419, 504098, 155448, 151229, 165352, 163790, 223498], \"sizemode\": \"area\", \"sizeref\": 360.69375}, \"mode\": \"markers\", \"name\": \"IND\", \"text\": [\"IND\", \"IND\", \"IND\", \"IND\", \"IND\", \"IND\", \"IND\", \"IND\", \"IND\", \"IND\"], \"x\": [1977, 1980, 1984, 1989, 1996, 1998, 1999, 2004, 2009, 2014], \"y\": [590790, 284459, 380951, 100419, 504098, 155448, 151229, 165352, 163790, 223498], \"type\": \"scatter\", \"uid\": \"507d09c3-1875-4147-a6d7-745c47c4d8bc\"}, {\"marker\": {\"opacity\": 0.6, \"size\": [314357, 366074, 10818], \"sizemode\": \"area\", \"sizeref\": 360.69375}, \"mode\": \"markers\", \"name\": \"JD\", \"text\": [\"JD\", \"JD\", \"JD\"], \"x\": [1989, 1996, 1998], \"y\": [314357, 366074, 10818], \"type\": \"scatter\", \"uid\": \"e9bda751-b3f8-4e42-9151-31cbcfa2286f\"}, {\"marker\": {\"opacity\": 0.6, \"size\": [14421, 1616], \"sizemode\": \"area\", \"sizeref\": 360.69375}, \"mode\": \"markers\", \"name\": \"JD(S)\", \"text\": [\"JD(S)\", \"JD(S)\"], \"x\": [1999, 2004], \"y\": [14421, 1616], \"type\": \"scatter\", \"uid\": \"3bbd3797-1b44-4f96-b0af-b0de03e4932c\"}, {\"marker\": {\"opacity\": 0.6, \"size\": [2193], \"sizemode\": \"area\", \"sizeref\": 360.69375}, \"mode\": \"markers\", \"name\": \"JD(U)\", \"text\": [\"JD(U)\"], \"x\": [1999], \"y\": [2193], \"type\": \"scatter\", \"uid\": \"a62ffaad-19cf-4aeb-b5d2-2eccdd0a58d1\"}, {\"marker\": {\"opacity\": 0.6, \"size\": [20843, 28889, 1519], \"sizemode\": \"area\", \"sizeref\": 360.69375}, \"mode\": \"markers\", \"name\": \"JKAL\", \"text\": [\"JKAL\", \"JKAL\", \"JKAL\"], \"x\": [1998, 1999, 2004], \"y\": [20843, 28889, 1519], \"type\": \"scatter\", \"uid\": \"36fbc93b-7386-4064-8b4b-e9d6e942cf9e\"}, {\"marker\": {\"opacity\": 0.6, \"size\": [9900], \"sizemode\": \"area\", \"sizeref\": 360.69375}, \"mode\": \"markers\", \"name\": \"JKANC\", \"text\": [\"JKANC\"], \"x\": [2009], \"y\": [9900], \"type\": \"scatter\", \"uid\": \"d3504f72-473d-4913-ae32-fcc80f6a855b\"}, {\"marker\": {\"opacity\": 0.6, \"size\": [483192, 493143, 1010243, 71194, 784669, 454481, 493067, 498374, 396713], \"sizemode\": \"area\", \"sizeref\": 360.69375}, \"mode\": \"markers\", \"name\": \"JKN\", \"text\": [\"JKN\", \"JKN\", \"JKN\", \"JKN\", \"JKN\", \"JKN\", \"JKN\", \"JKN\", \"JKN\"], \"x\": [1977, 1980, 1984, 1989, 1998, 1999, 2004, 2009, 2014], \"y\": [483192, 493143, 1010243, 71194, 784669, 454481, 493067, 498374, 396713], \"type\": \"scatter\", \"uid\": \"95e3d5a0-0495-4f10-b1e2-1fbd592e61ad\"}, {\"marker\": {\"opacity\": 0.6, \"size\": [13890, 67619, 73293, 43452], \"sizemode\": \"area\", \"sizeref\": 360.69375}, \"mode\": \"markers\", \"name\": \"JKNPP\", \"text\": [\"JKNPP\", \"JKNPP\", \"JKNPP\", \"JKNPP\"], \"x\": [1999, 2004, 2009, 2014], \"y\": [13890, 67619, 73293, 43452], \"type\": \"scatter\", \"uid\": \"6c878b07-6719-4f9f-87f4-af8489c2ee34\"}, {\"marker\": {\"opacity\": 0.6, \"size\": [646], \"sizemode\": \"area\", \"sizeref\": 360.69375}, \"mode\": \"markers\", \"name\": \"JKP\", \"text\": [\"JKP\"], \"x\": [1984], \"y\": [646], \"type\": \"scatter\", \"uid\": \"f270eb30-fad9-4302-9aeb-7301db509e5f\"}, {\"marker\": {\"opacity\": 0.6, \"size\": [267457, 522760, 732644], \"sizemode\": \"area\", \"sizeref\": 360.69375}, \"mode\": \"markers\", \"name\": \"JKPDP\", \"text\": [\"JKPDP\", \"JKPDP\", \"JKPDP\"], \"x\": [2004, 2009, 2014], \"y\": [267457, 522760, 732644], \"type\": \"scatter\", \"uid\": \"2c9c9018-45ba-4910-a8e8-dfa11fc9ba12\"}, {\"marker\": {\"opacity\": 0.6, \"size\": [1809], \"sizemode\": \"area\", \"sizeref\": 360.69375}, \"mode\": \"markers\", \"name\": \"JMBP\", \"text\": [\"JMBP\"], \"x\": [2014], \"y\": [1809], \"type\": \"scatter\", \"uid\": \"3285d4cd-d0e6-48ee-a54d-a1387f841a52\"}, {\"marker\": {\"opacity\": 0.6, \"size\": [115503], \"sizemode\": \"area\", \"sizeref\": 360.69375}, \"mode\": \"markers\", \"name\": \"JNP\", \"text\": [\"JNP\"], \"x\": [1980], \"y\": [115503], \"type\": \"scatter\", \"uid\": \"63897b3e-d67b-4216-b89c-8910ba588a28\"}, {\"marker\": {\"opacity\": 0.6, \"size\": [11049], \"sizemode\": \"area\", \"sizeref\": 360.69375}, \"mode\": \"markers\", \"name\": \"JNP (JP)\", \"text\": [\"JNP (JP)\"], \"x\": [1989], \"y\": [11049], \"type\": \"scatter\", \"uid\": \"e3fb4170-e8e2-4c2e-b984-30242a9c8f0a\"}, {\"marker\": {\"opacity\": 0.6, \"size\": [12666], \"sizemode\": \"area\", \"sizeref\": 360.69375}, \"mode\": \"markers\", \"name\": \"JP\", \"text\": [\"JP\"], \"x\": [1999], \"y\": [12666], \"type\": \"scatter\", \"uid\": \"5f2255f7-3679-4095-ad5a-21cffd999fe0\"}, {\"marker\": {\"opacity\": 0.6, \"size\": [65403, 71154], \"sizemode\": \"area\", \"sizeref\": 360.69375}, \"mode\": \"markers\", \"name\": \"JPC\", \"text\": [\"JPC\", \"JPC\"], \"x\": [2009, 2014], \"y\": [65403, 71154], \"type\": \"scatter\", \"uid\": \"3fde1cd8-eee8-4b0a-a77d-230fd1fb55c3\"}, {\"marker\": {\"opacity\": 0.6, \"size\": [95149, 22625, 99599], \"sizemode\": \"area\", \"sizeref\": 360.69375}, \"mode\": \"markers\", \"name\": \"JPP\", \"text\": [\"JPP\", \"JPP\", \"JPP\"], \"x\": [1984, 1989, 1996], \"y\": [95149, 22625, 99599], \"type\": \"scatter\", \"uid\": \"509753d2-f103-4c86-9e6b-c8ae48c0065d\"}, {\"marker\": {\"opacity\": 0.6, \"size\": [3080], \"sizemode\": \"area\", \"sizeref\": 360.69375}, \"mode\": \"markers\", \"name\": \"LJNSP\", \"text\": [\"LJNSP\"], \"x\": [2004], \"y\": [3080], \"type\": \"scatter\", \"uid\": \"12d9ee85-7801-4f03-933c-9c4d12e28a5f\"}, {\"marker\": {\"opacity\": 0.6, \"size\": [8230], \"sizemode\": \"area\", \"sizeref\": 360.69375}, \"mode\": \"markers\", \"name\": \"LJP\", \"text\": [\"LJP\"], \"x\": [2009], \"y\": [8230], \"type\": \"scatter\", \"uid\": \"a1a99ebe-2242-432d-acc5-2b725c5c404b\"}, {\"marker\": {\"opacity\": 0.6, \"size\": [2423], \"sizemode\": \"area\", \"sizeref\": 360.69375}, \"mode\": \"markers\", \"name\": \"LKD\", \"text\": [\"LKD\"], \"x\": [1984], \"y\": [2423], \"type\": \"scatter\", \"uid\": \"3f748509-b0af-4231-b936-123b80d87704\"}, {\"marker\": {\"opacity\": 0.6, \"size\": [4846, 133], \"sizemode\": \"area\", \"sizeref\": 360.69375}, \"mode\": \"markers\", \"name\": \"LS\", \"text\": [\"LS\", \"LS\"], \"x\": [1998, 1999], \"y\": [4846, 133], \"type\": \"scatter\", \"uid\": \"08e02e43-fecf-4a36-b807-7c4d5cd4af2a\"}, {\"marker\": {\"opacity\": 0.6, \"size\": [4587], \"sizemode\": \"area\", \"sizeref\": 360.69375}, \"mode\": \"markers\", \"name\": \"NCP\", \"text\": [\"NCP\"], \"x\": [1999], \"y\": [4587], \"type\": \"scatter\", \"uid\": \"40de8c76-53aa-4e45-87fa-78dcf08f1e91\"}, {\"marker\": {\"opacity\": 0.6, \"size\": [31550], \"sizemode\": \"area\", \"sizeref\": 360.69375}, \"mode\": \"markers\", \"name\": \"NOTA\", \"text\": [\"NOTA\"], \"x\": [2014], \"y\": [31550], \"type\": \"scatter\", \"uid\": \"c3fe6539-2ef0-4c8e-8782-9b771d4594a8\"}, {\"marker\": {\"opacity\": 0.6, \"size\": [16219], \"sizemode\": \"area\", \"sizeref\": 360.69375}, \"mode\": \"markers\", \"name\": \"NPAP\", \"text\": [\"NPAP\"], \"x\": [1998], \"y\": [16219], \"type\": \"scatter\", \"uid\": \"2dfbae27-4119-484b-a341-cff5ef1f5d6a\"}, {\"marker\": {\"opacity\": 0.6, \"size\": [1718], \"sizemode\": \"area\", \"sizeref\": 360.69375}, \"mode\": \"markers\", \"name\": \"PBI\", \"text\": [\"PBI\"], \"x\": [1989], \"y\": [1718], \"type\": \"scatter\", \"uid\": \"df569fcb-ee52-46e3-83a2-795730c4eb73\"}, {\"marker\": {\"opacity\": 0.6, \"size\": [2694], \"sizemode\": \"area\", \"sizeref\": 360.69375}, \"mode\": \"markers\", \"name\": \"PRISM\", \"text\": [\"PRISM\"], \"x\": [2014], \"y\": [2694], \"type\": \"scatter\", \"uid\": \"bcc78c56-00ef-4d58-ad2c-9ff700fb4385\"}, {\"marker\": {\"opacity\": 0.6, \"size\": [2761, 2965], \"sizemode\": \"area\", \"sizeref\": 360.69375}, \"mode\": \"markers\", \"name\": \"RJD\", \"text\": [\"RJD\", \"RJD\"], \"x\": [1998, 1999], \"y\": [2761, 2965], \"type\": \"scatter\", \"uid\": \"a6266e11-2de4-41e0-8984-40e4c70a4696\"}, {\"marker\": {\"opacity\": 0.6, \"size\": [3271], \"sizemode\": \"area\", \"sizeref\": 360.69375}, \"mode\": \"markers\", \"name\": \"RKSP\", \"text\": [\"RKSP\"], \"x\": [2009], \"y\": [3271], \"type\": \"scatter\", \"uid\": \"03efd109-02ee-431e-9f02-8e1409e08496\"}, {\"marker\": {\"opacity\": 0.6, \"size\": [886, 1115], \"sizemode\": \"area\", \"sizeref\": 360.69375}, \"mode\": \"markers\", \"name\": \"RLD\", \"text\": [\"RLD\", \"RLD\"], \"x\": [1999, 2004], \"y\": [886, 1115], \"type\": \"scatter\", \"uid\": \"bd9738aa-4beb-42d6-a2e2-b36fa3b1e423\"}, {\"marker\": {\"opacity\": 0.6, \"size\": [2041], \"sizemode\": \"area\", \"sizeref\": 360.69375}, \"mode\": \"markers\", \"name\": \"RNSP\", \"text\": [\"RNSP\"], \"x\": [2009], \"y\": [2041], \"type\": \"scatter\", \"uid\": \"422658e3-1e9f-43d0-ae8d-62c429fa29c9\"}, {\"marker\": {\"opacity\": 0.6, \"size\": [2698, 2579, 2587], \"sizemode\": \"area\", \"sizeref\": 360.69375}, \"mode\": \"markers\", \"name\": \"RPI\", \"text\": [\"RPI\", \"RPI\", \"RPI\"], \"x\": [1998, 2004, 2009], \"y\": [2698, 2579, 2587], \"type\": \"scatter\", \"uid\": \"4be4ea5f-5dee-4bbc-bcf8-89eeec466f86\"}, {\"marker\": {\"opacity\": 0.6, \"size\": [356], \"sizemode\": \"area\", \"sizeref\": 360.69375}, \"mode\": \"markers\", \"name\": \"RPI(A)\", \"text\": [\"RPI(A)\"], \"x\": [2009], \"y\": [356], \"type\": \"scatter\", \"uid\": \"472026a7-7e79-4868-a549-206828ea25a2\"}, {\"marker\": {\"opacity\": 0.6, \"size\": [4606, 684], \"sizemode\": \"area\", \"sizeref\": 360.69375}, \"mode\": \"markers\", \"name\": \"SAP\", \"text\": [\"SAP\", \"SAP\"], \"x\": [2004, 2009], \"y\": [4606, 684], \"type\": \"scatter\", \"uid\": \"5bb4080b-1e1c-4519-814e-45ff03d02e20\"}, {\"marker\": {\"opacity\": 0.6, \"size\": [1265, 6042], \"sizemode\": \"area\", \"sizeref\": 360.69375}, \"mode\": \"markers\", \"name\": \"SDP\", \"text\": [\"SDP\", \"SDP\"], \"x\": [2004, 2014], \"y\": [1265, 6042], \"type\": \"scatter\", \"uid\": \"dba178e8-4892-4526-a42d-1e48218f716c\"}, {\"marker\": {\"opacity\": 0.6, \"size\": [10274, 3288], \"sizemode\": \"area\", \"sizeref\": 360.69375}, \"mode\": \"markers\", \"name\": \"SJP(R)\", \"text\": [\"SJP(R)\", \"SJP(R)\"], \"x\": [1999, 2004], \"y\": [10274, 3288], \"type\": \"scatter\", \"uid\": \"5f4d62dd-68c7-4948-8512-d96755a0366d\"}, {\"marker\": {\"opacity\": 0.6, \"size\": [4353, 5883, 2036, 6843], \"sizemode\": \"area\", \"sizeref\": 360.69375}, \"mode\": \"markers\", \"name\": \"SP\", \"text\": [\"SP\", \"SP\", \"SP\", \"SP\"], \"x\": [1998, 2004, 2009, 2014], \"y\": [4353, 5883, 2036, 6843], \"type\": \"scatter\", \"uid\": \"d1ea8c2a-dc4c-43fe-86c7-d7ad884d6376\"}, {\"marker\": {\"opacity\": 0.6, \"size\": [1180, 3041], \"sizemode\": \"area\", \"sizeref\": 360.69375}, \"mode\": \"markers\", \"name\": \"SPI\", \"text\": [\"SPI\", \"SPI\"], \"x\": [1999, 2004], \"y\": [1180, 3041], \"type\": \"scatter\", \"uid\": \"9c297947-1bfc-4f68-8f13-3ad586693200\"}, {\"marker\": {\"opacity\": 0.6, \"size\": [928], \"sizemode\": \"area\", \"sizeref\": 360.69375}, \"mode\": \"markers\", \"name\": \"SPSP\", \"text\": [\"SPSP\"], \"x\": [1999], \"y\": [928], \"type\": \"scatter\", \"uid\": \"c6123ea0-6a75-48e9-bf33-dd70b99650b8\"}], {\"hovermode\": \"closest\", \"margin\": {\"b\": 50, \"pad\": 5, \"t\": 50}, \"showlegend\": true, \"title\": {\"text\": \"Peoples votes for each party\"}, \"xaxis\": {\"autorange\": false, \"range\": [\"1977\", \"2014\"], \"title\": {\"text\": \"Years\"}}, \"yaxis\": {\"autorange\": false, \"range\": [93.1, 1615908.0], \"title\": {\"text\": \"Total Number of Votes\"}}}, {\"showLink\": false, \"linkText\": \"Export to plot.ly\", \"plotlyServerURL\": \"https://plot.ly\"})});</script><script type=\"text/javascript\">window.addEventListener(\"resize\", function(){window._Plotly.Plots.resize(document.getElementById(\"289f2cbc-fc68-4ef2-bdbf-43440d2b433c\"));});</script>"
      ]
     },
     "metadata": {},
     "output_type": "display_data"
    }
   ],
   "source": [
    "d.observe(get_plot, names=\"value\")\n",
    "display(d)"
   ]
  },
  {
   "cell_type": "code",
   "execution_count": null,
   "metadata": {},
   "outputs": [],
   "source": []
  },
  {
   "cell_type": "code",
   "execution_count": null,
   "metadata": {
    "scrolled": true
   },
   "outputs": [],
   "source": []
  },
  {
   "cell_type": "code",
   "execution_count": null,
   "metadata": {},
   "outputs": [],
   "source": []
  },
  {
   "cell_type": "code",
   "execution_count": null,
   "metadata": {},
   "outputs": [],
   "source": []
  }
 ],
 "metadata": {
  "kernelspec": {
   "display_name": "Python 3",
   "language": "python",
   "name": "python3"
  },
  "language_info": {
   "codemirror_mode": {
    "name": "ipython",
    "version": 3
   },
   "file_extension": ".py",
   "mimetype": "text/x-python",
   "name": "python",
   "nbconvert_exporter": "python",
   "pygments_lexer": "ipython3",
   "version": "3.7.1"
  }
 },
 "nbformat": 4,
 "nbformat_minor": 2
}
